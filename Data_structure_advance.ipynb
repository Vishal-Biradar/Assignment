{
  "nbformat": 4,
  "nbformat_minor": 0,
  "metadata": {
    "colab": {
      "provenance": []
    },
    "kernelspec": {
      "name": "python3",
      "display_name": "Python 3"
    },
    "language_info": {
      "name": "python"
    }
  },
  "cells": [
    {
      "cell_type": "markdown",
      "source": [
        "# **ASSIGNMENT**"
      ],
      "metadata": {
        "id": "f-d-L3aUGrvi"
      }
    },
    {
      "cell_type": "markdown",
      "source": [
        "1. Write a code to reverse a string."
      ],
      "metadata": {
        "id": "fr22HtcHGypD"
      }
    },
    {
      "cell_type": "code",
      "execution_count": 1,
      "metadata": {
        "colab": {
          "base_uri": "https://localhost:8080/"
        },
        "id": "rGxbWnlbE66k",
        "outputId": "fb574915-a8e5-4690-ebf0-b4ca7a495089"
      },
      "outputs": [
        {
          "output_type": "stream",
          "name": "stdout",
          "text": [
            "olleh\n"
          ]
        }
      ],
      "source": [
        "def reverse_string(s):\n",
        "    return s[::-1]\n",
        "\n",
        "# Example usage:\n",
        "input_string = \"hello\"\n",
        "print(reverse_string(input_string))  # Output: \"olleh\""
      ]
    },
    {
      "cell_type": "markdown",
      "source": [
        "2. Write a code to count the number of vowels in a string."
      ],
      "metadata": {
        "id": "X32RGvXbG5OO"
      }
    },
    {
      "cell_type": "code",
      "source": [
        "def count_vowels(s):\n",
        "    vowels = \"aeiouAEIOU\"\n",
        "    return sum(1 for char in s if char in vowels)\n",
        "\n",
        "# Example usage:\n",
        "input_string = \"hello world\"\n",
        "print(count_vowels(input_string))  # Output: 3"
      ],
      "metadata": {
        "colab": {
          "base_uri": "https://localhost:8080/"
        },
        "id": "9PBSE-nGG2WA",
        "outputId": "39e4eeea-6bc8-4076-9733-82bb1ca6bed7"
      },
      "execution_count": 2,
      "outputs": [
        {
          "output_type": "stream",
          "name": "stdout",
          "text": [
            "3\n"
          ]
        }
      ]
    },
    {
      "cell_type": "markdown",
      "source": [
        "3. Write a code to check if a given string is a palindrome or not."
      ],
      "metadata": {
        "id": "Fzi2oUnzG9Pw"
      }
    },
    {
      "cell_type": "code",
      "source": [
        "def is_palindrome(s):\n",
        "    return s == s[::-1]\n",
        "\n",
        "# Example usage:\n",
        "input_string = \"madam\"\n",
        "print(is_palindrome(input_string))  # Output: True"
      ],
      "metadata": {
        "colab": {
          "base_uri": "https://localhost:8080/"
        },
        "id": "p9wICxGUG7QM",
        "outputId": "61836e0a-4a6f-4737-a27b-d9288a69ca9a"
      },
      "execution_count": 3,
      "outputs": [
        {
          "output_type": "stream",
          "name": "stdout",
          "text": [
            "True\n"
          ]
        }
      ]
    },
    {
      "cell_type": "markdown",
      "source": [
        "4. Write a code to check if two given strings are anagrams of each other."
      ],
      "metadata": {
        "id": "QT15TE_oHGZw"
      }
    },
    {
      "cell_type": "code",
      "source": [
        "def are_anagrams(s1, s2):\n",
        "    return sorted(s1) == sorted(s2)\n",
        "\n",
        "# Example usage:\n",
        "str1 = \"listen\"\n",
        "str2 = \"silent\"\n",
        "print(are_anagrams(str1, str2))  # Output: True"
      ],
      "metadata": {
        "colab": {
          "base_uri": "https://localhost:8080/"
        },
        "id": "0k5fbQ_YHCCa",
        "outputId": "8486eacb-fa57-4494-9ff2-3fbb264b0c3e"
      },
      "execution_count": 4,
      "outputs": [
        {
          "output_type": "stream",
          "name": "stdout",
          "text": [
            "True\n"
          ]
        }
      ]
    },
    {
      "cell_type": "markdown",
      "source": [
        "5. Write a code to find all occurrences of a given substring within another string."
      ],
      "metadata": {
        "id": "4vKPvAMSHKlD"
      }
    },
    {
      "cell_type": "code",
      "source": [
        "def find_substring_occurrences(s, sub):\n",
        "    return [i for i in range(len(s)) if s.startswith(sub, i)]\n",
        "\n",
        "# Example usage:\n",
        "main_string = \"ababab\"\n",
        "substring = \"ab\"\n",
        "print(find_substring_occurrences(main_string, substring))  # Output: [0, 2, 4]"
      ],
      "metadata": {
        "colab": {
          "base_uri": "https://localhost:8080/"
        },
        "id": "jZgvAtOGHIdG",
        "outputId": "a285309f-0655-4949-8614-f6370045b817"
      },
      "execution_count": 5,
      "outputs": [
        {
          "output_type": "stream",
          "name": "stdout",
          "text": [
            "[0, 2, 4]\n"
          ]
        }
      ]
    },
    {
      "cell_type": "markdown",
      "source": [
        "6. Write a code to perform basic string compression using the counts of repeated characters."
      ],
      "metadata": {
        "id": "6m8p7R5bHTsP"
      }
    },
    {
      "cell_type": "code",
      "source": [
        "def compress_string(s):\n",
        "    compressed = []\n",
        "    count = 1\n",
        "    for i in range(1, len(s)):\n",
        "        if s[i] == s[i - 1]:\n",
        "            count += 1\n",
        "        else:\n",
        "            compressed.append(f\"{s[i - 1]}{count}\")\n",
        "            count = 1\n",
        "    compressed.append(f\"{s[-1]}{count}\")\n",
        "    return \"\".join(compressed)\n",
        "\n",
        "# Example usage:\n",
        "input_string = \"aaabbc\"\n",
        "print(compress_string(input_string))  # Output: \"a3b2c1\""
      ],
      "metadata": {
        "colab": {
          "base_uri": "https://localhost:8080/"
        },
        "id": "ZaBRaXPgHO7N",
        "outputId": "6b0f03f2-dac8-4520-fd1e-1d818e1b419f"
      },
      "execution_count": 6,
      "outputs": [
        {
          "output_type": "stream",
          "name": "stdout",
          "text": [
            "a3b2c1\n"
          ]
        }
      ]
    },
    {
      "cell_type": "markdown",
      "source": [
        "7. Write a code to determine if a string has all unique characters."
      ],
      "metadata": {
        "id": "F_yniC78HY5x"
      }
    },
    {
      "cell_type": "code",
      "source": [
        "def has_unique_chars(s):\n",
        "    return len(s) == len(set(s))\n",
        "\n",
        "# Example usage:\n",
        "input_string = \"abcdef\"\n",
        "print(has_unique_chars(input_string))  # Output: True"
      ],
      "metadata": {
        "colab": {
          "base_uri": "https://localhost:8080/"
        },
        "id": "H80n7AGDHV52",
        "outputId": "5eed03dd-5d10-4cc5-b310-2df1a4b37f5d"
      },
      "execution_count": 7,
      "outputs": [
        {
          "output_type": "stream",
          "name": "stdout",
          "text": [
            "True\n"
          ]
        }
      ]
    },
    {
      "cell_type": "markdown",
      "source": [
        "8. Write a code to convert a given string to uppercase or lowercase."
      ],
      "metadata": {
        "id": "oqPtY3lUHk5Q"
      }
    },
    {
      "cell_type": "code",
      "source": [
        "def convert_case(s, to_upper=True):\n",
        "    return s.upper() if to_upper else s.lower()\n",
        "\n",
        "# Example usage:\n",
        "input_string = \"Hello World\"\n",
        "print(convert_case(input_string, to_upper=True))  # Output: \"HELLO WORLD\"\n",
        "print(convert_case(input_string, to_upper=False))  # Output: \"hello world\""
      ],
      "metadata": {
        "colab": {
          "base_uri": "https://localhost:8080/"
        },
        "id": "ZOYWKj9UHbd6",
        "outputId": "0f5929a9-c80f-49aa-bfb4-1d213efb4798"
      },
      "execution_count": 8,
      "outputs": [
        {
          "output_type": "stream",
          "name": "stdout",
          "text": [
            "HELLO WORLD\n",
            "hello world\n"
          ]
        }
      ]
    },
    {
      "cell_type": "markdown",
      "source": [
        "9. Write a code to count the number of words in a string."
      ],
      "metadata": {
        "id": "HqCajuWDH1Bn"
      }
    },
    {
      "cell_type": "code",
      "source": [
        "def count_words(s):\n",
        "    return len(s.split())\n",
        "\n",
        "# Example usage:\n",
        "input_string = \"hello world, how are you?\"\n",
        "print(count_words(input_string))  # Output: 5"
      ],
      "metadata": {
        "colab": {
          "base_uri": "https://localhost:8080/"
        },
        "id": "QsUfLmgiHnC4",
        "outputId": "c380c295-f6ed-4600-86f4-cea9587460a4"
      },
      "execution_count": 9,
      "outputs": [
        {
          "output_type": "stream",
          "name": "stdout",
          "text": [
            "5\n"
          ]
        }
      ]
    },
    {
      "cell_type": "markdown",
      "source": [
        "10. Write a code to concatenate two strings without using the + operator."
      ],
      "metadata": {
        "id": "hhRFNZ42H5BI"
      }
    },
    {
      "cell_type": "code",
      "source": [
        "def concatenate_strings(s1, s2):\n",
        "    return f\"{s1}{s2}\"\n",
        "\n",
        "# Example usage:\n",
        "str1 = \"hello\"\n",
        "str2 = \"world\"\n",
        "print(concatenate_strings(str1, str2))  # Output: \"helloworld\""
      ],
      "metadata": {
        "colab": {
          "base_uri": "https://localhost:8080/"
        },
        "id": "GTsy1OmSH3Hm",
        "outputId": "51299dd0-fe84-4760-fa5c-a69cd2328958"
      },
      "execution_count": 10,
      "outputs": [
        {
          "output_type": "stream",
          "name": "stdout",
          "text": [
            "helloworld\n"
          ]
        }
      ]
    },
    {
      "cell_type": "markdown",
      "source": [
        "11. Write a code to remove all occurrences of a specific element from a list."
      ],
      "metadata": {
        "id": "LZzwmJ6oIHQO"
      }
    },
    {
      "cell_type": "code",
      "source": [
        "def remove_element(lst, element):\n",
        "    return [x for x in lst if x != element]\n",
        "\n",
        "# Example usage:\n",
        "input_list = [1, 2, 3, 4, 3, 5]\n",
        "element_to_remove = 3\n",
        "print(remove_element(input_list, element_to_remove))  # Output: [1, 2, 4, 5]"
      ],
      "metadata": {
        "colab": {
          "base_uri": "https://localhost:8080/"
        },
        "id": "gnQOTVdMH6-X",
        "outputId": "b9c45f06-9d4a-41ef-b641-36bd191bb956"
      },
      "execution_count": 11,
      "outputs": [
        {
          "output_type": "stream",
          "name": "stdout",
          "text": [
            "[1, 2, 4, 5]\n"
          ]
        }
      ]
    },
    {
      "cell_type": "markdown",
      "source": [
        "12. Implement a code to find the second largest number in a given list of integers."
      ],
      "metadata": {
        "id": "BBqr-N9AINhP"
      }
    },
    {
      "cell_type": "code",
      "source": [
        "def second_largest(lst):\n",
        "    unique_numbers = list(set(lst))\n",
        "    unique_numbers.sort()\n",
        "    return unique_numbers[-2] if len(unique_numbers) > 1 else None\n",
        "\n",
        "# Example usage:\n",
        "input_list = [5, 1, 3, 2, 4, 4]\n",
        "print(second_largest(input_list))  # Output: 4"
      ],
      "metadata": {
        "colab": {
          "base_uri": "https://localhost:8080/"
        },
        "id": "ZGmn-YlvIKOU",
        "outputId": "594655ec-741c-4fda-d8d6-64b053f8a635"
      },
      "execution_count": 12,
      "outputs": [
        {
          "output_type": "stream",
          "name": "stdout",
          "text": [
            "4\n"
          ]
        }
      ]
    },
    {
      "cell_type": "markdown",
      "source": [
        "13. Create a code to count the occurrences of each element in a list and return a dictionary with elements as keys and their counts as values."
      ],
      "metadata": {
        "id": "Pl8U8_AWIU7o"
      }
    },
    {
      "cell_type": "code",
      "source": [
        "from collections import Counter\n",
        "\n",
        "def count_occurrences(lst):\n",
        "    return dict(Counter(lst))\n",
        "\n",
        "# Example usage:\n",
        "input_list = [1, 2, 2, 3, 3, 3]\n",
        "print(count_occurrences(input_list))  # Output: {1: 1, 2: 2, 3: 3}"
      ],
      "metadata": {
        "colab": {
          "base_uri": "https://localhost:8080/"
        },
        "id": "1jHJZqddISUb",
        "outputId": "8c21c5a4-0786-4889-f275-3d076daadd25"
      },
      "execution_count": 13,
      "outputs": [
        {
          "output_type": "stream",
          "name": "stdout",
          "text": [
            "{1: 1, 2: 2, 3: 3}\n"
          ]
        }
      ]
    },
    {
      "cell_type": "markdown",
      "source": [
        "14. Write a code to reverse a list in-place without using any built-in reverse functions."
      ],
      "metadata": {
        "id": "YNl3DvJ7Icku"
      }
    },
    {
      "cell_type": "code",
      "source": [
        "def reverse_list(lst):\n",
        "    left, right = 0, len(lst) - 1\n",
        "    while left < right:\n",
        "        lst[left], lst[right] = lst[right], lst[left]\n",
        "        left += 1\n",
        "        right -= 1\n",
        "    return lst\n",
        "\n",
        "# Example usage:\n",
        "input_list = [1, 2, 3, 4, 5]\n",
        "print(reverse_list(input_list))  # Output: [5, 4, 3, 2, 1]"
      ],
      "metadata": {
        "colab": {
          "base_uri": "https://localhost:8080/"
        },
        "id": "GSnhuR61IZqI",
        "outputId": "de79f527-15bc-4d1c-bd6c-0f5a21eff8b9"
      },
      "execution_count": 14,
      "outputs": [
        {
          "output_type": "stream",
          "name": "stdout",
          "text": [
            "[5, 4, 3, 2, 1]\n"
          ]
        }
      ]
    },
    {
      "cell_type": "markdown",
      "source": [
        "15. Implement a code to find and remove duplicates from a list while preserving the original order."
      ],
      "metadata": {
        "id": "VR68pyV9IhVk"
      }
    },
    {
      "cell_type": "code",
      "source": [
        "def remove_duplicates(lst):\n",
        "    seen = set()\n",
        "    return [x for x in lst if not (x in seen or seen.add(x))]\n",
        "\n",
        "# Example usage:\n",
        "input_list = [1, 2, 2, 3, 4, 3, 5]\n",
        "print(remove_duplicates(input_list))  # Output: [1, 2, 3, 4, 5]"
      ],
      "metadata": {
        "colab": {
          "base_uri": "https://localhost:8080/"
        },
        "id": "Yw0V8xc2IfF3",
        "outputId": "85cae622-419d-4617-9876-7ab5de78ba9b"
      },
      "execution_count": 15,
      "outputs": [
        {
          "output_type": "stream",
          "name": "stdout",
          "text": [
            "[1, 2, 3, 4, 5]\n"
          ]
        }
      ]
    },
    {
      "cell_type": "markdown",
      "source": [
        "16. Create a code to check if a given list is sorted (either in ascending or descending order) or not."
      ],
      "metadata": {
        "id": "7dQnh1reImRc"
      }
    },
    {
      "cell_type": "code",
      "source": [
        "def is_sorted(lst):\n",
        "    return lst == sorted(lst) or lst == sorted(lst, reverse=True)\n",
        "\n",
        "# Example usage:\n",
        "input_list = [1, 2, 3, 4]\n",
        "print(is_sorted(input_list))  # Output: True"
      ],
      "metadata": {
        "colab": {
          "base_uri": "https://localhost:8080/"
        },
        "id": "nqhz27KcIjZp",
        "outputId": "c463271a-a823-4492-bb13-27a06cb93c5a"
      },
      "execution_count": 16,
      "outputs": [
        {
          "output_type": "stream",
          "name": "stdout",
          "text": [
            "True\n"
          ]
        }
      ]
    },
    {
      "cell_type": "markdown",
      "source": [
        "17. Write a code to merge two sorted lists into a single sorted list."
      ],
      "metadata": {
        "id": "HS12OkwqIs_u"
      }
    },
    {
      "cell_type": "code",
      "source": [
        "def merge_sorted_lists(lst1, lst2):\n",
        "    return sorted(lst1 + lst2)\n",
        "\n",
        "# Example usage:\n",
        "list1 = [1, 3, 5]\n",
        "list2 = [2, 4, 6]\n",
        "print(merge_sorted_lists(list1, list2))  # Output: [1, 2, 3, 4, 5, 6]"
      ],
      "metadata": {
        "colab": {
          "base_uri": "https://localhost:8080/"
        },
        "id": "icmtzWWIIpZ4",
        "outputId": "eb1ab80a-d153-40af-9532-c226cbce78d3"
      },
      "execution_count": 17,
      "outputs": [
        {
          "output_type": "stream",
          "name": "stdout",
          "text": [
            "[1, 2, 3, 4, 5, 6]\n"
          ]
        }
      ]
    },
    {
      "cell_type": "markdown",
      "source": [
        "18. Implement a code to find the intersection of two given lists."
      ],
      "metadata": {
        "id": "Vh2e2W1OIwCz"
      }
    },
    {
      "cell_type": "code",
      "source": [
        "def find_intersection(lst1, lst2):\n",
        "    return list(set(lst1) & set(lst2))\n",
        "\n",
        "# Example usage:\n",
        "list1 = [1, 2, 3]\n",
        "list2 = [2, 3, 4]\n",
        "print(find_intersection(list1, list2))  # Output: [2, 3]"
      ],
      "metadata": {
        "colab": {
          "base_uri": "https://localhost:8080/"
        },
        "id": "Cy4EjKX7IvWY",
        "outputId": "82961f1d-c7f5-4245-81cc-ca327d5dee24"
      },
      "execution_count": 18,
      "outputs": [
        {
          "output_type": "stream",
          "name": "stdout",
          "text": [
            "[2, 3]\n"
          ]
        }
      ]
    },
    {
      "cell_type": "markdown",
      "source": [
        "19. Create a code to find the union of two lists without duplicates."
      ],
      "metadata": {
        "id": "jUovcv7SJKCu"
      }
    },
    {
      "cell_type": "code",
      "source": [
        "def find_union(lst1, lst2):\n",
        "    return list(set(lst1) | set(lst2))\n",
        "\n",
        "# Example usage:\n",
        "list1 = [1, 2, 3]\n",
        "list2 = [3, 4, 5]\n",
        "print(find_union(list1, list2))  # Output: [1, 2, 3, 4, 5]"
      ],
      "metadata": {
        "colab": {
          "base_uri": "https://localhost:8080/"
        },
        "id": "QeC3t56mI4bs",
        "outputId": "c6ae4e2e-e63f-4275-f606-cb863dd6b0fb"
      },
      "execution_count": 19,
      "outputs": [
        {
          "output_type": "stream",
          "name": "stdout",
          "text": [
            "[1, 2, 3, 4, 5]\n"
          ]
        }
      ]
    },
    {
      "cell_type": "markdown",
      "source": [
        "20. Write a code to shuffle a given list randomly without using any built-in shuffle functions."
      ],
      "metadata": {
        "id": "KxOwGh2fJOjj"
      }
    },
    {
      "cell_type": "code",
      "source": [
        "import random\n",
        "\n",
        "def shuffle_list(lst):\n",
        "    for i in range(len(lst) - 1, 0, -1):\n",
        "        j = random.randint(0, i)\n",
        "        lst[i], lst[j] = lst[j], lst[i]\n",
        "    return lst\n",
        "\n",
        "# Example usage:\n",
        "input_list = [1, 2, 3, 4, 5]\n",
        "print(shuffle_list(input_list))  # Output: Shuffled version of the list"
      ],
      "metadata": {
        "colab": {
          "base_uri": "https://localhost:8080/"
        },
        "id": "zNT5rIY1JMpL",
        "outputId": "0668be1a-b33f-42ae-a713-e7884a3ecaa4"
      },
      "execution_count": 20,
      "outputs": [
        {
          "output_type": "stream",
          "name": "stdout",
          "text": [
            "[5, 1, 3, 2, 4]\n"
          ]
        }
      ]
    },
    {
      "cell_type": "markdown",
      "source": [
        "21. Write a code that takes two tuples as input and returns a new tuple containing elements that are common to both input tuples."
      ],
      "metadata": {
        "id": "S2uL4l34JZwS"
      }
    },
    {
      "cell_type": "code",
      "source": [
        "def common_elements(t1, t2):\n",
        "    return tuple(set(t1) & set(t2))\n",
        "\n",
        "# Example usage:\n",
        "tuple1 = (1, 2, 3, 4)\n",
        "tuple2 = (3, 4, 5, 6)\n",
        "print(common_elements(tuple1, tuple2))  # Output: (3, 4)"
      ],
      "metadata": {
        "colab": {
          "base_uri": "https://localhost:8080/"
        },
        "id": "ou0k6gLOJRXz",
        "outputId": "f9700013-2ba4-4064-913f-3357ea9252e5"
      },
      "execution_count": 21,
      "outputs": [
        {
          "output_type": "stream",
          "name": "stdout",
          "text": [
            "(3, 4)\n"
          ]
        }
      ]
    },
    {
      "cell_type": "markdown",
      "source": [
        "22. Create a code that prompts the user to enter two sets of integers separated by commas. Then, print the intersection of these two sets."
      ],
      "metadata": {
        "id": "1gnPv4O9JlmU"
      }
    },
    {
      "cell_type": "code",
      "source": [
        "def intersection_of_sets():\n",
        "    set1 = set(map(int, input(\"Enter integers for Set 1 (comma-separated): \").split(',')))\n",
        "    set2 = set(map(int, input(\"Enter integers for Set 2 (comma-separated): \").split(',')))\n",
        "    print(\"Intersection:\", set1 & set2)\n",
        "\n",
        "# Example usage:\n",
        "# User enters: 1,2,3 for Set 1 and 2,3,4 for Set 2\n",
        "# Output: Intersection: {2, 3}\n",
        "intersection_of_sets()"
      ],
      "metadata": {
        "colab": {
          "base_uri": "https://localhost:8080/"
        },
        "id": "WdK9i-2pJee9",
        "outputId": "b6d0e8c3-2ee8-486c-f750-2bf03bfa3f43"
      },
      "execution_count": 22,
      "outputs": [
        {
          "output_type": "stream",
          "name": "stdout",
          "text": [
            "Enter integers for Set 1 (comma-separated): 1,2,3\n",
            "Enter integers for Set 2 (comma-separated): 2,3,4\n",
            "Intersection: {2, 3}\n"
          ]
        }
      ]
    },
    {
      "cell_type": "markdown",
      "source": [
        "23. Write a code to concatenate two tuples. The function should take two tuples as input and return a new tuple containing elements from both input tuples."
      ],
      "metadata": {
        "id": "qZU6ilhjJ0D9"
      }
    },
    {
      "cell_type": "code",
      "source": [
        "def concatenate_tuples(t1, t2):\n",
        "    return t1 + t2\n",
        "\n",
        "# Example usage:\n",
        "tuple1 = (1, 2)\n",
        "tuple2 = (3, 4)\n",
        "print(concatenate_tuples(tuple1, tuple2))  # Output: (1, 2, 3, 4)"
      ],
      "metadata": {
        "colab": {
          "base_uri": "https://localhost:8080/"
        },
        "id": "Xk33CUIPJnyH",
        "outputId": "52e42c79-d4e0-412c-fa33-c7c334c76da8"
      },
      "execution_count": 23,
      "outputs": [
        {
          "output_type": "stream",
          "name": "stdout",
          "text": [
            "(1, 2, 3, 4)\n"
          ]
        }
      ]
    },
    {
      "cell_type": "markdown",
      "source": [
        "24. Develop a code that prompts the user to input two sets of strings. Then, print the elements that are present in the first set but not in the second set.\n"
      ],
      "metadata": {
        "id": "wmJGYlmCJ5wK"
      }
    },
    {
      "cell_type": "code",
      "source": [
        "def difference_of_sets():\n",
        "    set1 = set(input(\"Enter strings for Set 1 (comma-separated): \").split(','))\n",
        "    set2 = set(input(\"Enter strings for Set 2 (comma-separated): \").split(','))\n",
        "    print(\"Difference (Set 1 - Set 2):\", set1 - set2)\n",
        "\n",
        "# Example usage:\n",
        "# User enters: a,b,c for Set 1 and b,c,d for Set 2\n",
        "# Output: Difference (Set 1 - Set 2): {'a'}\n",
        "difference_of_sets()"
      ],
      "metadata": {
        "colab": {
          "base_uri": "https://localhost:8080/"
        },
        "id": "BWN0FuHYJ2hm",
        "outputId": "e1cb22b9-2a71-4927-fd41-f6ea8ffd56c4"
      },
      "execution_count": 24,
      "outputs": [
        {
          "output_type": "stream",
          "name": "stdout",
          "text": [
            "Enter strings for Set 1 (comma-separated): a,b,c\n",
            "Enter strings for Set 2 (comma-separated): b,c,d\n",
            "Difference (Set 1 - Set 2): {'a'}\n"
          ]
        }
      ]
    },
    {
      "cell_type": "markdown",
      "source": [
        "25. Create a code that takes a tuple and two integers as input. The function should return a new tuple containing elements from the original tuple within the specified range of indices."
      ],
      "metadata": {
        "id": "FqU1GM9cKL6F"
      }
    },
    {
      "cell_type": "code",
      "source": [
        "def slice_tuple(t, start, end):\n",
        "    return t[start:end]\n",
        "\n",
        "# Example usage:\n",
        "input_tuple = (0, 1, 2, 3, 4, 5)\n",
        "start_index = 1\n",
        "end_index = 4\n",
        "print(slice_tuple(input_tuple, start_index, end_index))  # Output: (1, 2, 3)"
      ],
      "metadata": {
        "colab": {
          "base_uri": "https://localhost:8080/"
        },
        "id": "wQjnC65JJ-eD",
        "outputId": "9244eca8-b9a6-4771-b684-f6e8b24e05b4"
      },
      "execution_count": 25,
      "outputs": [
        {
          "output_type": "stream",
          "name": "stdout",
          "text": [
            "(1, 2, 3)\n"
          ]
        }
      ]
    },
    {
      "cell_type": "markdown",
      "source": [
        "26. Write a code that prompts the user to input two sets of characters. Then, print the union of these two sets."
      ],
      "metadata": {
        "id": "8pb2uQQpKQiB"
      }
    },
    {
      "cell_type": "code",
      "source": [
        "def union_of_sets():\n",
        "    set1 = set(input(\"Enter characters for Set 1 (comma-separated): \").split(','))\n",
        "    set2 = set(input(\"Enter characters for Set 2 (comma-separated): \").split(','))\n",
        "    print(\"Union:\", set1 | set2)\n",
        "\n",
        "# Example usage:\n",
        "# User enters: a,b,c for Set 1 and c,d,e for Set 2\n",
        "# Output: Union: {'a', 'b', 'c', 'd', 'e'}\n",
        "union_of_sets()"
      ],
      "metadata": {
        "colab": {
          "base_uri": "https://localhost:8080/"
        },
        "id": "Xtfk4YnpKN94",
        "outputId": "8936af78-4220-4aeb-f436-b6abbb45d7e8"
      },
      "execution_count": 26,
      "outputs": [
        {
          "output_type": "stream",
          "name": "stdout",
          "text": [
            "Enter characters for Set 1 (comma-separated): a,b,c\n",
            "Enter characters for Set 2 (comma-separated): c,d,e\n",
            "Union: {'c', 'd', 'a', 'b', 'e'}\n"
          ]
        }
      ]
    },
    {
      "cell_type": "markdown",
      "source": [
        "27. Develop a code that takes a tuple of integers as input. The function should return the maximum and minimum values from the tuple using tuple unpacking."
      ],
      "metadata": {
        "id": "XEVkMoG6KyAB"
      }
    },
    {
      "cell_type": "code",
      "source": [
        "def max_min_tuple(t):\n",
        "    return max(t), min(t)\n",
        "\n",
        "# Example usage:\n",
        "input_tuple = (1, 3, 5, 7)\n",
        "print(max_min_tuple(input_tuple))  # Output: (7, 1)"
      ],
      "metadata": {
        "colab": {
          "base_uri": "https://localhost:8080/"
        },
        "id": "4LeG1YS7KZlq",
        "outputId": "f95dff55-0a02-4d0e-fd8a-d24102baab03"
      },
      "execution_count": 27,
      "outputs": [
        {
          "output_type": "stream",
          "name": "stdout",
          "text": [
            "(7, 1)\n"
          ]
        }
      ]
    },
    {
      "cell_type": "markdown",
      "source": [
        "28. Create a code that defines two sets of integers. Then, print the union, intersection, and difference of these two sets."
      ],
      "metadata": {
        "id": "Jlowe6P6K5fo"
      }
    },
    {
      "cell_type": "code",
      "source": [
        "def set_operations(set1, set2):\n",
        "    print(\"Union:\", set1 | set2)\n",
        "    print(\"Intersection:\", set1 & set2)\n",
        "    print(\"Difference (Set1 - Set2):\", set1 - set2)\n",
        "\n",
        "# Example usage:\n",
        "set1 = {1, 2, 3}\n",
        "set2 = {2, 3, 4}\n",
        "set_operations(set1, set2)\n",
        "# Output:\n",
        "# Union: {1, 2, 3, 4}\n",
        "# Intersection: {2, 3}\n",
        "# Difference (Set1 - Set2): {1}"
      ],
      "metadata": {
        "colab": {
          "base_uri": "https://localhost:8080/"
        },
        "id": "hpTrrNL2K0hH",
        "outputId": "53bc57ee-f012-4243-9bb9-f43c326e8420"
      },
      "execution_count": 28,
      "outputs": [
        {
          "output_type": "stream",
          "name": "stdout",
          "text": [
            "Union: {1, 2, 3, 4}\n",
            "Intersection: {2, 3}\n",
            "Difference (Set1 - Set2): {1}\n"
          ]
        }
      ]
    },
    {
      "cell_type": "markdown",
      "source": [
        "29. Write a code that takes a tuple and an element as input. The function should return the count of occurrences of the given element in the tuple."
      ],
      "metadata": {
        "id": "rigMOZGtK-0i"
      }
    },
    {
      "cell_type": "code",
      "source": [
        "def count_occurrences_in_tuple(t, element):\n",
        "    return t.count(element)\n",
        "\n",
        "# Example usage:\n",
        "input_tuple = (1, 2, 2, 3, 2)\n",
        "element = 2\n",
        "print(count_occurrences_in_tuple(input_tuple, element))  # Output: 3"
      ],
      "metadata": {
        "colab": {
          "base_uri": "https://localhost:8080/"
        },
        "id": "T7hIduuJK7uD",
        "outputId": "3f25f794-6b87-4bc8-86d5-1086fe8fe0c2"
      },
      "execution_count": 29,
      "outputs": [
        {
          "output_type": "stream",
          "name": "stdout",
          "text": [
            "3\n"
          ]
        }
      ]
    },
    {
      "cell_type": "markdown",
      "source": [
        "30. Develop a code that prompts the user to input two sets of strings. Then, print the symmetric difference of these two sets."
      ],
      "metadata": {
        "id": "yPnCgRPyLC-D"
      }
    },
    {
      "cell_type": "code",
      "source": [
        "def symmetric_difference_of_sets():\n",
        "    set1 = set(input(\"Enter strings for Set 1 (comma-separated): \").split(','))\n",
        "    set2 = set(input(\"Enter strings for Set 2 (comma-separated): \").split(','))\n",
        "    print(\"Symmetric Difference:\", set1 ^ set2)\n",
        "\n",
        "# Example usage:\n",
        "# User enters: a,b,c for Set 1 and c,d,e for Set 2\n",
        "# Output: Symmetric Difference: {'a', 'b', 'd', 'e'}\n",
        "symmetric_difference_of_sets()"
      ],
      "metadata": {
        "colab": {
          "base_uri": "https://localhost:8080/"
        },
        "id": "3-Xx4uFBLA2V",
        "outputId": "1cd62776-3022-4e0c-ab61-55ce561de37a"
      },
      "execution_count": 30,
      "outputs": [
        {
          "output_type": "stream",
          "name": "stdout",
          "text": [
            "Enter strings for Set 1 (comma-separated): a,b,c\n",
            "Enter strings for Set 2 (comma-separated): c,d,e\n",
            "Symmetric Difference: {'b', 'd', 'a', 'e'}\n"
          ]
        }
      ]
    },
    {
      "cell_type": "markdown",
      "source": [
        "31. Write a code that takes a list of words as input and returns a dictionary where the keys are unique words and the values are the frequencies of those words in the input list."
      ],
      "metadata": {
        "id": "ygkciubiLSB2"
      }
    },
    {
      "cell_type": "code",
      "source": [
        "def word_frequencies(words):\n",
        "    return {word: words.count(word) for word in set(words)}\n",
        "\n",
        "# Example usage:\n",
        "input_list = [\"apple\", \"banana\", \"apple\", \"orange\", \"banana\", \"apple\"]\n",
        "print(word_frequencies(input_list))  # Output: {'orange': 1, 'banana': 2, 'apple': 3}"
      ],
      "metadata": {
        "colab": {
          "base_uri": "https://localhost:8080/"
        },
        "id": "sdKii3a4LE04",
        "outputId": "b165021c-c20a-43fc-ef14-206118a184ee"
      },
      "execution_count": 31,
      "outputs": [
        {
          "output_type": "stream",
          "name": "stdout",
          "text": [
            "{'banana': 2, 'orange': 1, 'apple': 3}\n"
          ]
        }
      ]
    },
    {
      "cell_type": "markdown",
      "source": [
        "32. Write a code that takes two dictionaries as input and merges them into a single dictionary. If there are common keys, the values should be added together."
      ],
      "metadata": {
        "id": "MOgES6GdLWfD"
      }
    },
    {
      "cell_type": "code",
      "source": [
        "def merge_dictionaries(d1, d2):\n",
        "    merged = d1.copy()\n",
        "    for key, value in d2.items():\n",
        "        merged[key] = merged.get(key, 0) + value\n",
        "    return merged\n",
        "\n",
        "# Example usage:\n",
        "dict1 = {\"a\": 1, \"b\": 2}\n",
        "dict2 = {\"b\": 3, \"c\": 4}\n",
        "print(merge_dictionaries(dict1, dict2))  # Output: {'a': 1, 'b': 5, 'c': 4}"
      ],
      "metadata": {
        "colab": {
          "base_uri": "https://localhost:8080/"
        },
        "id": "dKKfD1eALUf7",
        "outputId": "790a81a7-68aa-4708-a844-4c3021955ecd"
      },
      "execution_count": 32,
      "outputs": [
        {
          "output_type": "stream",
          "name": "stdout",
          "text": [
            "{'a': 1, 'b': 5, 'c': 4}\n"
          ]
        }
      ]
    },
    {
      "cell_type": "markdown",
      "source": [
        "33. Write a code to access a value in a nested dictionary. The function should take the dictionary and a list of keys as input, and return the corresponding value. If any of the keys do not exist in the dictionary, the function should return None."
      ],
      "metadata": {
        "id": "Bew4mwKeLbD6"
      }
    },
    {
      "cell_type": "code",
      "source": [
        "def get_nested_value(d, keys):\n",
        "    for key in keys:\n",
        "        if isinstance(d, dict) and key in d:\n",
        "            d = d[key]\n",
        "        else:\n",
        "            return None\n",
        "    return d\n",
        "\n",
        "# Example usage:\n",
        "nested_dict = {\"a\": {\"b\": {\"c\": 42}}}\n",
        "keys = [\"a\", \"b\", \"c\"]\n",
        "print(get_nested_value(nested_dict, keys))  # Output: 42"
      ],
      "metadata": {
        "colab": {
          "base_uri": "https://localhost:8080/"
        },
        "id": "bdN68PYuLYkE",
        "outputId": "3db67400-7bd8-486c-8eeb-a0e19ed5bbd0"
      },
      "execution_count": 33,
      "outputs": [
        {
          "output_type": "stream",
          "name": "stdout",
          "text": [
            "42\n"
          ]
        }
      ]
    },
    {
      "cell_type": "markdown",
      "source": [
        "34. Write a code that takes a dictionary as input and returns a sorted version of it based on the values. You can choose whether to sort in ascending or descending order."
      ],
      "metadata": {
        "id": "ylzYMHIfLiXT"
      }
    },
    {
      "cell_type": "code",
      "source": [
        "def sort_dict_by_values(d, ascending=True):\n",
        "    return dict(sorted(d.items(), key=lambda item: item[1], reverse=not ascending))\n",
        "\n",
        "# Example usage:\n",
        "input_dict = {\"a\": 3, \"b\": 1, \"c\": 2}\n",
        "print(sort_dict_by_values(input_dict, ascending=True))  # Output: {'b': 1, 'c': 2, 'a': 3}"
      ],
      "metadata": {
        "colab": {
          "base_uri": "https://localhost:8080/"
        },
        "id": "VsL7a390Ld0D",
        "outputId": "8cab3efd-e70c-4903-cd52-adaead9517bb"
      },
      "execution_count": 34,
      "outputs": [
        {
          "output_type": "stream",
          "name": "stdout",
          "text": [
            "{'b': 1, 'c': 2, 'a': 3}\n"
          ]
        }
      ]
    },
    {
      "cell_type": "markdown",
      "source": [
        "35. Write a code that inverts a dictionary, swapping keys and values. Ensure that the inverted dictionary correctly handles cases where multiple keys have the same value by storing the keys as a list in the inverted dictionary."
      ],
      "metadata": {
        "id": "gSEdSeBeLmxw"
      }
    },
    {
      "cell_type": "code",
      "source": [
        "def invert_dictionary(d):\n",
        "    inverted = {}\n",
        "    for key, value in d.items():\n",
        "        if value not in inverted:\n",
        "            inverted[value] = [key]\n",
        "        else:\n",
        "            inverted[value].append(key)\n",
        "    return inverted\n",
        "\n",
        "# Example usage:\n",
        "input_dict = {\"a\": 1, \"b\": 2, \"c\": 1}\n",
        "print(invert_dictionary(input_dict))  # Output: {1: ['a', 'c'], 2: ['b']}"
      ],
      "metadata": {
        "colab": {
          "base_uri": "https://localhost:8080/"
        },
        "id": "KMvPjr7qLkn_",
        "outputId": "771a7868-440d-4eeb-ba64-247636e93649"
      },
      "execution_count": 35,
      "outputs": [
        {
          "output_type": "stream",
          "name": "stdout",
          "text": [
            "{1: ['a', 'c'], 2: ['b']}\n"
          ]
        }
      ]
    }
  ]
}