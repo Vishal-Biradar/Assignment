{
  "nbformat": 4,
  "nbformat_minor": 0,
  "metadata": {
    "colab": {
      "provenance": []
    },
    "kernelspec": {
      "name": "python3",
      "display_name": "Python 3"
    },
    "language_info": {
      "name": "python"
    }
  },
  "cells": [
    {
      "cell_type": "markdown",
      "source": [
        "# **ASSIGNMENT**"
      ],
      "metadata": {
        "id": "km1H2QI7sFls"
      }
    },
    {
      "cell_type": "markdown",
      "source": [
        "#  **Data Types and Structures Questions**"
      ],
      "metadata": {
        "id": "AKBpx_zXhUfK"
      }
    },
    {
      "cell_type": "markdown",
      "source": [
        "1. What are data structures, and why are they important?\n",
        "\n",
        " A data structure is a way of organizing and storing data to perform operations efficiently. They are crucial because they determine how data is managed in memory and how quickly operations like insertion, deletion, and retrieval can be performed.\n",
        "\n",
        " Example:\n",
        " Imagine you have a box of marbles. If the marbles are scattered, finding a specific color takes time. But if they're sorted by color, finding one is faster.\n",
        " In programming, arrays (like lists), trees, and dictionaries are examples of data structures that organize data efficiently."
      ],
      "metadata": {
        "id": "vR0VSWlYsLb6"
      }
    },
    {
      "cell_type": "markdown",
      "source": [
        "2. Explain the difference between mutable and immutable data types with examples.\n",
        "\n",
        " Mutable: Can be changed after creation.\n",
        "\n",
        " Immutable: Cannot be changed once created\n",
        "\n",
        " Examples:"
      ],
      "metadata": {
        "id": "SJ4xOy3tsqno"
      }
    },
    {
      "cell_type": "code",
      "execution_count": null,
      "metadata": {
        "id": "68tUpfNZm77t",
        "colab": {
          "base_uri": "https://localhost:8080/"
        },
        "outputId": "322a03ff-04fe-4eea-d0d3-cbb443801f6a"
      },
      "outputs": [
        {
          "output_type": "stream",
          "name": "stdout",
          "text": [
            "[1, 20, 3]\n"
          ]
        }
      ],
      "source": [
        "# Mutable: Lists\n",
        "my_list = [1, 2, 3]\n",
        "my_list[1] = 20  # Modifies the list\n",
        "print(my_list)  # Output: [1, 20, 3]\n"
      ]
    },
    {
      "cell_type": "code",
      "source": [
        "# Immutable tuples\n",
        "my_tuple = (1, 2, 3)\n",
        "# my_tuple[1] = 20  # This will throw an error\n",
        "my_tuple[1] = 20"
      ],
      "metadata": {
        "colab": {
          "base_uri": "https://localhost:8080/",
          "height": 176
        },
        "id": "8iLz13TTtZxO",
        "outputId": "dbbe3868-d812-4477-8a88-a8fa63fd7469"
      },
      "execution_count": null,
      "outputs": [
        {
          "output_type": "error",
          "ename": "TypeError",
          "evalue": "'tuple' object does not support item assignment",
          "traceback": [
            "\u001b[0;31m---------------------------------------------------------------------------\u001b[0m",
            "\u001b[0;31mTypeError\u001b[0m                                 Traceback (most recent call last)",
            "\u001b[0;32m<ipython-input-2-a9ca93a1991c>\u001b[0m in \u001b[0;36m<cell line: 4>\u001b[0;34m()\u001b[0m\n\u001b[1;32m      2\u001b[0m \u001b[0mmy_tuple\u001b[0m \u001b[0;34m=\u001b[0m \u001b[0;34m(\u001b[0m\u001b[0;36m1\u001b[0m\u001b[0;34m,\u001b[0m \u001b[0;36m2\u001b[0m\u001b[0;34m,\u001b[0m \u001b[0;36m3\u001b[0m\u001b[0;34m)\u001b[0m\u001b[0;34m\u001b[0m\u001b[0;34m\u001b[0m\u001b[0m\n\u001b[1;32m      3\u001b[0m \u001b[0;31m# my_tuple[1] = 20  # This will throw an error\u001b[0m\u001b[0;34m\u001b[0m\u001b[0;34m\u001b[0m\u001b[0m\n\u001b[0;32m----> 4\u001b[0;31m \u001b[0mmy_tuple\u001b[0m\u001b[0;34m[\u001b[0m\u001b[0;36m1\u001b[0m\u001b[0;34m]\u001b[0m \u001b[0;34m=\u001b[0m \u001b[0;36m20\u001b[0m\u001b[0;34m\u001b[0m\u001b[0;34m\u001b[0m\u001b[0m\n\u001b[0m",
            "\u001b[0;31mTypeError\u001b[0m: 'tuple' object does not support item assignment"
          ]
        }
      ]
    },
    {
      "cell_type": "markdown",
      "source": [
        "3. What are the main differences between lists and tuples in Python?\n",
        "\n",
        " Lists: Mutable, slower, better for dynamic data.\n",
        "\n",
        " Tuples: Immutable, faster, used for fixed data.\n",
        "\n",
        " Example:"
      ],
      "metadata": {
        "id": "0u548XQht0DS"
      }
    },
    {
      "cell_type": "code",
      "source": [
        "# List\n",
        "my_list = [1, 2, 3]\n",
        "my_list.append(4)  # Allowed\n",
        "print(my_list)  # Output: [1, 2, 3, 4]\n",
        "\n",
        "# Tuple\n",
        "my_tuple = (1, 2, 3)\n",
        "# my_tuple.append(4)  # Not allowed\n"
      ],
      "metadata": {
        "colab": {
          "base_uri": "https://localhost:8080/"
        },
        "id": "RuyuMZzdtqvX",
        "outputId": "3b9e3596-9417-4382-85c3-ff767ef205e8"
      },
      "execution_count": null,
      "outputs": [
        {
          "output_type": "stream",
          "name": "stdout",
          "text": [
            "[1, 2, 3, 4]\n"
          ]
        }
      ]
    },
    {
      "cell_type": "markdown",
      "source": [
        "4. Describe how dictionaries store data.\n",
        "\n",
        "  Dictionaries store data as key-value pairs using a hash table internally, allowing quick access to values based on their keys.\n",
        "\n",
        "  Example:"
      ],
      "metadata": {
        "id": "SsQDIWhXuPWO"
      }
    },
    {
      "cell_type": "code",
      "source": [
        "my_dict = {'name': 'Alice', 'age': 25}\n",
        "print(my_dict['name'])  # Output: Alice\n"
      ],
      "metadata": {
        "colab": {
          "base_uri": "https://localhost:8080/"
        },
        "id": "_4I6kG78uNeb",
        "outputId": "5d31eb12-e196-4f2c-97f0-4ee9a2e87095"
      },
      "execution_count": null,
      "outputs": [
        {
          "output_type": "stream",
          "name": "stdout",
          "text": [
            "Alice\n"
          ]
        }
      ]
    },
    {
      "cell_type": "markdown",
      "source": [
        "5. Why might you use a set instead of a list in Python?\n",
        "\n",
        "  Sets automatically remove duplicates and are faster for membership checks.\n",
        "  \n",
        "  Example:"
      ],
      "metadata": {
        "id": "lRq95TwVukKc"
      }
    },
    {
      "cell_type": "code",
      "source": [
        "my_list = [1, 2, 2, 3]\n",
        "my_set = set(my_list)\n",
        "print(my_set)  # Output: {1, 2, 3}\n",
        "print(2 in my_set)  # Fast membership check"
      ],
      "metadata": {
        "colab": {
          "base_uri": "https://localhost:8080/"
        },
        "id": "OSZiTICMud57",
        "outputId": "17ed7ff1-bf1c-4d7b-aa2c-2a9a37ccc67f"
      },
      "execution_count": null,
      "outputs": [
        {
          "output_type": "stream",
          "name": "stdout",
          "text": [
            "{1, 2, 3}\n",
            "True\n"
          ]
        }
      ]
    },
    {
      "cell_type": "markdown",
      "source": [
        "6. What is a string in Python, and how is it different from a list?\n",
        "\n",
        "  A string is a sequence of characters (immutable), while a list is a sequence of items (mutable).\n",
        "\n",
        "  Example:"
      ],
      "metadata": {
        "id": "3JdR9VPeu7wq"
      }
    },
    {
      "cell_type": "code",
      "source": [
        "my_string = \"hello\"\n",
        "# my_string[0] = 'H'  # Error: Strings are immutable\n",
        "\n",
        "my_list = ['h', 'e', 'l', 'l', 'o']\n",
        "my_list[0] = 'H'  # Works: Lists are mutable\n",
        "print(my_list)  # Output: ['H', 'e', 'l', 'l', 'o']\n"
      ],
      "metadata": {
        "colab": {
          "base_uri": "https://localhost:8080/"
        },
        "id": "QjQD_gxXu4uX",
        "outputId": "438f6493-4446-4dfd-8faa-be161a67f879"
      },
      "execution_count": null,
      "outputs": [
        {
          "output_type": "stream",
          "name": "stdout",
          "text": [
            "['H', 'e', 'l', 'l', 'o']\n"
          ]
        }
      ]
    },
    {
      "cell_type": "markdown",
      "source": [
        "7. How do tuples ensure data integrity in Python?\n",
        "\n",
        "  Tuples are immutable, preventing accidental changes, making them ideal for storing constant data.\n",
        "\n",
        "  Example:"
      ],
      "metadata": {
        "id": "04ZpKdCfvV-A"
      }
    },
    {
      "cell_type": "code",
      "source": [
        "coordinates = (10.5, 20.8)  # Cannot be changed\n",
        "# coordinates[0] = 15  # Throws an error"
      ],
      "metadata": {
        "id": "s7k6bzFqvHP4"
      },
      "execution_count": null,
      "outputs": []
    },
    {
      "cell_type": "markdown",
      "source": [
        "8. What is a hash table, and how does it relate to dictionaries in Python?\n",
        "\n",
        "  A hash table maps keys to values using a hash function, allowing fast lookups. Python dictionaries use hash tables internally.\n",
        "\n",
        "  Example:"
      ],
      "metadata": {
        "id": "tp-sZfiav7U9"
      }
    },
    {
      "cell_type": "code",
      "source": [
        "my_dict = {'key1': 'value1'}\n",
        "# The hash of 'key1' determines where 'value1' is stored.\n"
      ],
      "metadata": {
        "id": "t1d_7X5YviJS"
      },
      "execution_count": null,
      "outputs": []
    },
    {
      "cell_type": "markdown",
      "source": [
        "9. Can lists contain different data types in Python?\n",
        "\n",
        "  Yes, lists can hold elements of different data types.\n",
        "\n",
        "  Example:"
      ],
      "metadata": {
        "id": "hVKFp6gwwMy2"
      }
    },
    {
      "cell_type": "code",
      "source": [
        "my_list = [1, \"hello\", 3.14, True]\n",
        "print(my_list)  # Output: [1, 'hello', 3.14, True]"
      ],
      "metadata": {
        "colab": {
          "base_uri": "https://localhost:8080/"
        },
        "id": "V8JAI8TBwDKa",
        "outputId": "034bb10f-5fa5-4de8-fb76-e2eedde44604"
      },
      "execution_count": null,
      "outputs": [
        {
          "output_type": "stream",
          "name": "stdout",
          "text": [
            "[1, 'hello', 3.14, True]\n"
          ]
        }
      ]
    },
    {
      "cell_type": "markdown",
      "source": [
        "10. Explain why strings are immutable in Python.\n",
        "\n",
        "  Strings are immutable to improve performance, especially when multiple variables reference the same string.\n",
        "\n",
        "  Example:"
      ],
      "metadata": {
        "id": "jM6mPn2wwZCh"
      }
    },
    {
      "cell_type": "code",
      "source": [
        "s1 = \"hello\"\n",
        "s2 = s1  # Both reference the same string\n",
        "s1[0] = 'H'  # Error: Strings cannot be changed"
      ],
      "metadata": {
        "colab": {
          "base_uri": "https://localhost:8080/",
          "height": 176
        },
        "id": "p2blv_l6wTvT",
        "outputId": "43438cb8-2c01-4e0f-f852-d7384dc5815f"
      },
      "execution_count": null,
      "outputs": [
        {
          "output_type": "error",
          "ename": "TypeError",
          "evalue": "'str' object does not support item assignment",
          "traceback": [
            "\u001b[0;31m---------------------------------------------------------------------------\u001b[0m",
            "\u001b[0;31mTypeError\u001b[0m                                 Traceback (most recent call last)",
            "\u001b[0;32m<ipython-input-13-413717eb7fef>\u001b[0m in \u001b[0;36m<cell line: 3>\u001b[0;34m()\u001b[0m\n\u001b[1;32m      1\u001b[0m \u001b[0ms1\u001b[0m \u001b[0;34m=\u001b[0m \u001b[0;34m\"hello\"\u001b[0m\u001b[0;34m\u001b[0m\u001b[0;34m\u001b[0m\u001b[0m\n\u001b[1;32m      2\u001b[0m \u001b[0ms2\u001b[0m \u001b[0;34m=\u001b[0m \u001b[0ms1\u001b[0m  \u001b[0;31m# Both reference the same string\u001b[0m\u001b[0;34m\u001b[0m\u001b[0;34m\u001b[0m\u001b[0m\n\u001b[0;32m----> 3\u001b[0;31m \u001b[0ms1\u001b[0m\u001b[0;34m[\u001b[0m\u001b[0;36m0\u001b[0m\u001b[0;34m]\u001b[0m \u001b[0;34m=\u001b[0m \u001b[0;34m'H'\u001b[0m  \u001b[0;31m# Error: Strings cannot be changed\u001b[0m\u001b[0;34m\u001b[0m\u001b[0;34m\u001b[0m\u001b[0m\n\u001b[0m",
            "\u001b[0;31mTypeError\u001b[0m: 'str' object does not support item assignment"
          ]
        }
      ]
    },
    {
      "cell_type": "markdown",
      "source": [
        "11. What advantages do dictionaries offer over lists for certain tasks?\n",
        "\n",
        "  Dictionaries provide faster lookups for data using keys, unlike lists that require searching by index or value.\n",
        "\n",
        "  Example:"
      ],
      "metadata": {
        "id": "vofdz307wqHC"
      }
    },
    {
      "cell_type": "code",
      "source": [
        "# List Example: Finding age of 'Alice' requires searching\n",
        "people = [['name', 'Alice'], ['age', 25]]\n",
        "for person in people:\n",
        "    if person[0] == 'age':\n",
        "        print(person[1])  # Output: 25\n",
        "\n",
        "# Dictionary Example: Direct access\n",
        "people_dict = {'name': 'Alice', 'age': 25}\n",
        "print(people_dict['age'])  # Output: 25"
      ],
      "metadata": {
        "colab": {
          "base_uri": "https://localhost:8080/"
        },
        "id": "Sa9tSWrnwmzQ",
        "outputId": "1fad5fcb-8761-405f-ab40-8be5af776d9d"
      },
      "execution_count": null,
      "outputs": [
        {
          "output_type": "stream",
          "name": "stdout",
          "text": [
            "25\n",
            "25\n"
          ]
        }
      ]
    },
    {
      "cell_type": "markdown",
      "source": [
        "12. Describe a scenario where using a tuple would be preferable over a list.\n",
        "\n",
        "  Use a tuple when the data should not be modified, such as coordinates, fixed configuration values, or return values from a function.\n",
        "\n",
        "  Example:"
      ],
      "metadata": {
        "id": "8okXlgrGw_y-"
      }
    },
    {
      "cell_type": "code",
      "source": [
        "# Coordinates that should remain constant\n",
        "coordinates = (10, 20)\n",
        "# coordinates[0] = 15  # Error: Tuples cannot be modified"
      ],
      "metadata": {
        "id": "Ye3zTqp0w8ZO"
      },
      "execution_count": null,
      "outputs": []
    },
    {
      "cell_type": "markdown",
      "source": [
        "13. How do sets handle duplicate values in Python?\n",
        "\n",
        "  Sets automatically remove duplicate values, ensuring all elements are unique.\n",
        "\n",
        "  Example:"
      ],
      "metadata": {
        "id": "9w-V8JF2xtJr"
      }
    },
    {
      "cell_type": "code",
      "source": [
        "my_set = {1, 2, 2, 3}\n",
        "print(my_set)  # Output: {1, 2, 3}"
      ],
      "metadata": {
        "colab": {
          "base_uri": "https://localhost:8080/"
        },
        "id": "PEIvhz7Cxmjs",
        "outputId": "fa78d60c-93f9-4e43-9fbe-72d2f88e87bd"
      },
      "execution_count": null,
      "outputs": [
        {
          "output_type": "stream",
          "name": "stdout",
          "text": [
            "{1, 2, 3}\n"
          ]
        }
      ]
    },
    {
      "cell_type": "markdown",
      "source": [
        "14. How does the \"in\" keyword work differently for lists and dictionaries?\n",
        "\n",
        "  Lists: Checks if the value exists.\n",
        "  \n",
        "  Dictionaries: Checks if the key exists.\n",
        "  \n",
        "  Example:"
      ],
      "metadata": {
        "id": "T2B_hIuKySFp"
      }
    },
    {
      "cell_type": "code",
      "source": [
        "my_list = [1, 2, 3]\n",
        "print(2 in my_list)  # Output: True\n",
        "\n",
        "my_dict = {'name': 'Alice', 'age': 25}\n",
        "print('name' in my_dict)  # Output: True (Checks key)\n",
        "print('Alice' in my_dict)  # Output: False"
      ],
      "metadata": {
        "colab": {
          "base_uri": "https://localhost:8080/"
        },
        "id": "o_rsEt79yQOl",
        "outputId": "3c838370-3022-4ccf-8ff8-06c48eaca7c9"
      },
      "execution_count": null,
      "outputs": [
        {
          "output_type": "stream",
          "name": "stdout",
          "text": [
            "True\n",
            "True\n",
            "False\n"
          ]
        }
      ]
    },
    {
      "cell_type": "markdown",
      "source": [
        "15. Can you modify the elements of a tuple? Explain why or why not.\n",
        "\n",
        "  No, tuples are immutable, meaning their elements cannot be changed after creation. This ensures data integrity.\n",
        "\n",
        "  Example:"
      ],
      "metadata": {
        "id": "r4FFNXPQyn4o"
      }
    },
    {
      "cell_type": "code",
      "source": [
        "my_tuple = (1, 2, 3)\n",
        "# my_tuple[0] = 10  # Error: Tuples cannot be modified"
      ],
      "metadata": {
        "id": "SPG2M5Rryhp_"
      },
      "execution_count": null,
      "outputs": []
    },
    {
      "cell_type": "markdown",
      "source": [
        "16. What is a nested dictionary, and give an example of its use case?\n",
        "\n",
        "  A nested dictionary is a dictionary containing another dictionary as a value. It’s useful for representing hierarchical or complex data.\n",
        "\n",
        "  Example:"
      ],
      "metadata": {
        "id": "hqVccyFry2VX"
      }
    },
    {
      "cell_type": "code",
      "source": [
        "students = {\n",
        "    'Alice': {'age': 25, 'grade': 'A'},\n",
        "    'Bob': {'age': 22, 'grade': 'B'}\n",
        "}\n",
        "print(students['Alice']['grade'])  # Output: A"
      ],
      "metadata": {
        "colab": {
          "base_uri": "https://localhost:8080/"
        },
        "id": "DicTpN6PyyHY",
        "outputId": "8abc3485-0c84-4738-e189-4680b022c343"
      },
      "execution_count": null,
      "outputs": [
        {
          "output_type": "stream",
          "name": "stdout",
          "text": [
            "A\n"
          ]
        }
      ]
    },
    {
      "cell_type": "markdown",
      "source": [
        "17. Describe the time complexity of accessing elements in a dictionary.\n",
        "\n",
        "  Accessing elements in a dictionary has an average time complexity of O(1) due to hash-based indexing.\n",
        "\n",
        "  Example:"
      ],
      "metadata": {
        "id": "gswnWAOcy-mX"
      }
    },
    {
      "cell_type": "code",
      "source": [
        "my_dict = {'key1': 'value1'}\n",
        "print(my_dict['key1'])  # Fast lookup"
      ],
      "metadata": {
        "colab": {
          "base_uri": "https://localhost:8080/"
        },
        "id": "IItD5iwEy9Lq",
        "outputId": "867262dd-ecda-4152-802c-76fe8bc348a9"
      },
      "execution_count": null,
      "outputs": [
        {
          "output_type": "stream",
          "name": "stdout",
          "text": [
            "value1\n"
          ]
        }
      ]
    },
    {
      "cell_type": "markdown",
      "source": [
        "18. In what situations are lists preferred over dictionaries?\n",
        "\n",
        "  Use lists when:\n",
        "\n",
        "  1.Data doesn’t need keys.\n",
        "\n",
        "  2.Order matters.\n",
        "  \n",
        "  3.Duplicate values are allowed.\n",
        "  \n",
        "  Example:"
      ],
      "metadata": {
        "id": "arhJMBDnzaH-"
      }
    },
    {
      "cell_type": "code",
      "source": [
        "names = ['Alice', 'Bob', 'Charlie']\n",
        "# Good for maintaining order or duplicates"
      ],
      "metadata": {
        "id": "Dp0teTxkzGVh"
      },
      "execution_count": null,
      "outputs": []
    },
    {
      "cell_type": "markdown",
      "source": [
        "19. Why are dictionaries considered unordered, and how does that affect data retrieval?\n",
        "\n",
        "  Before Python 3.7, dictionaries were unordered, meaning their items didn’t follow insertion order. From Python 3.7 onward, they maintain insertion order but are still accessed using keys.\n",
        "\n",
        "  Example:"
      ],
      "metadata": {
        "id": "l48IUhv6zu23"
      }
    },
    {
      "cell_type": "code",
      "source": [
        "my_dict = {'b': 2, 'a': 1}\n",
        "print(list(my_dict))  # Output: ['b', 'a'] (Insertion order from Python 3.7)"
      ],
      "metadata": {
        "colab": {
          "base_uri": "https://localhost:8080/"
        },
        "id": "CpomcpmZzpeP",
        "outputId": "4bc96348-883b-490b-add4-38a287e6f3a1"
      },
      "execution_count": null,
      "outputs": [
        {
          "output_type": "stream",
          "name": "stdout",
          "text": [
            "['b', 'a']\n"
          ]
        }
      ]
    },
    {
      "cell_type": "markdown",
      "source": [
        "20. Explain the difference between a list and a dictionary in terms of data retrieval.\n",
        "\n",
        "  List: Data is retrieved using an index.\n",
        "  \n",
        "  Dictionary: Data is retrieved using a key.\n",
        "  \n",
        "  Example:"
      ],
      "metadata": {
        "id": "QQgREO-wz8gv"
      }
    },
    {
      "cell_type": "code",
      "source": [
        "# List\n",
        "my_list = [10, 20, 30]\n",
        "print(my_list[1])  # Output: 20\n",
        "\n",
        "# Dictionary\n",
        "my_dict = {'key1': 'value1', 'key2': 'value2'}\n",
        "print(my_dict['key1'])  # Output: value1"
      ],
      "metadata": {
        "colab": {
          "base_uri": "https://localhost:8080/"
        },
        "id": "hwZ0UTVdz1-m",
        "outputId": "804946ed-0773-4102-ea81-d63b288ec31f"
      },
      "execution_count": null,
      "outputs": [
        {
          "output_type": "stream",
          "name": "stdout",
          "text": [
            "20\n",
            "value1\n"
          ]
        }
      ]
    },
    {
      "cell_type": "markdown",
      "source": [
        "# **Practical Questions**"
      ],
      "metadata": {
        "id": "WvEePH1OhwXq"
      }
    },
    {
      "cell_type": "markdown",
      "source": [
        "1. Create a string with your name and print it."
      ],
      "metadata": {
        "id": "iB_m5crlh6n3"
      }
    },
    {
      "cell_type": "code",
      "source": [
        "name = \"Vishal Biradar\"\n",
        "print(name)"
      ],
      "metadata": {
        "colab": {
          "base_uri": "https://localhost:8080/"
        },
        "id": "eKQAOj07jiNx",
        "outputId": "bf218dec-97dc-48e5-b9f9-f06a71b2bdf1"
      },
      "execution_count": null,
      "outputs": [
        {
          "output_type": "stream",
          "name": "stdout",
          "text": [
            "Vishal Biradar\n"
          ]
        }
      ]
    },
    {
      "cell_type": "markdown",
      "source": [
        "2. Find the length of the string \"Hello World\""
      ],
      "metadata": {
        "id": "KLEFd52-j06A"
      }
    },
    {
      "cell_type": "code",
      "source": [
        "string = \"Hello World\"\n",
        "print(len(string))"
      ],
      "metadata": {
        "colab": {
          "base_uri": "https://localhost:8080/"
        },
        "id": "ltixbQ8Qjj64",
        "outputId": "c9afd1f1-4083-4930-eccb-9c70822056b8"
      },
      "execution_count": null,
      "outputs": [
        {
          "output_type": "stream",
          "name": "stdout",
          "text": [
            "11\n"
          ]
        }
      ]
    },
    {
      "cell_type": "markdown",
      "source": [
        "3. Slice the first 3 characters from the string \"Python Programming\"."
      ],
      "metadata": {
        "id": "46bjOWIdj9Xm"
      }
    },
    {
      "cell_type": "code",
      "source": [
        "text = \"Python Programming\"\n",
        "print(text[:3])"
      ],
      "metadata": {
        "colab": {
          "base_uri": "https://localhost:8080/"
        },
        "id": "f_VHa_22j6iD",
        "outputId": "bc9dfff7-7fa4-45a0-c359-2e56486bb500"
      },
      "execution_count": null,
      "outputs": [
        {
          "output_type": "stream",
          "name": "stdout",
          "text": [
            "Pyt\n"
          ]
        }
      ]
    },
    {
      "cell_type": "markdown",
      "source": [
        "4. Convert the string \"hello\" to uppercase"
      ],
      "metadata": {
        "id": "ze0q0Y03kGm3"
      }
    },
    {
      "cell_type": "code",
      "source": [
        "word = \"hello\"\n",
        "print(word.upper())"
      ],
      "metadata": {
        "colab": {
          "base_uri": "https://localhost:8080/"
        },
        "id": "YWQd9m-KkEPh",
        "outputId": "6088ce25-1673-41fc-fd6d-3e3bb517cbce"
      },
      "execution_count": null,
      "outputs": [
        {
          "output_type": "stream",
          "name": "stdout",
          "text": [
            "HELLO\n"
          ]
        }
      ]
    },
    {
      "cell_type": "markdown",
      "source": [
        "5. Replace the word \"apple\" with \"orange\" in the string \"I like apple\""
      ],
      "metadata": {
        "id": "asaLJ_-IkRJZ"
      }
    },
    {
      "cell_type": "code",
      "source": [
        "sentence = \"I like apple\"\n",
        "print(sentence.replace(\"apple\", \"orange\"))"
      ],
      "metadata": {
        "colab": {
          "base_uri": "https://localhost:8080/"
        },
        "id": "tC0_SK_CkMGd",
        "outputId": "cddddd5d-6009-47f0-f274-1a7ccc617187"
      },
      "execution_count": null,
      "outputs": [
        {
          "output_type": "stream",
          "name": "stdout",
          "text": [
            "I like orange\n"
          ]
        }
      ]
    },
    {
      "cell_type": "markdown",
      "source": [
        "6. Create a list with numbers 1 to 5 and print it"
      ],
      "metadata": {
        "id": "QGnb-T1PkdRU"
      }
    },
    {
      "cell_type": "code",
      "source": [
        "numbers = [1, 2, 3, 4, 5]\n",
        "print(numbers)"
      ],
      "metadata": {
        "colab": {
          "base_uri": "https://localhost:8080/"
        },
        "id": "rvsPY-jXkV53",
        "outputId": "9952cb83-22ab-40c6-8cfb-f39351053275"
      },
      "execution_count": null,
      "outputs": [
        {
          "output_type": "stream",
          "name": "stdout",
          "text": [
            "[1, 2, 3, 4, 5]\n"
          ]
        }
      ]
    },
    {
      "cell_type": "markdown",
      "source": [
        "7. Append the number 10 to the list [1, 2, 3, 4]"
      ],
      "metadata": {
        "id": "0RfoNxwkkkLk"
      }
    },
    {
      "cell_type": "code",
      "source": [
        "num_list = [1, 2, 3, 4]\n",
        "num_list.append(10)\n",
        "print(num_list)"
      ],
      "metadata": {
        "colab": {
          "base_uri": "https://localhost:8080/"
        },
        "id": "1lAjhSVZkgGW",
        "outputId": "288a3b1d-2bff-47f8-e954-dcb24bb9afa2"
      },
      "execution_count": null,
      "outputs": [
        {
          "output_type": "stream",
          "name": "stdout",
          "text": [
            "[1, 2, 3, 4, 10]\n"
          ]
        }
      ]
    },
    {
      "cell_type": "markdown",
      "source": [
        "8. Remove the number 3 from the list [1, 2, 3, 4, 5]"
      ],
      "metadata": {
        "id": "v5QNeIIpksT-"
      }
    },
    {
      "cell_type": "code",
      "source": [
        "num_list = [1, 2, 3, 4, 5]\n",
        "num_list.remove(3)\n",
        "print(num_list)"
      ],
      "metadata": {
        "colab": {
          "base_uri": "https://localhost:8080/"
        },
        "id": "Mwl5eGAQkpjM",
        "outputId": "533fb747-7a95-484d-8fc8-92a3f813fd00"
      },
      "execution_count": null,
      "outputs": [
        {
          "output_type": "stream",
          "name": "stdout",
          "text": [
            "[1, 2, 4, 5]\n"
          ]
        }
      ]
    },
    {
      "cell_type": "markdown",
      "source": [
        "9. Access the second element in the list ['a', 'b', 'c', 'd']"
      ],
      "metadata": {
        "id": "7mvoEtB3k0OO"
      }
    },
    {
      "cell_type": "code",
      "source": [
        "letters = ['a', 'b', 'c', 'd']\n",
        "print(letters[1])"
      ],
      "metadata": {
        "colab": {
          "base_uri": "https://localhost:8080/"
        },
        "id": "6kIfwe1jkvZ4",
        "outputId": "e4bb6dc5-5325-4976-cb2e-6cd087decfca"
      },
      "execution_count": null,
      "outputs": [
        {
          "output_type": "stream",
          "name": "stdout",
          "text": [
            "b\n"
          ]
        }
      ]
    },
    {
      "cell_type": "markdown",
      "source": [
        "10. Reverse the list [10, 20, 30, 40, 50]"
      ],
      "metadata": {
        "id": "OQqRhhejk7HV"
      }
    },
    {
      "cell_type": "code",
      "source": [
        "num_list = [10, 20, 30, 40, 50]\n",
        "print(num_list[::-1])"
      ],
      "metadata": {
        "colab": {
          "base_uri": "https://localhost:8080/"
        },
        "id": "7N5ZJ2Tjk3q-",
        "outputId": "cc9729b4-c621-4191-bb8f-c0b79d370f09"
      },
      "execution_count": null,
      "outputs": [
        {
          "output_type": "stream",
          "name": "stdout",
          "text": [
            "[50, 40, 30, 20, 10]\n"
          ]
        }
      ]
    },
    {
      "cell_type": "markdown",
      "source": [
        "11. Create a tuple with the elements 10, 20, 30 and print it"
      ],
      "metadata": {
        "id": "FABpKiWOlEAl"
      }
    },
    {
      "cell_type": "code",
      "source": [
        "tuple_example = (10, 20, 30)\n",
        "print(tuple_example)"
      ],
      "metadata": {
        "colab": {
          "base_uri": "https://localhost:8080/"
        },
        "id": "gpu6bstyk917",
        "outputId": "3c5e03ca-e1a6-46b6-d72e-713658ccf848"
      },
      "execution_count": null,
      "outputs": [
        {
          "output_type": "stream",
          "name": "stdout",
          "text": [
            "(10, 20, 30)\n"
          ]
        }
      ]
    },
    {
      "cell_type": "markdown",
      "source": [
        "12. Access the first element of the tuple ('apple', 'banana', 'cherry')"
      ],
      "metadata": {
        "id": "Kr2bojrXlOSi"
      }
    },
    {
      "cell_type": "code",
      "source": [
        "fruits = ('apple', 'banana', 'cherry')\n",
        "print(fruits[0])"
      ],
      "metadata": {
        "colab": {
          "base_uri": "https://localhost:8080/"
        },
        "id": "zTGpLrT9lIOG",
        "outputId": "6be5685f-804a-4fd8-b09d-037eeb44139a"
      },
      "execution_count": null,
      "outputs": [
        {
          "output_type": "stream",
          "name": "stdout",
          "text": [
            "apple\n"
          ]
        }
      ]
    },
    {
      "cell_type": "markdown",
      "source": [
        "13. Count how many times the number 2 appears in the tuple (1, 2, 3, 2, 4, 2)"
      ],
      "metadata": {
        "id": "V38wn1LVlTdJ"
      }
    },
    {
      "cell_type": "code",
      "source": [
        "num_tuple = (1, 2, 3, 2, 4, 2)\n",
        "print(num_tuple.count(2))"
      ],
      "metadata": {
        "colab": {
          "base_uri": "https://localhost:8080/"
        },
        "id": "xusppF1vlQ4j",
        "outputId": "edfb3e13-607d-4768-c15e-28a9ab4ac8f5"
      },
      "execution_count": null,
      "outputs": [
        {
          "output_type": "stream",
          "name": "stdout",
          "text": [
            "3\n"
          ]
        }
      ]
    },
    {
      "cell_type": "markdown",
      "source": [
        "14. Find the index of the element \"cat\" in the tuple ('dog', 'cat', 'rabbit')"
      ],
      "metadata": {
        "id": "1SlFs2NRlbcT"
      }
    },
    {
      "cell_type": "code",
      "source": [
        "animals = ('dog', 'cat', 'rabbit')\n",
        "print(animals.index('cat'))"
      ],
      "metadata": {
        "colab": {
          "base_uri": "https://localhost:8080/"
        },
        "id": "6886V1RclV9F",
        "outputId": "798e4540-e181-413f-82ec-e12aad6eb5ba"
      },
      "execution_count": null,
      "outputs": [
        {
          "output_type": "stream",
          "name": "stdout",
          "text": [
            "1\n"
          ]
        }
      ]
    },
    {
      "cell_type": "markdown",
      "source": [
        "15. Check if the element \"banana\" is in the tuple ('apple', 'orange', 'banana')"
      ],
      "metadata": {
        "id": "IznQerHjlqo7"
      }
    },
    {
      "cell_type": "code",
      "source": [
        "fruits = ('apple', 'orange', 'banana')\n",
        "print(\"banana\" in fruits)"
      ],
      "metadata": {
        "colab": {
          "base_uri": "https://localhost:8080/"
        },
        "id": "GdPoTIYHlgQm",
        "outputId": "b0ca0f56-f3e1-4e1b-d558-e558556f949f"
      },
      "execution_count": null,
      "outputs": [
        {
          "output_type": "stream",
          "name": "stdout",
          "text": [
            "True\n"
          ]
        }
      ]
    },
    {
      "cell_type": "markdown",
      "source": [
        "16. Create a set with the elements 1, 2, 3, 4, 5 and print it"
      ],
      "metadata": {
        "id": "YiPa_XnSlwtc"
      }
    },
    {
      "cell_type": "code",
      "source": [
        "my_set = {1, 2, 3, 4, 5}\n",
        "print(my_set)"
      ],
      "metadata": {
        "colab": {
          "base_uri": "https://localhost:8080/"
        },
        "id": "Kp25jSz3lt5b",
        "outputId": "a2cb530c-3f23-4efb-d47f-9afaaf6d9337"
      },
      "execution_count": null,
      "outputs": [
        {
          "output_type": "stream",
          "name": "stdout",
          "text": [
            "{1, 2, 3, 4, 5}\n"
          ]
        }
      ]
    },
    {
      "cell_type": "markdown",
      "source": [
        "17. Add the element 6 to the set {1, 2, 3, 4}"
      ],
      "metadata": {
        "id": "QSvoGaRNl0w8"
      }
    },
    {
      "cell_type": "code",
      "source": [
        "my_set = {1, 2, 3, 4}\n",
        "my_set.add(6)\n",
        "print(my_set)"
      ],
      "metadata": {
        "colab": {
          "base_uri": "https://localhost:8080/"
        },
        "id": "7o4CqRiklyn-",
        "outputId": "695a8a9a-e18a-4ef7-e322-23e50393b79b"
      },
      "execution_count": null,
      "outputs": [
        {
          "output_type": "stream",
          "name": "stdout",
          "text": [
            "{1, 2, 3, 4, 6}\n"
          ]
        }
      ]
    },
    {
      "cell_type": "markdown",
      "source": [
        "18. Create a tuple with the elements 10, 20, 30 and print it (Duplicate of #11)"
      ],
      "metadata": {
        "id": "zUP15b_Nl7NF"
      }
    },
    {
      "cell_type": "code",
      "source": [
        "tuple_example = (10, 20, 30)\n",
        "print(tuple_example)"
      ],
      "metadata": {
        "colab": {
          "base_uri": "https://localhost:8080/"
        },
        "id": "2Kaey_AMl5Cm",
        "outputId": "04cec75f-85f5-44d6-f513-3e618581b806"
      },
      "execution_count": null,
      "outputs": [
        {
          "output_type": "stream",
          "name": "stdout",
          "text": [
            "(10, 20, 30)\n"
          ]
        }
      ]
    },
    {
      "cell_type": "markdown",
      "source": [
        "19. Access the first element of the tuple ('apple', 'banana', 'cherry')"
      ],
      "metadata": {
        "id": "zJcHHlEUmClN"
      }
    },
    {
      "cell_type": "code",
      "source": [
        "fruits = ('apple', 'banana', 'cherry')\n",
        "print(fruits[0])"
      ],
      "metadata": {
        "colab": {
          "base_uri": "https://localhost:8080/"
        },
        "id": "F_4efwXil_IW",
        "outputId": "5935c7d2-bd97-4820-9d42-b1a70036039a"
      },
      "execution_count": null,
      "outputs": [
        {
          "output_type": "stream",
          "name": "stdout",
          "text": [
            "apple\n"
          ]
        }
      ]
    },
    {
      "cell_type": "markdown",
      "source": [
        "20. Count how many times the number 2 appears in the tuple (1, 2, 3, 2, 4, 2)"
      ],
      "metadata": {
        "id": "gRWl2w9CmTmc"
      }
    },
    {
      "cell_type": "code",
      "source": [
        "num_tuple = (1, 2, 3, 2, 4, 2)\n",
        "print(num_tuple.count(2))"
      ],
      "metadata": {
        "colab": {
          "base_uri": "https://localhost:8080/"
        },
        "id": "JxNcbGovmFje",
        "outputId": "6737ee77-4a15-448a-90a8-a2e7b0c61eae"
      },
      "execution_count": null,
      "outputs": [
        {
          "output_type": "stream",
          "name": "stdout",
          "text": [
            "3\n"
          ]
        }
      ]
    },
    {
      "cell_type": "markdown",
      "source": [
        "21. Find the index of the element \"cat\" in the tuple ('dog', 'cat', 'rabbit')"
      ],
      "metadata": {
        "id": "WjDx-xGPmoDS"
      }
    },
    {
      "cell_type": "code",
      "source": [
        "animals = ('dog', 'cat', 'rabbit')\n",
        "print(animals.index('cat'))"
      ],
      "metadata": {
        "colab": {
          "base_uri": "https://localhost:8080/"
        },
        "id": "nKHmHDh7meY4",
        "outputId": "df67c653-c045-4cdd-fdaa-e05509aae3e9"
      },
      "execution_count": null,
      "outputs": [
        {
          "output_type": "stream",
          "name": "stdout",
          "text": [
            "1\n"
          ]
        }
      ]
    },
    {
      "cell_type": "markdown",
      "source": [
        "22. Check if the element \"banana\" is in the tuple ('apple', 'orange', 'banana')"
      ],
      "metadata": {
        "id": "j7zYThCymwbW"
      }
    },
    {
      "cell_type": "code",
      "source": [
        "fruits = ('apple', 'orange', 'banana')\n",
        "print(\"banana\" in fruits)"
      ],
      "metadata": {
        "colab": {
          "base_uri": "https://localhost:8080/"
        },
        "id": "8xQK_Qr4mtR7",
        "outputId": "38a64cc3-124f-435e-f320-11b57fc1ad1b"
      },
      "execution_count": null,
      "outputs": [
        {
          "output_type": "stream",
          "name": "stdout",
          "text": [
            "True\n"
          ]
        }
      ]
    },
    {
      "cell_type": "markdown",
      "source": [
        "23. Create a set with the elements 1, 2, 3, 4, 5 and print it."
      ],
      "metadata": {
        "id": "CyU5LcOUm3FJ"
      }
    },
    {
      "cell_type": "code",
      "source": [
        "my_set = {1, 2, 3, 4, 5}\n",
        "print(my_set)"
      ],
      "metadata": {
        "colab": {
          "base_uri": "https://localhost:8080/"
        },
        "id": "OQzof5sXmyoP",
        "outputId": "ea6320e8-03a6-46a2-cac6-ed2390015060"
      },
      "execution_count": null,
      "outputs": [
        {
          "output_type": "stream",
          "name": "stdout",
          "text": [
            "{1, 2, 3, 4, 5}\n"
          ]
        }
      ]
    },
    {
      "cell_type": "markdown",
      "source": [
        "24. Add the element 6 to the set {1, 2, 3, 4}"
      ],
      "metadata": {
        "id": "8nqCIB6qm9y8"
      }
    },
    {
      "cell_type": "code",
      "source": [
        "my_set = {1, 2, 3, 4}\n",
        "my_set.add(6)\n",
        "print(my_set)"
      ],
      "metadata": {
        "colab": {
          "base_uri": "https://localhost:8080/"
        },
        "id": "LFsamgVFm6wW",
        "outputId": "0431de15-e222-4107-a099-083d6fd18ad7"
      },
      "execution_count": null,
      "outputs": [
        {
          "output_type": "stream",
          "name": "stdout",
          "text": [
            "{1, 2, 3, 4, 6}\n"
          ]
        }
      ]
    }
  ]
}