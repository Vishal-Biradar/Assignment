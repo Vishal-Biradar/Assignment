{
  "nbformat": 4,
  "nbformat_minor": 0,
  "metadata": {
    "colab": {
      "provenance": []
    },
    "kernelspec": {
      "name": "python3",
      "display_name": "Python 3"
    },
    "language_info": {
      "name": "python"
    }
  },
  "cells": [
    {
      "cell_type": "markdown",
      "source": [
        "# **Theory Questions**"
      ],
      "metadata": {
        "id": "0VFg7slpQHvS"
      }
    },
    {
      "cell_type": "markdown",
      "source": [
        "1. Difference between Interpreted and Compiled Languages\n",
        "  \n",
        "  Interpreted Languages:\n",
        "  \n",
        "  Executed line by line by an interpreter.\n",
        "\n",
        "  Slower in execution because every line is processed at runtime.\n",
        "  \n",
        "  Examples: Python, JavaScript, Ruby.\n",
        "  \n",
        "  Errors are caught at runtime, so debugging can be more dynamic.\n",
        "  \n",
        "  Compiled Languages:\n",
        "\n",
        "  Translated into machine code (binary) before execution using a compiler.\n",
        "  \n",
        "  Faster in execution because the program is pre-compiled.\n",
        "  \n",
        "  Examples: C, C++, Go.\n",
        "  \n",
        "  Errors must be resolved before compilation, making debugging a prerequisite."
      ],
      "metadata": {
        "id": "lsEvVFDvjI9E"
      }
    },
    {
      "cell_type": "markdown",
      "source": [
        "2. Exception Handling in Python\n",
        "  \n",
        "  Exception handling allows developers to manage errors that arise during runtime without crashing the program. Python uses the try, except, else, and finally blocks for this.\n",
        "\n",
        "  Example:"
      ],
      "metadata": {
        "id": "3lPmJFHimJhf"
      }
    },
    {
      "cell_type": "code",
      "execution_count": null,
      "metadata": {
        "colab": {
          "base_uri": "https://localhost:8080/"
        },
        "id": "OXjRm5amNnzA",
        "outputId": "bb5db9db-4d3d-4080-b4e9-3122f37762aa"
      },
      "outputs": [
        {
          "output_type": "stream",
          "name": "stdout",
          "text": [
            "Error: division by zero\n"
          ]
        }
      ],
      "source": [
        "try:\n",
        "    result = 10 / 0\n",
        "except ZeroDivisionError as e:\n",
        "    print(f\"Error: {e}\")"
      ]
    },
    {
      "cell_type": "markdown",
      "source": [
        "Here, Python catches the ZeroDivisionError and executes the except block, avoiding a program crash."
      ],
      "metadata": {
        "id": "tFrdUtiHmRaX"
      }
    },
    {
      "cell_type": "markdown",
      "source": [
        "3. Purpose of the finally Block\n",
        "  \n",
        "  The finally block is used for cleanup actions that must occur regardless of whether an exception was raised or not. This is useful for closing files, releasing locks, or disconnecting from a database.\n",
        "\n",
        "  Example:"
      ],
      "metadata": {
        "id": "SmMjegbVmXCR"
      }
    },
    {
      "cell_type": "code",
      "source": [
        "f = None  # Initialize f to None\n",
        "try:\n",
        "    f = open(\"file.txt\", \"r\")\n",
        "    data = f.read()\n",
        "except FileNotFoundError:\n",
        "    print(\"File not found!\")\n",
        "finally:\n",
        "    print(\"Finally block is always executed\")\n",
        "    if f:  # Check if f is not None\n",
        "        f.close()  # Close the file only if it was successfully opened"
      ],
      "metadata": {
        "colab": {
          "base_uri": "https://localhost:8080/"
        },
        "id": "L8TWI1AQmOg4",
        "outputId": "15454004-6a48-4799-dadb-e3c546db6102"
      },
      "execution_count": null,
      "outputs": [
        {
          "output_type": "stream",
          "name": "stdout",
          "text": [
            "File not found!\n",
            "Finally block is always executed\n"
          ]
        }
      ]
    },
    {
      "cell_type": "markdown",
      "source": [
        "4. Logging in Python\n",
        "  \n",
        "  Logging is the practice of recording messages during the execution of a program to trace errors, warnings, and events. Python's logging module provides a flexible framework for creating logs with varying severity levels.\n",
        "\n",
        "  Example:"
      ],
      "metadata": {
        "id": "rlF4uCEnmV10"
      }
    },
    {
      "cell_type": "code",
      "source": [
        "import logging\n",
        "logging.basicConfig(level=logging.DEBUG)\n",
        "logging.info(\"This is an info message.\")\n",
        "logging.error(\"This is an error message.\")"
      ],
      "metadata": {
        "colab": {
          "base_uri": "https://localhost:8080/"
        },
        "id": "VAwe3peGnaeL",
        "outputId": "23a73484-4431-4cfc-f25f-25bedb183488"
      },
      "execution_count": null,
      "outputs": [
        {
          "output_type": "stream",
          "name": "stderr",
          "text": [
            "ERROR:root:This is an error message.\n"
          ]
        }
      ]
    },
    {
      "cell_type": "markdown",
      "source": [
        "5. Significance of the __del__ Method in Python:\n",
        "\n",
        "\n",
        "  The __del__ method is called a destructor. It is invoked automatically when an object is garbage-collected, allowing you to free resources or perform cleanup.\n",
        "\n",
        "  Example:"
      ],
      "metadata": {
        "id": "tfdzJrNanjMp"
      }
    },
    {
      "cell_type": "code",
      "source": [
        "class Resource:\n",
        "    def __del__(self):\n",
        "        print(\"Cleaning up resources.\")\n",
        "obj = Resource()\n",
        "del obj  # Explicitly deleting the object."
      ],
      "metadata": {
        "id": "UEyVMT8FndAC",
        "colab": {
          "base_uri": "https://localhost:8080/"
        },
        "outputId": "7faaadcb-9c1d-4a47-ab29-06913aedbed8"
      },
      "execution_count": null,
      "outputs": [
        {
          "output_type": "stream",
          "name": "stdout",
          "text": [
            "Cleaning up resources.\n"
          ]
        }
      ]
    },
    {
      "cell_type": "markdown",
      "source": [
        "6. Difference Between import and from import in Python:\n",
        "\n",
        "  import imports the entire module:"
      ],
      "metadata": {
        "id": "fGubTLHGXyi-"
      }
    },
    {
      "cell_type": "code",
      "source": [
        "import math\n",
        "print(math.sqrt(16))\n"
      ],
      "metadata": {
        "colab": {
          "base_uri": "https://localhost:8080/"
        },
        "id": "uKGM1f0QXlEH",
        "outputId": "c3dcdc56-3b08-4ce3-df7d-9f4b50a84079"
      },
      "execution_count": null,
      "outputs": [
        {
          "output_type": "stream",
          "name": "stdout",
          "text": [
            "4.0\n"
          ]
        }
      ]
    },
    {
      "cell_type": "markdown",
      "source": [
        "from import imports specific functions or classes:"
      ],
      "metadata": {
        "id": "wt3lPn7vX85x"
      }
    },
    {
      "cell_type": "code",
      "source": [
        "from math import sqrt\n",
        "print(sqrt(16))"
      ],
      "metadata": {
        "colab": {
          "base_uri": "https://localhost:8080/"
        },
        "id": "ya7oz0KZX56z",
        "outputId": "90094994-dd4d-4d9a-b04b-69c5834dfcf2"
      },
      "execution_count": null,
      "outputs": [
        {
          "output_type": "stream",
          "name": "stdout",
          "text": [
            "4.0\n"
          ]
        }
      ]
    },
    {
      "cell_type": "markdown",
      "source": [
        "7. Handling Multiple Exceptions\n",
        "  \n",
        "  Multiple exceptions can be handled using a tuple in the except clause or separate except blocks.\n",
        "\n",
        "  Example:"
      ],
      "metadata": {
        "id": "YbdhEs4-YGCh"
      }
    },
    {
      "cell_type": "code",
      "source": [
        "try:\n",
        "    num = int(input(\"Enter a number: \"))\n",
        "    result = 10 / num\n",
        "except (ZeroDivisionError, ValueError) as e:\n",
        "    print(f\"Error: {e}\")"
      ],
      "metadata": {
        "colab": {
          "base_uri": "https://localhost:8080/"
        },
        "id": "h_JQDcPUX_ks",
        "outputId": "5852343c-b8e8-4e9f-8383-362775bd7757"
      },
      "execution_count": null,
      "outputs": [
        {
          "output_type": "stream",
          "name": "stdout",
          "text": [
            "Enter a number: 0\n",
            "Error: division by zero\n"
          ]
        }
      ]
    },
    {
      "cell_type": "markdown",
      "source": [
        "8. Purpose of the with Statement in File Handling\n",
        "  \n",
        "  The with statement ensures files are properly closed after operations, even if an error occurs.\n",
        "\n",
        "  Example:"
      ],
      "metadata": {
        "id": "0zHhJ-R3YSMs"
      }
    },
    {
      "cell_type": "code",
      "source": [
        "with open(\"file.txt\", \"r\") as f:\n",
        "    data = f.read()\n",
        "# No need to explicitly call f.close()"
      ],
      "metadata": {
        "id": "e3OOLp9NYd_O"
      },
      "execution_count": null,
      "outputs": []
    },
    {
      "cell_type": "markdown",
      "source": [
        "9. Difference Between Multithreading and Multiprocessing\n",
        "  \n",
        "  Multithreading:\n",
        "  \n",
        "  1. Multiple threads share the same memory space.\n",
        "  \n",
        "  2. Suitable for I/O-bound tasks.\n",
        "  \n",
        "  3. Uses Python's threading module.\n",
        "\n",
        "  Multiprocessing:\n",
        "  \n",
        "  1. Separate memory space for each process.\n",
        "  \n",
        "  2. Suitable for CPU-bound tasks.\n",
        "  \n",
        "  3. Uses Python's multiprocessing module."
      ],
      "metadata": {
        "id": "-z8WU419Ymug"
      }
    },
    {
      "cell_type": "markdown",
      "source": [
        "10. Advantages of Logging\n",
        "  \n",
        "  1. Helps trace issues in production environments.\n",
        "  2. Records a history of events and errors.\n",
        "  3. Offers multiple levels (INFO, DEBUG, WARNING, ERROR).\n",
        "  4. Improves debugging and monitoring capabilities."
      ],
      "metadata": {
        "id": "ZCmZN7t2ZCL1"
      }
    },
    {
      "cell_type": "markdown",
      "source": [
        "11. Memory Management in Python\n",
        "\n",
        "  Python uses dynamic memory management. It handles memory through:\n",
        "\n",
        "  1. Reference Counting: Tracks the number of references to an object.\n",
        "  2. Garbage Collection: Frees memory occupied by unused objects."
      ],
      "metadata": {
        "id": "NoscnhoyZQEH"
      }
    },
    {
      "cell_type": "markdown",
      "source": [
        "12. Steps in Exception Handling\n",
        "  \n",
        "  1. Enclose risky code in a try block.\n",
        "  2. Catch exceptions using except.\n",
        "  3. Optionally execute code if no exception is raised (else).\n",
        "  4. Ensure cleanup using finally."
      ],
      "metadata": {
        "id": "sf7ug8nVZaep"
      }
    },
    {
      "cell_type": "markdown",
      "source": [
        "13. Importance of Memory Management\n",
        "  \n",
        "  Efficient memory management prevents:\n",
        "\n",
        "  1. Memory leaks.\n",
        "  2. Crashes due to high memory usage.\n",
        "  3. Inefficiencies in resource utilization."
      ],
      "metadata": {
        "id": "YG6Oqs7LZbBb"
      }
    },
    {
      "cell_type": "markdown",
      "source": [
        "14. Role of try and except\n",
        "  \n",
        "  The try block holds the code that may raise exceptions, while except handles those exceptions."
      ],
      "metadata": {
        "id": "YpEVnC3vZ3I7"
      }
    },
    {
      "cell_type": "markdown",
      "source": [
        "15. Python's Garbage Collection\n",
        "  \n",
        "  Python's garbage collector removes objects with no references. Cyclic references are handled using the gc module.\n",
        "\n"
      ],
      "metadata": {
        "id": "dJ5iklF9Z-5P"
      }
    },
    {
      "cell_type": "markdown",
      "source": [
        "16. Purpose of the else Block\n",
        "  \n",
        "  The else block runs code if no exception occurs in the try block.\n",
        "\n",
        "  Example:"
      ],
      "metadata": {
        "id": "s5Ig4U6laD71"
      }
    },
    {
      "cell_type": "code",
      "source": [
        "try:\n",
        "    print(10 / 2)\n",
        "except ZeroDivisionError:\n",
        "    print(\"Division error\")\n",
        "else:\n",
        "    print(\"Division successful\")"
      ],
      "metadata": {
        "colab": {
          "base_uri": "https://localhost:8080/"
        },
        "id": "s9bSlThoaJYG",
        "outputId": "a304fda7-15fe-44b5-d57a-a0ba36df02ba"
      },
      "execution_count": null,
      "outputs": [
        {
          "output_type": "stream",
          "name": "stdout",
          "text": [
            "5.0\n",
            "Division successful\n"
          ]
        }
      ]
    },
    {
      "cell_type": "markdown",
      "source": [
        "17. Common Logging Levels\n",
        "  \n",
        "  1. DEBUG\n",
        "  2. INFO\n",
        "  3. WARNING\n",
        "  4. ERROR\n",
        "  5. CRITICAL"
      ],
      "metadata": {
        "id": "HJwN-Q03aSBU"
      }
    },
    {
      "cell_type": "markdown",
      "source": [
        "18. Difference Between os.fork() and multiprocessing\n",
        "  \n",
        "  -> os.fork(): Creates a new child process. Limited portability.\n",
        "  \n",
        "  ->multiprocessing: Platform-independent, creates processes with easier management.\n"
      ],
      "metadata": {
        "id": "FzTTUTefaezR"
      }
    },
    {
      "cell_type": "markdown",
      "source": [
        "19. Importance of Closing a File\n",
        "  \n",
        "  Closing a file ensures:\n",
        "\n",
        "    1. Resources are released.\n",
        "    2. Data is properly saved.\n",
        "    3. No file locks are left.\n"
      ],
      "metadata": {
        "id": "ovGd7Tk8anw7"
      }
    },
    {
      "cell_type": "markdown",
      "source": [
        "20. Difference Between file.read() and file.readline()\n",
        "  \n",
        "  file.read(): Reads the entire file.\n",
        "  \n",
        "  file.readline(): Reads one line at a time.\n"
      ],
      "metadata": {
        "id": "sfQ0S5A1a2rI"
      }
    },
    {
      "cell_type": "markdown",
      "source": [
        "21. Logging Module\n",
        "  \n",
        "  The logging module provides tools to log events, errors, and warnings for debugging."
      ],
      "metadata": {
        "id": "mZYNwSuza631"
      }
    },
    {
      "cell_type": "markdown",
      "source": [
        "22. os Module for File Handling\n",
        "  \n",
        "  The os module provides tools to interact with the file system:\n",
        "\n",
        "    1. Creating files.\n",
        "    2. Renaming files.\n",
        "    3. Deleting files.\n"
      ],
      "metadata": {
        "id": "gsON-1Ama_SW"
      }
    },
    {
      "cell_type": "markdown",
      "source": [
        "23. Challenges in Memory Management\n",
        "  \n",
        "  Reference cycles.\n",
        "  \n",
        "  Handling large objects.\n",
        "  \n",
        "  Avoiding memory fragmentation.\n"
      ],
      "metadata": {
        "id": "YUS4_ksUbRDb"
      }
    },
    {
      "cell_type": "markdown",
      "source": [
        "24. Raising Exceptions Manually\n",
        "  \n",
        "  You can raise exceptions using the raise keyword.\n",
        "\n",
        "  Example: raise ValueError(\"Invalid input\")"
      ],
      "metadata": {
        "id": "HIM29ruUbab5"
      }
    },
    {
      "cell_type": "markdown",
      "source": [
        "25. Importance of Multithreading\n",
        "  \n",
        "  Multithreading is crucial for:\n",
        "\n",
        "  1. Efficiently handling I/O-bound tasks.\n",
        "  2. Running multiple tasks simultaneously.\n",
        "  3. Improving performance in networked applications."
      ],
      "metadata": {
        "id": "PE_E04Pybqvd"
      }
    },
    {
      "cell_type": "markdown",
      "source": [
        "# **Practical Questions**"
      ],
      "metadata": {
        "id": "XK_j75d-cBsy"
      }
    },
    {
      "cell_type": "markdown",
      "source": [
        "1. How can you open a file for writing in Python and write a string to it?"
      ],
      "metadata": {
        "id": "w80TadklcGD3"
      }
    },
    {
      "cell_type": "code",
      "source": [
        "# Opening a file for writing and writing a string to it\n",
        "file_path = \"example.txt\"\n",
        "content = \"Hello, World!\"\n",
        "\n",
        "with open(file_path, \"w\") as file:\n",
        "    file.write(content)\n",
        "\n",
        "print(f\"Content written to {file_path}.\")"
      ],
      "metadata": {
        "colab": {
          "base_uri": "https://localhost:8080/"
        },
        "id": "l8uIGitMdQfh",
        "outputId": "ed5ce9a8-0728-44d3-f670-68b2243e6c4c"
      },
      "execution_count": null,
      "outputs": [
        {
          "output_type": "stream",
          "name": "stdout",
          "text": [
            "Content written to example.txt.\n"
          ]
        }
      ]
    },
    {
      "cell_type": "markdown",
      "source": [
        "2. Write a Python program to read the contents of a file and print each line."
      ],
      "metadata": {
        "id": "a3Ncy6LvdZ2f"
      }
    },
    {
      "cell_type": "code",
      "source": [
        "# Reading the contents of a file and printing each line\n",
        "file_path = \"example.txt\"\n",
        "\n",
        "try:\n",
        "    with open(file_path, \"r\") as file:\n",
        "        for line in file:\n",
        "            print(line.strip())\n",
        "except FileNotFoundError:\n",
        "    print(f\"The file {file_path} does not exist.\")"
      ],
      "metadata": {
        "colab": {
          "base_uri": "https://localhost:8080/"
        },
        "id": "fs9oXLE4dUZ_",
        "outputId": "c1dea00b-5cfa-4322-fd21-a989d8732527"
      },
      "execution_count": null,
      "outputs": [
        {
          "output_type": "stream",
          "name": "stdout",
          "text": [
            "Hello, World!\n"
          ]
        }
      ]
    },
    {
      "cell_type": "markdown",
      "source": [
        "3. How would you handle a case where the file doesn't exist while trying to open it for reading?"
      ],
      "metadata": {
        "id": "_YgpF5f1dfoB"
      }
    },
    {
      "cell_type": "code",
      "source": [
        "# Handling file not found error while opening a file for reading\n",
        "file_path = \"nonexistent.txt\"\n",
        "\n",
        "try:\n",
        "    with open(file_path, \"r\") as file:\n",
        "        content = file.read()\n",
        "        print(content)\n",
        "except FileNotFoundError:\n",
        "    print(f\"Error: The file '{file_path}' does not exist.\")"
      ],
      "metadata": {
        "colab": {
          "base_uri": "https://localhost:8080/"
        },
        "id": "SNqkprmRdcFo",
        "outputId": "b7d11865-442d-4ee4-b6ec-b130683f8c98"
      },
      "execution_count": null,
      "outputs": [
        {
          "output_type": "stream",
          "name": "stdout",
          "text": [
            "Error: The file 'nonexistent.txt' does not exist.\n"
          ]
        }
      ]
    },
    {
      "cell_type": "markdown",
      "source": [
        "4. Write a Python script that reads from one file and writes its content to another file."
      ],
      "metadata": {
        "id": "tjXbZZBAdpcv"
      }
    },
    {
      "cell_type": "code",
      "source": [
        "# Reading content from one file and writing to another file\n",
        "source_file = \"source.txt\"\n",
        "destination_file = \"destination.txt\"\n",
        "\n",
        "try:\n",
        "    with open(source_file, \"r\") as src, open(destination_file, \"w\") as dest:\n",
        "        dest.write(src.read())\n",
        "    print(f\"Content copied from {source_file} to {destination_file}.\")\n",
        "except FileNotFoundError:\n",
        "    print(f\"Error: {source_file} does not exist.\")"
      ],
      "metadata": {
        "colab": {
          "base_uri": "https://localhost:8080/"
        },
        "id": "vyDVdx48djwp",
        "outputId": "0916717a-7f77-46e9-923a-d0d7748b2747"
      },
      "execution_count": null,
      "outputs": [
        {
          "output_type": "stream",
          "name": "stdout",
          "text": [
            "Error: source.txt does not exist.\n"
          ]
        }
      ]
    },
    {
      "cell_type": "markdown",
      "source": [
        "5. How would you catch and handle division by zero error in Python?"
      ],
      "metadata": {
        "id": "tnudAAi4d2r0"
      }
    },
    {
      "cell_type": "code",
      "source": [
        "# Handling division by zero error\n",
        "try:\n",
        "    result = 10 / 0\n",
        "except ZeroDivisionError:\n",
        "    print(\"Error: Division by zero is not allowed.\")"
      ],
      "metadata": {
        "colab": {
          "base_uri": "https://localhost:8080/"
        },
        "id": "xvXFpRfldujh",
        "outputId": "01223191-81e9-4755-e495-dc1ab9484791"
      },
      "execution_count": null,
      "outputs": [
        {
          "output_type": "stream",
          "name": "stdout",
          "text": [
            "Error: Division by zero is not allowed.\n"
          ]
        }
      ]
    },
    {
      "cell_type": "markdown",
      "source": [
        "6. Write a Python program that logs an error message to a log file when a division by zero exception occurs."
      ],
      "metadata": {
        "id": "p4REJv-Gd8KS"
      }
    },
    {
      "cell_type": "code",
      "source": [
        "import logging\n",
        "\n",
        "# Logging division by zero error to a file\n",
        "logging.basicConfig(filename=\"error.log\", level=logging.ERROR)\n",
        "\n",
        "try:\n",
        "    result = 10 / 0\n",
        "except ZeroDivisionError as e:\n",
        "    logging.error(f\"Division by zero occurred: {e}\")\n",
        "    print(\"Error logged to error.log.\")"
      ],
      "metadata": {
        "colab": {
          "base_uri": "https://localhost:8080/"
        },
        "id": "phUINghbd5Dd",
        "outputId": "e32c3b49-3aa1-4067-ec78-6ca3b001e422"
      },
      "execution_count": null,
      "outputs": [
        {
          "output_type": "stream",
          "name": "stderr",
          "text": [
            "ERROR:root:Division by zero occurred: division by zero\n"
          ]
        },
        {
          "output_type": "stream",
          "name": "stdout",
          "text": [
            "Error logged to error.log.\n"
          ]
        }
      ]
    },
    {
      "cell_type": "markdown",
      "source": [
        "7. How do you log information at different levels (INFO, ERROR, WARNING) in Python using the logging module?"
      ],
      "metadata": {
        "id": "-SILhi_GeCYH"
      }
    },
    {
      "cell_type": "code",
      "source": [
        "import logging\n",
        "\n",
        "# Logging at different levels\n",
        "logging.basicConfig(level=logging.DEBUG, filename=\"app.log\", filemode=\"w\")\n",
        "\n",
        "logging.info(\"This is an informational message.\")\n",
        "logging.warning(\"This is a warning message.\")\n",
        "logging.error(\"This is an error message.\")\n",
        "\n",
        "print(\"Messages logged to app.log.\")"
      ],
      "metadata": {
        "colab": {
          "base_uri": "https://localhost:8080/"
        },
        "id": "Sv4DFlPBd-4q",
        "outputId": "83f9bff5-c940-4c5b-f157-8569a9880162"
      },
      "execution_count": null,
      "outputs": [
        {
          "output_type": "stream",
          "name": "stderr",
          "text": [
            "WARNING:root:This is a warning message.\n",
            "ERROR:root:This is an error message.\n"
          ]
        },
        {
          "output_type": "stream",
          "name": "stdout",
          "text": [
            "Messages logged to app.log.\n"
          ]
        }
      ]
    },
    {
      "cell_type": "markdown",
      "source": [
        "8. Write a program to handle a file opening error using exception handling."
      ],
      "metadata": {
        "id": "CmWUqBgkeOEd"
      }
    },
    {
      "cell_type": "code",
      "source": [
        "# Handling file opening error\n",
        "file_path = \"unknown.txt\"\n",
        "\n",
        "try:\n",
        "    with open(file_path, \"r\") as file:\n",
        "        print(file.read())\n",
        "except FileNotFoundError:\n",
        "    print(f\"Error: Unable to open file {file_path}. File does not exist.\")"
      ],
      "metadata": {
        "colab": {
          "base_uri": "https://localhost:8080/"
        },
        "id": "jNXomf8qeFLK",
        "outputId": "1e5cd1ad-e88b-4d94-ca2c-18b26fc79391"
      },
      "execution_count": null,
      "outputs": [
        {
          "output_type": "stream",
          "name": "stdout",
          "text": [
            "Error: Unable to open file unknown.txt. File does not exist.\n"
          ]
        }
      ]
    },
    {
      "cell_type": "markdown",
      "source": [
        "9. How can you read a file line by line and store its content in a list in Python?"
      ],
      "metadata": {
        "id": "E-4sA9FjeWGo"
      }
    },
    {
      "cell_type": "code",
      "source": [
        "# Reading file line by line and storing content in a list\n",
        "file_path = \"example.txt\"\n",
        "\n",
        "try:\n",
        "    with open(file_path, \"r\") as file:\n",
        "        lines = file.readlines()\n",
        "    print(\"File content as a list:\", lines)\n",
        "except FileNotFoundError:\n",
        "    print(f\"The file {file_path} does not exist.\")"
      ],
      "metadata": {
        "colab": {
          "base_uri": "https://localhost:8080/"
        },
        "id": "laOxTw2seRaJ",
        "outputId": "970758a3-2491-48fc-b0fd-343016d658fd"
      },
      "execution_count": null,
      "outputs": [
        {
          "output_type": "stream",
          "name": "stdout",
          "text": [
            "File content as a list: ['Hello, World!']\n"
          ]
        }
      ]
    },
    {
      "cell_type": "markdown",
      "source": [
        "10. How can you append data to an existing file in Python?"
      ],
      "metadata": {
        "id": "khqmdopAel7k"
      }
    },
    {
      "cell_type": "code",
      "source": [
        "# Appending data to an existing file\n",
        "file_path = \"example.txt\"\n",
        "new_content = \"\\nAppended line.\"\n",
        "\n",
        "with open(file_path, \"a\") as file:\n",
        "    file.write(new_content)\n",
        "\n",
        "print(f\"New content appended to {file_path}.\")"
      ],
      "metadata": {
        "colab": {
          "base_uri": "https://localhost:8080/"
        },
        "id": "kaf7lu10eYj8",
        "outputId": "f39d1e9f-b1d2-4667-e227-cfbfabcf47b1"
      },
      "execution_count": null,
      "outputs": [
        {
          "output_type": "stream",
          "name": "stdout",
          "text": [
            "New content appended to example.txt.\n"
          ]
        }
      ]
    },
    {
      "cell_type": "markdown",
      "source": [
        "11. Write a Python program that uses a try-except block to handle an error when attempting to access a dictionary key that doesn't exist."
      ],
      "metadata": {
        "id": "SV0xq4PBeprO"
      }
    },
    {
      "cell_type": "code",
      "source": [
        "# Handling missing dictionary key error\n",
        "data = {\"name\": \"Alice\", \"age\": 30}\n",
        "\n",
        "try:\n",
        "    print(data[\"address\"])\n",
        "except KeyError:\n",
        "    print(\"Error: Key 'address' does not exist in the dictionary.\")"
      ],
      "metadata": {
        "colab": {
          "base_uri": "https://localhost:8080/"
        },
        "id": "Cooje0GGekfi",
        "outputId": "e53f42f0-7c2c-4045-cf53-67f7023c6640"
      },
      "execution_count": null,
      "outputs": [
        {
          "output_type": "stream",
          "name": "stdout",
          "text": [
            "Error: Key 'address' does not exist in the dictionary.\n"
          ]
        }
      ]
    },
    {
      "cell_type": "markdown",
      "source": [
        "12. Write a program that demonstrates using multiple except blocks to handle different types of exceptions."
      ],
      "metadata": {
        "id": "cr5tegzAe2no"
      }
    },
    {
      "cell_type": "code",
      "source": [
        "# Handling multiple exceptions\n",
        "try:\n",
        "    num = int(input(\"Enter a number: \"))\n",
        "    result = 10 / num\n",
        "    print(f\"Result: {result}\")\n",
        "except ZeroDivisionError:\n",
        "    print(\"Error: Division by zero.\")\n",
        "except ValueError:\n",
        "    print(\"Error: Invalid input. Please enter a number.\")"
      ],
      "metadata": {
        "colab": {
          "base_uri": "https://localhost:8080/"
        },
        "id": "Vit-PxOCeyEr",
        "outputId": "a2c2322f-7c7d-483b-844b-da20b395afbe"
      },
      "execution_count": null,
      "outputs": [
        {
          "output_type": "stream",
          "name": "stdout",
          "text": [
            "Enter a number: 10\n",
            "Result: 1.0\n"
          ]
        }
      ]
    },
    {
      "cell_type": "markdown",
      "source": [
        "13. How would you check if a file exists before attempting to read it in Python?"
      ],
      "metadata": {
        "id": "yYNAa2yGfHnl"
      }
    },
    {
      "cell_type": "code",
      "source": [
        "import os\n",
        "\n",
        "# Checking if a file exists before reading\n",
        "file_path = \"example.txt\"\n",
        "\n",
        "if os.path.exists(file_path):\n",
        "    with open(file_path, \"r\") as file:\n",
        "        print(file.read())\n",
        "else:\n",
        "    print(f\"The file {file_path} does not exist.\")"
      ],
      "metadata": {
        "colab": {
          "base_uri": "https://localhost:8080/"
        },
        "id": "zJVGHV3je9to",
        "outputId": "4bffea90-dea6-4ca6-8398-1234b3490635"
      },
      "execution_count": null,
      "outputs": [
        {
          "output_type": "stream",
          "name": "stdout",
          "text": [
            "Hello, World!\n",
            "Appended line.\n"
          ]
        }
      ]
    },
    {
      "cell_type": "markdown",
      "source": [
        "14. Write a program that uses the logging module to log both informational and error messages."
      ],
      "metadata": {
        "id": "UyLn5mA5fVqF"
      }
    },
    {
      "cell_type": "code",
      "source": [
        "import logging\n",
        "\n",
        "# Logging both informational and error messages\n",
        "logging.basicConfig(filename=\"app.log\", level=logging.DEBUG)\n",
        "\n",
        "logging.info(\"Program started.\")\n",
        "try:\n",
        "    result = 10 / 0\n",
        "except ZeroDivisionError as e:\n",
        "    logging.error(f\"Error occurred: {e}\")\n",
        "logging.info(\"Program finished.\")"
      ],
      "metadata": {
        "colab": {
          "base_uri": "https://localhost:8080/"
        },
        "id": "bbJQJOf8fLfo",
        "outputId": "0169e1e5-7d46-4ee2-dec6-4ef78b93fb31"
      },
      "execution_count": null,
      "outputs": [
        {
          "output_type": "stream",
          "name": "stderr",
          "text": [
            "ERROR:root:Error occurred: division by zero\n"
          ]
        }
      ]
    },
    {
      "cell_type": "markdown",
      "source": [
        "15. Write a Python program that prints the content of a file and handles the case when the file is empty."
      ],
      "metadata": {
        "id": "56YHic3kfj_j"
      }
    },
    {
      "cell_type": "code",
      "source": [
        "# Printing file content and handling empty file\n",
        "file_path = \"example.txt\"\n",
        "\n",
        "try:\n",
        "    with open(file_path, \"r\") as file:\n",
        "        content = file.read()\n",
        "        if content:\n",
        "            print(content)\n",
        "        else:\n",
        "            print(\"The file is empty.\")\n",
        "except FileNotFoundError:\n",
        "    print(f\"The file {file_path} does not exist.\")"
      ],
      "metadata": {
        "colab": {
          "base_uri": "https://localhost:8080/"
        },
        "id": "luHuxUXhfdMO",
        "outputId": "5d140fb7-4413-4fdf-cbf5-2978ff6e6fb2"
      },
      "execution_count": null,
      "outputs": [
        {
          "output_type": "stream",
          "name": "stdout",
          "text": [
            "Hello, World!\n",
            "Appended line.\n"
          ]
        }
      ]
    },
    {
      "cell_type": "markdown",
      "source": [
        "16. Demonstrate how to use memory profiling to check the memory usage of a small program."
      ],
      "metadata": {
        "id": "BBUR06AVf2-w"
      }
    },
    {
      "cell_type": "code",
      "source": [
        "from memory_profiler import profile\n",
        "\n",
        "@profile\n",
        "def compute():\n",
        "    data = [i ** 2 for i in range(100000)]\n",
        "    return sum(data)\n",
        "\n",
        "compute()"
      ],
      "metadata": {
        "id": "zfSUAC9Wf6z7"
      },
      "execution_count": null,
      "outputs": []
    },
    {
      "cell_type": "markdown",
      "source": [
        "17. Write a Python program to create and write a list of numbers to a file, one number per line."
      ],
      "metadata": {
        "id": "4Fev1lJ1gD1f"
      }
    },
    {
      "cell_type": "code",
      "source": [
        "# Writing a list of numbers to a file\n",
        "file_path = \"numbers.txt\"\n",
        "numbers = [1, 2, 3, 4, 5]\n",
        "\n",
        "with open(file_path, \"w\") as file:\n",
        "    for number in numbers:\n",
        "        file.write(f\"{number}\\n\")\n",
        "\n",
        "print(f\"Numbers written to {file_path}.\")"
      ],
      "metadata": {
        "colab": {
          "base_uri": "https://localhost:8080/"
        },
        "id": "c0JV2qgLgLjR",
        "outputId": "1698a476-74fa-43ee-9440-41f57181fa16"
      },
      "execution_count": null,
      "outputs": [
        {
          "output_type": "stream",
          "name": "stdout",
          "text": [
            "Numbers written to numbers.txt.\n"
          ]
        }
      ]
    },
    {
      "cell_type": "markdown",
      "source": [
        "18. How would you implement a basic logging setup that logs to a file with rotation after 1MB?"
      ],
      "metadata": {
        "id": "FMVQljDFhEYs"
      }
    },
    {
      "cell_type": "code",
      "source": [
        "import logging\n",
        "from logging.handlers import RotatingFileHandler\n",
        "\n",
        "# Rotating file handler logging\n",
        "handler = RotatingFileHandler(\"rotating.log\", maxBytes=1_000_000, backupCount=5)\n",
        "logging.basicConfig(handlers=[handler], level=logging.DEBUG)\n",
        "\n",
        "logging.info(\"This is an informational message.\")\n",
        "logging.error(\"This is an error message.\")"
      ],
      "metadata": {
        "colab": {
          "base_uri": "https://localhost:8080/"
        },
        "id": "U5FmjpNGgNnB",
        "outputId": "6b446f25-1554-4329-e1bb-9c252eae21c2"
      },
      "execution_count": null,
      "outputs": [
        {
          "output_type": "stream",
          "name": "stderr",
          "text": [
            "ERROR:root:This is an error message.\n"
          ]
        }
      ]
    },
    {
      "cell_type": "markdown",
      "source": [
        "19. Write a program that handles both IndexError and KeyError using a try-except block."
      ],
      "metadata": {
        "id": "0pqwjYUkhMT3"
      }
    },
    {
      "cell_type": "code",
      "source": [
        "# Handling both IndexError and KeyError\n",
        "data = {\"name\": \"Alice\"}\n",
        "list_data = [1, 2, 3]\n",
        "\n",
        "try:\n",
        "    print(data[\"age\"])\n",
        "    print(list_data[5])\n",
        "except KeyError:\n",
        "    print(\"KeyError: The specified key does not exist.\")\n",
        "except IndexError:\n",
        "    print(\"IndexError: List index out of range.\")"
      ],
      "metadata": {
        "colab": {
          "base_uri": "https://localhost:8080/"
        },
        "id": "QSaJAt95hHMG",
        "outputId": "202b3df7-a726-4653-d667-60ab2162dbdc"
      },
      "execution_count": null,
      "outputs": [
        {
          "output_type": "stream",
          "name": "stdout",
          "text": [
            "KeyError: The specified key does not exist.\n"
          ]
        }
      ]
    },
    {
      "cell_type": "markdown",
      "source": [
        "20. How would you open a file and read its contents using a context manager in Python?"
      ],
      "metadata": {
        "id": "rUN376-lhWGe"
      }
    },
    {
      "cell_type": "code",
      "source": [
        "# Reading file content using a context manager\n",
        "file_path = \"example.txt\"\n",
        "\n",
        "try:\n",
        "    with open(file_path, \"r\") as file:\n",
        "        content = file.read()\n",
        "        print(content)\n",
        "except FileNotFoundError:\n",
        "    print(f\"The file {file_path} does not exist.\")"
      ],
      "metadata": {
        "colab": {
          "base_uri": "https://localhost:8080/"
        },
        "id": "Vh3gNnePhPNO",
        "outputId": "c9a22825-ef1e-4110-f702-3eab4a76e768"
      },
      "execution_count": null,
      "outputs": [
        {
          "output_type": "stream",
          "name": "stdout",
          "text": [
            "Hello, World!\n",
            "Appended line.\n"
          ]
        }
      ]
    },
    {
      "cell_type": "markdown",
      "source": [
        "21. Write a Python program that reads a file and prints the number of occurrences of a specific word."
      ],
      "metadata": {
        "id": "Tz0lDDHnhdy6"
      }
    },
    {
      "cell_type": "code",
      "source": [
        "# Counting word occurrences in a file\n",
        "file_path = \"example.txt\"\n",
        "word_to_count = \"hello\"\n",
        "\n",
        "try:\n",
        "    with open(file_path, \"r\") as file:\n",
        "        content = file.read().lower()\n",
        "        count = content.count(word_to_count.lower())\n",
        "    print(f\"The word '{word_to_count}' appears {count} times.\")\n",
        "except FileNotFoundError:\n",
        "    print(f\"The file {file_path} does not exist.\")"
      ],
      "metadata": {
        "colab": {
          "base_uri": "https://localhost:8080/"
        },
        "id": "zPpiWOzkhY0e",
        "outputId": "fadb6747-bc64-4214-8573-bbcc6bbbbbac"
      },
      "execution_count": null,
      "outputs": [
        {
          "output_type": "stream",
          "name": "stdout",
          "text": [
            "The word 'hello' appears 1 times.\n"
          ]
        }
      ]
    },
    {
      "cell_type": "markdown",
      "source": [
        "22. How can you check if a file is empty before attempting to read its contents?"
      ],
      "metadata": {
        "id": "3CP2iy2khnfo"
      }
    },
    {
      "cell_type": "code",
      "source": [
        "import os\n",
        "\n",
        "# Checking if a file is empty\n",
        "file_path = \"example.txt\"\n",
        "\n",
        "if os.path.exists(file_path):\n",
        "    if os.path.getsize(file_path) > 0:\n",
        "        with open(file_path, \"r\") as file:\n",
        "            print(file.read())\n",
        "    else:\n",
        "        print(f\"The file {file_path} is empty.\")\n",
        "else:\n",
        "    print(f\"The file {file_path} does not exist.\")"
      ],
      "metadata": {
        "colab": {
          "base_uri": "https://localhost:8080/"
        },
        "id": "NM4WxsWYhhTk",
        "outputId": "dddde083-de66-4988-f4d8-1876cf47455d"
      },
      "execution_count": null,
      "outputs": [
        {
          "output_type": "stream",
          "name": "stdout",
          "text": [
            "Hello, World!\n",
            "Appended line.\n"
          ]
        }
      ]
    },
    {
      "cell_type": "markdown",
      "source": [
        "23. Write a Python program that writes to a log file when an error occurs during file handling."
      ],
      "metadata": {
        "id": "g_eSLy9Rhtjw"
      }
    },
    {
      "cell_type": "code",
      "source": [
        "import logging\n",
        "\n",
        "# Logging file handling errors\n",
        "logging.basicConfig(filename=\"file_errors.log\", level=logging.ERROR)\n",
        "\n",
        "file_path = \"missing.txt\"\n",
        "\n",
        "try:\n",
        "    with open(file_path, \"r\") as file:\n",
        "        print(file.read())\n",
        "except FileNotFoundError as e:\n",
        "    logging.error(f\"Error occurred: {e}\")\n",
        "    print(\"Error logged to file_errors.log.\")"
      ],
      "metadata": {
        "colab": {
          "base_uri": "https://localhost:8080/"
        },
        "id": "F8SVkhxkhqMX",
        "outputId": "396f9f7b-b83d-4543-af2b-1271c6d28eaa"
      },
      "execution_count": null,
      "outputs": [
        {
          "output_type": "stream",
          "name": "stderr",
          "text": [
            "ERROR:root:Error occurred: [Errno 2] No such file or directory: 'missing.txt'\n"
          ]
        },
        {
          "output_type": "stream",
          "name": "stdout",
          "text": [
            "Error logged to file_errors.log.\n"
          ]
        }
      ]
    }
  ]
}