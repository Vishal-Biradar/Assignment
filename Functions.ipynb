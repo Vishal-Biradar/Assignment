{
  "nbformat": 4,
  "nbformat_minor": 0,
  "metadata": {
    "colab": {
      "provenance": []
    },
    "kernelspec": {
      "name": "python3",
      "display_name": "Python 3"
    },
    "language_info": {
      "name": "python"
    }
  },
  "cells": [
    {
      "cell_type": "markdown",
      "source": [
        "# **ASSIGNMENT**"
      ],
      "metadata": {
        "id": "H_U3jkVotVA0"
      }
    },
    {
      "cell_type": "markdown",
      "source": [
        "# **Theory Questions**"
      ],
      "metadata": {
        "id": "v0nGMg_yt7Pk"
      }
    },
    {
      "cell_type": "markdown",
      "source": [
        "1. What is the difference between a function and a method in Python?\n",
        "\n",
        "  Function: A block of code that performs a specific task. It is not associated with any object and can be called independently.\n",
        "  \n",
        "  Method: A function that is associated with an object. It is called on an object and can access and modify the object’s data.\n",
        "\n",
        "  Example:"
      ],
      "metadata": {
        "id": "umlEnFLvuIdT"
      }
    },
    {
      "cell_type": "code",
      "execution_count": null,
      "metadata": {
        "colab": {
          "base_uri": "https://localhost:8080/"
        },
        "id": "zHjP-f5Cs5M6",
        "outputId": "15d2da36-f51f-41d6-9637-e467d0a20836"
      },
      "outputs": [
        {
          "output_type": "stream",
          "name": "stdout",
          "text": [
            "Hello, Alice\n",
            "Hello!\n"
          ]
        }
      ],
      "source": [
        "# Function\n",
        "def greet(name):\n",
        "    return f\"Hello, {name}\"\n",
        "\n",
        "print(greet(\"Alice\"))  # Output: Hello, Alice\n",
        "\n",
        "# Method\n",
        "class Person:\n",
        "    def greet(self):\n",
        "        return \"Hello!\"\n",
        "\n",
        "p = Person()\n",
        "print(p.greet())  # Output: Hello!"
      ]
    },
    {
      "cell_type": "markdown",
      "source": [
        "2. Explain the concept of function arguments and parameters in Python.\n",
        "  \n",
        "  Parameters: Variables defined in the function declaration.\n",
        "  \n",
        "  Arguments: Actual values passed to the function when it is called.\n",
        "\n",
        "  Example:"
      ],
      "metadata": {
        "id": "upxXXOyYvFdh"
      }
    },
    {
      "cell_type": "code",
      "source": [
        "# Parameters\n",
        "def add(a, b):  # 'a' and 'b' are parameters\n",
        "    return a + b\n",
        "\n",
        "# Arguments\n",
        "result = add(3, 5)  # '3' and '5' are arguments\n",
        "print(result)  # Output: 8"
      ],
      "metadata": {
        "colab": {
          "base_uri": "https://localhost:8080/"
        },
        "id": "2unqkZVzu_bf",
        "outputId": "432bd78b-0640-4d22-8e04-5fece9f8efbd"
      },
      "execution_count": null,
      "outputs": [
        {
          "output_type": "stream",
          "name": "stdout",
          "text": [
            "8\n"
          ]
        }
      ]
    },
    {
      "cell_type": "markdown",
      "source": [
        "3. What are the different ways to define and call a function in Python?\n",
        "\n",
        "  Defining:\n",
        "  Using the def keyword.\n",
        "  Using lambda for anonymous functions.\n",
        "\n",
        "  Calling:\n",
        "  Directly by name.\n",
        "  With positional, keyword, or default arguments.\n",
        "  \n",
        "  Example:"
      ],
      "metadata": {
        "id": "f2egTG17ve4u"
      }
    },
    {
      "cell_type": "code",
      "source": [
        "# Defining with def\n",
        "def multiply(a, b=2):  # Default argument\n",
        "    return a * b\n",
        "\n",
        "# Calling\n",
        "print(multiply(4))       # Positional argument, Output: 8\n",
        "print(multiply(a=3, b=5))  # Keyword arguments, Output: 15\n",
        "\n",
        "# Lambda function\n",
        "square = lambda x: x * x\n",
        "print(square(3))  # Output: 9"
      ],
      "metadata": {
        "colab": {
          "base_uri": "https://localhost:8080/"
        },
        "id": "K4RbPZPtvNzm",
        "outputId": "1e133e81-a6f1-4d0b-937a-9be9f20df64a"
      },
      "execution_count": null,
      "outputs": [
        {
          "output_type": "stream",
          "name": "stdout",
          "text": [
            "8\n",
            "15\n",
            "9\n"
          ]
        }
      ]
    },
    {
      "cell_type": "markdown",
      "source": [
        "4. What is the purpose of the return statement in a Python function?\n",
        "  \n",
        "  The return statement specifies the output of a function and terminates its execution.\n",
        "\n",
        "  Example:"
      ],
      "metadata": {
        "id": "EdXKm06iwB2O"
      }
    },
    {
      "cell_type": "code",
      "source": [
        "def square(num):\n",
        "    return num * num\n",
        "\n",
        "result = square(4)\n",
        "print(result)  # Output: 16"
      ],
      "metadata": {
        "colab": {
          "base_uri": "https://localhost:8080/"
        },
        "id": "Ldexc_q3v1Tf",
        "outputId": "61a5c93e-1c4e-4db4-96d3-2b4b17c45322"
      },
      "execution_count": null,
      "outputs": [
        {
          "output_type": "stream",
          "name": "stdout",
          "text": [
            "16\n"
          ]
        }
      ]
    },
    {
      "cell_type": "markdown",
      "source": [
        "5. What are iterators in Python and how do they differ from iterables?\n",
        "  \n",
        "  Iterator: An object with a __next__() method that returns data sequentially.\n",
        "  \n",
        "  Iterable: An object that can return an iterator using iter().\n",
        "  \n",
        "  Example:"
      ],
      "metadata": {
        "id": "VHQhzw2fwIIj"
      }
    },
    {
      "cell_type": "code",
      "source": [
        "# Iterable\n",
        "numbers = [1, 2, 3]  # List is an iterable\n",
        "iterator = iter(numbers)  # Converting iterable to iterator\n",
        "\n",
        "print(next(iterator))  # Output: 1\n",
        "print(next(iterator))  # Output: 2"
      ],
      "metadata": {
        "colab": {
          "base_uri": "https://localhost:8080/"
        },
        "id": "_Uta8avuwHTY",
        "outputId": "2681aa0e-f41c-45ea-95c4-6e8b1670b644"
      },
      "execution_count": null,
      "outputs": [
        {
          "output_type": "stream",
          "name": "stdout",
          "text": [
            "1\n",
            "2\n"
          ]
        }
      ]
    },
    {
      "cell_type": "markdown",
      "source": [
        "6. Explain the concept of generators in Python and how they are defined.\n",
        "  \n",
        "  Generators are functions that produce items one at a time using yield, instead of returning all items at once.\n",
        "\n",
        "  Example:"
      ],
      "metadata": {
        "id": "NWJ8FB5XwWt3"
      }
    },
    {
      "cell_type": "code",
      "source": [
        "def count_up_to(n):\n",
        "    count = 1\n",
        "    while count <= n:\n",
        "        yield count\n",
        "        count += 1\n",
        "\n",
        "for num in count_up_to(3):\n",
        "    print(num)\n",
        "# Output: 1, 2, 3"
      ],
      "metadata": {
        "colab": {
          "base_uri": "https://localhost:8080/"
        },
        "id": "O3E9XE-OwSE3",
        "outputId": "950c62df-17d4-4bb3-ae64-2e5a6667d640"
      },
      "execution_count": null,
      "outputs": [
        {
          "output_type": "stream",
          "name": "stdout",
          "text": [
            "1\n",
            "2\n",
            "3\n"
          ]
        }
      ]
    },
    {
      "cell_type": "markdown",
      "source": [
        "7. What are the advantages of using generators over regular functions?\n",
        "\n",
        "  Memory Efficiency: Generators do not store all items in memory.\n",
        "  \n",
        "  Lazy Evaluation: Items are produced only when needed.\n",
        "  \n",
        "  Example:"
      ],
      "metadata": {
        "id": "Dor4TPgjwluI"
      }
    },
    {
      "cell_type": "code",
      "source": [
        "# Generator\n",
        "def infinite_numbers():\n",
        "    num = 1\n",
        "    while True:\n",
        "        yield num\n",
        "        num += 1\n",
        "\n",
        "gen = infinite_numbers()\n",
        "print(next(gen))  # Output: 1\n",
        "print(next(gen))  # Output: 2"
      ],
      "metadata": {
        "colab": {
          "base_uri": "https://localhost:8080/"
        },
        "id": "IcvXroxOwcME",
        "outputId": "70bd74e7-2baf-4aec-d27d-56a2c1af7ec5"
      },
      "execution_count": null,
      "outputs": [
        {
          "output_type": "stream",
          "name": "stdout",
          "text": [
            "1\n",
            "2\n"
          ]
        }
      ]
    },
    {
      "cell_type": "markdown",
      "source": [
        "8. What is a lambda function in Python and when is it typically used?\n",
        "  \n",
        "  A lambda function is an anonymous function defined with the lambda keyword. It is typically used for short, throwaway functions.\n",
        "\n",
        "  Example:"
      ],
      "metadata": {
        "id": "xcEsbCbGwz5w"
      }
    },
    {
      "cell_type": "code",
      "source": [
        "# Lambda function\n",
        "add = lambda x, y: x + y\n",
        "print(add(3, 5))  # Output: 8\n",
        "\n",
        "# Use in sort\n",
        "pairs = [(1, 'one'), (2, 'two'), (3, 'three')]\n",
        "pairs.sort(key=lambda x: x[1])\n",
        "print(pairs)  # Output: [(1, 'one'), (3, 'three'), (2, 'two')]"
      ],
      "metadata": {
        "colab": {
          "base_uri": "https://localhost:8080/"
        },
        "id": "KvbDuExKwvNC",
        "outputId": "c4d224a7-855e-4a72-b211-37bd51422903"
      },
      "execution_count": null,
      "outputs": [
        {
          "output_type": "stream",
          "name": "stdout",
          "text": [
            "8\n",
            "[(1, 'one'), (3, 'three'), (2, 'two')]\n"
          ]
        }
      ]
    },
    {
      "cell_type": "markdown",
      "source": [
        "9. Explain the purpose and usage of the map() function in Python.\n",
        "  \n",
        "  The map() function applies a function to each item in an iterable and returns an iterator.\n",
        "\n",
        "  Example:"
      ],
      "metadata": {
        "id": "0iYxJPz5w8LL"
      }
    },
    {
      "cell_type": "code",
      "source": [
        "nums = [1, 2, 3]\n",
        "squared = map(lambda x: x ** 2, nums)\n",
        "print(list(squared))  # Output: [1, 4, 9]"
      ],
      "metadata": {
        "colab": {
          "base_uri": "https://localhost:8080/"
        },
        "id": "xtBMj7WQw5VV",
        "outputId": "a89e3fad-3a76-4213-864b-674c63d4bec4"
      },
      "execution_count": null,
      "outputs": [
        {
          "output_type": "stream",
          "name": "stdout",
          "text": [
            "[1, 4, 9]\n"
          ]
        }
      ]
    },
    {
      "cell_type": "markdown",
      "source": [
        "10. What is the difference between map(), reduce(), filter() and functions in Python?\n",
        "  \n",
        "  1.map():\n",
        "  Purpose: Applies a function to each item in an iterable (like a list) and returns a new iterable with the results.\n",
        "\n",
        "  Example:"
      ],
      "metadata": {
        "id": "hqde8XjWxseE"
      }
    },
    {
      "cell_type": "code",
      "source": [
        "nums = [1, 2, 3]\n",
        "squares = map(lambda x: x ** 2, nums)\n",
        "print(list(squares))  # Output: [1, 4, 9]"
      ],
      "metadata": {
        "colab": {
          "base_uri": "https://localhost:8080/"
        },
        "id": "3T4O8XcjxA4R",
        "outputId": "890bbedf-67c2-4e8e-99cb-bc224120fc8a"
      },
      "execution_count": null,
      "outputs": [
        {
          "output_type": "stream",
          "name": "stdout",
          "text": [
            "[1, 4, 9]\n"
          ]
        }
      ]
    },
    {
      "cell_type": "markdown",
      "source": [
        "2. reduce():\n",
        "  \n",
        "  Purpose: Applies a binary function cumulatively to the items of an iterable, reducing the iterable to a single value.\n",
        "\n",
        "  Example:"
      ],
      "metadata": {
        "id": "IsFMcgxqyFK7"
      }
    },
    {
      "cell_type": "code",
      "source": [
        "from functools import reduce\n",
        "nums = [1, 2, 3, 4]\n",
        "sum_of_nums = reduce(lambda x, y: x + y, nums)\n",
        "print(sum_of_nums)  # Output: 10"
      ],
      "metadata": {
        "colab": {
          "base_uri": "https://localhost:8080/"
        },
        "id": "uS7FAhaHyC6m",
        "outputId": "83461a44-40db-49b0-dcad-7e07a6c9ab20"
      },
      "execution_count": null,
      "outputs": [
        {
          "output_type": "stream",
          "name": "stdout",
          "text": [
            "10\n"
          ]
        }
      ]
    },
    {
      "cell_type": "markdown",
      "source": [
        "3. filter():\n",
        "  \n",
        "  Purpose: Filters elements from an iterable based on a function that returns True or False.\n",
        "\n",
        "  Example:"
      ],
      "metadata": {
        "id": "eX2pbcreyWrN"
      }
    },
    {
      "cell_type": "code",
      "source": [
        "nums = [1, 2, 3, 4, 5]\n",
        "evens = filter(lambda x: x % 2 == 0, nums)\n",
        "print(list(evens))  # Output: [2, 4]"
      ],
      "metadata": {
        "colab": {
          "base_uri": "https://localhost:8080/"
        },
        "id": "KCBojlH2yR6Q",
        "outputId": "097f89fd-74fa-43d0-e14a-ac2abc305b90"
      },
      "execution_count": null,
      "outputs": [
        {
          "output_type": "stream",
          "name": "stdout",
          "text": [
            "[2, 4]\n"
          ]
        }
      ]
    },
    {
      "cell_type": "markdown",
      "source": [
        "# **Practical Questions**"
      ],
      "metadata": {
        "id": "Y3ZQXH03222k"
      }
    },
    {
      "cell_type": "markdown",
      "source": [
        "1. Sum of even numbers from a list of numbers"
      ],
      "metadata": {
        "id": "YkHFwXJs27tY"
      }
    },
    {
      "cell_type": "code",
      "source": [
        "def sum_of_even_numbers(numbers):\n",
        "    return sum(num for num in numbers if num % 2 == 0)\n",
        "\n",
        "# Example usage:\n",
        "numbers_list = [1, 2, 3, 4, 5, 6]\n",
        "print(sum_of_even_numbers(numbers_list))  # Output: 12"
      ],
      "metadata": {
        "colab": {
          "base_uri": "https://localhost:8080/"
        },
        "id": "vT3fAlpZHq07",
        "outputId": "af3757c1-e211-48f3-b5aa-7b9aaf3b4677"
      },
      "execution_count": null,
      "outputs": [
        {
          "output_type": "stream",
          "name": "stdout",
          "text": [
            "12\n"
          ]
        }
      ]
    },
    {
      "cell_type": "markdown",
      "source": [
        "2. Reverse a string"
      ],
      "metadata": {
        "id": "_tcosBXOHxQI"
      }
    },
    {
      "cell_type": "code",
      "source": [
        "def reverse_string(s):\n",
        "    return s[::-1]\n",
        "\n",
        "# Example usage:\n",
        "string = \"hello\"\n",
        "print(reverse_string(string))  # Output: \"olleh\""
      ],
      "metadata": {
        "colab": {
          "base_uri": "https://localhost:8080/"
        },
        "id": "a_u2vM1CHsyg",
        "outputId": "27f6b8e4-ae9c-42bb-be3a-da7024b07f88"
      },
      "execution_count": null,
      "outputs": [
        {
          "output_type": "stream",
          "name": "stdout",
          "text": [
            "olleh\n"
          ]
        }
      ]
    },
    {
      "cell_type": "markdown",
      "source": [
        "3. Return squares of each number in a list"
      ],
      "metadata": {
        "id": "yK7eT10iH68b"
      }
    },
    {
      "cell_type": "code",
      "source": [
        "def get_squares(numbers):\n",
        "    return [num ** 2 for num in numbers]\n",
        "\n",
        "# Example usage:\n",
        "numbers_list = [1, 2, 3, 4]\n",
        "print(get_squares(numbers_list))  # Output: [1, 4, 9, 16]"
      ],
      "metadata": {
        "colab": {
          "base_uri": "https://localhost:8080/"
        },
        "id": "iGQ1mPxoH3zG",
        "outputId": "51e424e4-dc33-4d3c-f259-bf9402fdab2e"
      },
      "execution_count": null,
      "outputs": [
        {
          "output_type": "stream",
          "name": "stdout",
          "text": [
            "[1, 4, 9, 16]\n"
          ]
        }
      ]
    },
    {
      "cell_type": "markdown",
      "source": [
        "4. Check if numbers from 1 to 200 are prime:"
      ],
      "metadata": {
        "id": "a13BiTfaIGBl"
      }
    },
    {
      "cell_type": "code",
      "source": [
        "def is_prime(num):\n",
        "    if num <= 1:\n",
        "        return False\n",
        "    for i in range(2, int(num**0.5) + 1):\n",
        "        if num % i == 0:\n",
        "            return False\n",
        "    return True\n",
        "\n",
        "# Checking prime numbers from 1 to 200\n",
        "primes = [num for num in range(1, 201) if is_prime(num)]\n",
        "print(primes)"
      ],
      "metadata": {
        "colab": {
          "base_uri": "https://localhost:8080/"
        },
        "id": "hWpNjk-KH-6h",
        "outputId": "0a91c4b1-41a6-4c72-f496-901c75aab795"
      },
      "execution_count": null,
      "outputs": [
        {
          "output_type": "stream",
          "name": "stdout",
          "text": [
            "[2, 3, 5, 7, 11, 13, 17, 19, 23, 29, 31, 37, 41, 43, 47, 53, 59, 61, 67, 71, 73, 79, 83, 89, 97, 101, 103, 107, 109, 113, 127, 131, 137, 139, 149, 151, 157, 163, 167, 173, 179, 181, 191, 193, 197, 199]\n"
          ]
        }
      ]
    },
    {
      "cell_type": "markdown",
      "source": [
        "5. Fibonacci sequence generator:"
      ],
      "metadata": {
        "id": "oDECpVFEIObP"
      }
    },
    {
      "cell_type": "code",
      "source": [
        "class FibonacciGenerator:\n",
        "    def __init__(self, terms):\n",
        "        self.terms = terms\n",
        "        self.current, self.next = 0, 1\n",
        "\n",
        "    def __iter__(self):\n",
        "        return self\n",
        "\n",
        "    def __next__(self):\n",
        "        if self.terms <= 0:\n",
        "            raise StopIteration\n",
        "        self.terms -= 1\n",
        "        self.current, self.next = self.next, self.current + self.next\n",
        "        return self.current\n",
        "\n",
        "# Example usage:\n",
        "fib_gen = FibonacciGenerator(10)\n",
        "print(list(fib_gen))  # Output: [1, 1, 2, 3, 5, 8, 13, 21, 34, 55]"
      ],
      "metadata": {
        "colab": {
          "base_uri": "https://localhost:8080/"
        },
        "id": "wHYEuFiYIKBC",
        "outputId": "4fc64d0e-1a72-4aef-90a6-33e5152e3433"
      },
      "execution_count": null,
      "outputs": [
        {
          "output_type": "stream",
          "name": "stdout",
          "text": [
            "[1, 1, 2, 3, 5, 8, 13, 21, 34, 55]\n"
          ]
        }
      ]
    },
    {
      "cell_type": "markdown",
      "source": [
        "6. Generator function yielding powers of 2:"
      ],
      "metadata": {
        "id": "O8vslkERIaK4"
      }
    },
    {
      "cell_type": "code",
      "source": [
        "def powers_of_2(up_to_exponent):\n",
        "    for i in range(up_to_exponent + 1):\n",
        "        yield 2 ** i\n",
        "\n",
        "# Example usage:\n",
        "print(list(powers_of_2(5)))  # Output: [1, 2, 4, 8, 16, 32]"
      ],
      "metadata": {
        "colab": {
          "base_uri": "https://localhost:8080/"
        },
        "id": "_hOXy5TmISND",
        "outputId": "567b7d0c-9a7f-4e4c-a11d-9f86e67d871b"
      },
      "execution_count": null,
      "outputs": [
        {
          "output_type": "stream",
          "name": "stdout",
          "text": [
            "[1, 2, 4, 8, 16, 32]\n"
          ]
        }
      ]
    },
    {
      "cell_type": "markdown",
      "source": [
        "7. Generator function to read a file line by line:"
      ],
      "metadata": {
        "id": "h2lXzw9IIhHO"
      }
    },
    {
      "cell_type": "code",
      "source": [
        "def read_file_lines(filename):\n",
        "    with open(filename, 'r') as file:\n",
        "        for line in file:\n",
        "            yield line.strip()\n",
        "\n",
        "# Example usage:\n",
        "# for line in read_file_lines('example.txt'):\n",
        "#     print(line)"
      ],
      "metadata": {
        "id": "xHbFw5xcIc7X"
      },
      "execution_count": null,
      "outputs": []
    },
    {
      "cell_type": "markdown",
      "source": [
        "8. Lambda function to sort tuples by the second element:"
      ],
      "metadata": {
        "id": "9WmrGASjIqO2"
      }
    },
    {
      "cell_type": "code",
      "source": [
        "tuples_list = [(1, 'banana'), (3, 'apple'), (2, 'cherry')]\n",
        "sorted_tuples = sorted(tuples_list, key=lambda x: x[1])\n",
        "print(sorted_tuples)  # Output: [(3, 'apple'), (1, 'banana'), (2, 'cherry')]"
      ],
      "metadata": {
        "colab": {
          "base_uri": "https://localhost:8080/"
        },
        "id": "3FJ-MxJeIlu6",
        "outputId": "7dcab8a9-4ecb-48d0-b09e-7a4136d43a5b"
      },
      "execution_count": null,
      "outputs": [
        {
          "output_type": "stream",
          "name": "stdout",
          "text": [
            "[(3, 'apple'), (1, 'banana'), (2, 'cherry')]\n"
          ]
        }
      ]
    },
    {
      "cell_type": "markdown",
      "source": [
        "9. Map function to convert temperatures from Celsius to Fahrenheit:"
      ],
      "metadata": {
        "id": "KbSn99igIzsC"
      }
    },
    {
      "cell_type": "code",
      "source": [
        "def celsius_to_fahrenheit(celsius):\n",
        "    return celsius * 9/5 + 32\n",
        "\n",
        "celsius_temperatures = [0, 20, 30, 40]\n",
        "fahrenheit_temperatures = list(map(celsius_to_fahrenheit, celsius_temperatures))\n",
        "print(fahrenheit_temperatures)  # Output: [32.0, 68.0, 86.0, 104.0]"
      ],
      "metadata": {
        "colab": {
          "base_uri": "https://localhost:8080/"
        },
        "id": "Ue9sYrqDIveF",
        "outputId": "338dfeae-f2f8-4da0-e15e-e7e8b5a651e3"
      },
      "execution_count": null,
      "outputs": [
        {
          "output_type": "stream",
          "name": "stdout",
          "text": [
            "[32.0, 68.0, 86.0, 104.0]\n"
          ]
        }
      ]
    },
    {
      "cell_type": "markdown",
      "source": [
        "10. Filter function to remove vowels from a string:"
      ],
      "metadata": {
        "id": "z5k_1h-OI6e1"
      }
    },
    {
      "cell_type": "code",
      "source": [
        "def remove_vowels(s):\n",
        "    return ''.join(filter(lambda x: x.lower() not in 'aeiou', s))\n",
        "\n",
        "# Example usage:\n",
        "input_string = \"hello world\"\n",
        "print(remove_vowels(input_string))  # Output: \"hll wrld\""
      ],
      "metadata": {
        "colab": {
          "base_uri": "https://localhost:8080/"
        },
        "id": "THkjBpo9I2x3",
        "outputId": "5147fdc1-a17d-4052-8cea-a48ad79cde64"
      },
      "execution_count": null,
      "outputs": [
        {
          "output_type": "stream",
          "name": "stdout",
          "text": [
            "hll wrld\n"
          ]
        }
      ]
    },
    {
      "cell_type": "markdown",
      "source": [
        "11. Lambda and map for processing orders:"
      ],
      "metadata": {
        "id": "ctV8jQ26JE5R"
      }
    },
    {
      "cell_type": "code",
      "source": [
        "orders = [\n",
        "    (34587, \"Learning Python, Mark Lutz\", 4, 40.95),\n",
        "    (98762, \"Programming Python, Mark Lutz\", 3, 56.00),\n",
        "    (77226, \"Head First Python, Paul Barry\", 3, 32.95),\n",
        "    (88112, \"Einführung in Python3, Bernd Klein\", 3, 24.99)\n",
        "]\n",
        "\n",
        "def calculate_order(order):\n",
        "    order_number, title, quantity, price = order\n",
        "    total = quantity * price\n",
        "    if total < 100:\n",
        "        total += 10\n",
        "    return order_number, total\n",
        "\n",
        "total_order_values = list(map(calculate_order, orders))\n",
        "print(total_order_values)"
      ],
      "metadata": {
        "colab": {
          "base_uri": "https://localhost:8080/"
        },
        "id": "-8B0gVV7I9P4",
        "outputId": "2f145e59-3e17-4231-a7db-a70879c24fa9"
      },
      "execution_count": null,
      "outputs": [
        {
          "output_type": "stream",
          "name": "stdout",
          "text": [
            "[(34587, 163.8), (98762, 168.0), (77226, 108.85000000000001), (88112, 84.97)]\n"
          ]
        }
      ]
    },
    {
      "cell_type": "markdown",
      "source": [
        "This script processes the orders, calculates the total price for each, and adds a 10 unit increase for orders under 100."
      ],
      "metadata": {
        "id": "IYDvBLVoJYKs"
      }
    }
  ]
}