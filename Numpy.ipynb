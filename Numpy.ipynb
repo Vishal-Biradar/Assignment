{
  "nbformat": 4,
  "nbformat_minor": 0,
  "metadata": {
    "colab": {
      "provenance": []
    },
    "kernelspec": {
      "name": "python3",
      "display_name": "Python 3"
    },
    "language_info": {
      "name": "python"
    }
  },
  "cells": [
    {
      "cell_type": "markdown",
      "source": [
        "# **ASSIGNMENT**"
      ],
      "metadata": {
        "id": "LFslZiL1SulS"
      }
    },
    {
      "cell_type": "markdown",
      "source": [
        "# **Theoretical Questions**"
      ],
      "metadata": {
        "id": "T7WBHUiPS0Ka"
      }
    },
    {
      "cell_type": "markdown",
      "source": [
        "1. Purpose and Advantages of NumPy in Scientific Computing and Data Analysis\n",
        "Purpose:\n",
        "\n",
        "  NumPy (Numerical Python) is a library in Python that provides efficient and powerful tools for numerical computations. It forms the backbone of many scientific and data analysis workflows.\n",
        "\n",
        "  Advantages:\n",
        "\n",
        "  Efficient Storage: Uses contiguous memory blocks for storing data, making operations faster than Python lists.\n",
        "  \n",
        "  Vectorization: Eliminates the need for explicit loops by applying operations element-wise to entire arrays.\n",
        "  \n",
        "  Built-in Functions: Offers mathematical, logical, statistical, and Fourier transforms functions.\n",
        "  \n",
        "  Interoperability: Works seamlessly with other libraries like SciPy, Pandas, and Matplotlib.\n",
        "  \n",
        "  Support for Multi-dimensional Arrays: Easily handles multi-dimensional data structures."
      ],
      "metadata": {
        "id": "WxfI5ZahTBYH"
      }
    },
    {
      "cell_type": "markdown",
      "source": [
        "2. Comparison: np.mean() vs np.average()\n",
        "\n",
        "  Both functions compute the average of array elements but differ in functionality:\n",
        "  \n",
        "  np.mean():Calculates the arithmetic mean of elements. It treats all elements equally."
      ],
      "metadata": {
        "id": "5cKlfcP1Wdj2"
      }
    },
    {
      "cell_type": "code",
      "execution_count": null,
      "metadata": {
        "colab": {
          "base_uri": "https://localhost:8080/"
        },
        "id": "uK8_Ktm3SZT1",
        "outputId": "7e1d9dde-fd7b-43f1-f808-c8c8715a58c8"
      },
      "outputs": [
        {
          "output_type": "stream",
          "name": "stdout",
          "text": [
            "2.5\n"
          ]
        }
      ],
      "source": [
        "import numpy as np\n",
        "arr = np.array([1, 2, 3, 4])\n",
        "print(np.mean(arr))  # Output: 2.5"
      ]
    },
    {
      "cell_type": "markdown",
      "source": [
        "np.average():\n",
        "Allows weighted averages by specifying a weights parameter."
      ],
      "metadata": {
        "id": "mqXGjoQOXDmC"
      }
    },
    {
      "cell_type": "code",
      "source": [
        "weights = [1, 2, 3, 4]\n",
        "print(np.average(arr, weights=weights))  # Output: 3.0"
      ],
      "metadata": {
        "colab": {
          "base_uri": "https://localhost:8080/"
        },
        "id": "g9MuT3yLW__O",
        "outputId": "7d3e8637-1e93-4fbc-a792-63c14a3837d2"
      },
      "execution_count": null,
      "outputs": [
        {
          "output_type": "stream",
          "name": "stdout",
          "text": [
            "3.0\n"
          ]
        }
      ]
    },
    {
      "cell_type": "markdown",
      "source": [
        "When to use: Use np.mean() for uniform averaging and np.average() for weighted contexts."
      ],
      "metadata": {
        "id": "UzSq87GhXPJ5"
      }
    },
    {
      "cell_type": "markdown",
      "source": [
        "3. Reversing a NumPy Array\n",
        "  \n",
        "  1D Array:\n",
        "  Reverse using slicing ([::-1]):"
      ],
      "metadata": {
        "id": "diqHICDaXUih"
      }
    },
    {
      "cell_type": "code",
      "source": [
        "arr = np.array([1, 2, 3, 4])\n",
        "reversed_arr = arr[::-1]\n",
        "print(reversed_arr)  # Output: [4, 3, 2, 1]"
      ],
      "metadata": {
        "colab": {
          "base_uri": "https://localhost:8080/"
        },
        "id": "u09e7VY0XJ1L",
        "outputId": "a53b6fab-d405-4b28-b992-27bdf0534123"
      },
      "execution_count": null,
      "outputs": [
        {
          "output_type": "stream",
          "name": "stdout",
          "text": [
            "[4 3 2 1]\n"
          ]
        }
      ]
    },
    {
      "cell_type": "markdown",
      "source": [
        "2D Array:\n",
        "\n",
        "  Reverse rows: arr[::-1, :]\n",
        "  \n",
        "  Reverse columns: arr[:, ::-1]"
      ],
      "metadata": {
        "id": "Z8U4sXAkXj-e"
      }
    },
    {
      "cell_type": "code",
      "source": [
        "arr_2d = np.array([[1, 2], [3, 4], [5, 6]])\n",
        "print(arr_2d[::-1])   # Reverse rows\n",
        "print(arr_2d[:, ::-1])  # Reverse columns"
      ],
      "metadata": {
        "colab": {
          "base_uri": "https://localhost:8080/"
        },
        "id": "E-7iSQonXfFL",
        "outputId": "99d10f9b-bec1-46e1-9840-cd18a7d6e601"
      },
      "execution_count": null,
      "outputs": [
        {
          "output_type": "stream",
          "name": "stdout",
          "text": [
            "[[5 6]\n",
            " [3 4]\n",
            " [1 2]]\n",
            "[[2 1]\n",
            " [4 3]\n",
            " [6 5]]\n"
          ]
        }
      ]
    },
    {
      "cell_type": "markdown",
      "source": [
        "4. Determining Data Type in NumPy\n",
        "\n",
        "  Use the .dtype attribute to determine the data type."
      ],
      "metadata": {
        "id": "z5raQhFFXvsn"
      }
    },
    {
      "cell_type": "code",
      "source": [
        "arr = np.array([1.2, 3.4])\n",
        "print(arr.dtype)  # Output: float64"
      ],
      "metadata": {
        "colab": {
          "base_uri": "https://localhost:8080/"
        },
        "id": "i4JPO8vpXqGP",
        "outputId": "fd50db7f-3df2-4ba3-9b37-d1b8314dfabc"
      },
      "execution_count": null,
      "outputs": [
        {
          "output_type": "stream",
          "name": "stdout",
          "text": [
            "float64\n"
          ]
        }
      ]
    },
    {
      "cell_type": "markdown",
      "source": [
        "Importance:\n",
        "  \n",
        "  Memory Management: Data types like int32 or float64 define memory usage.\n",
        "  \n",
        "  Performance: Specific data types speed up numerical operations."
      ],
      "metadata": {
        "id": "CK5Vg_MyYHUr"
      }
    },
    {
      "cell_type": "markdown",
      "source": [
        "5. Defining ndarrays in NumPy\n",
        "\n",
        "  Definition:\n",
        "  An ndarray (N-dimensional array) is a fixed-size, multi-dimensional container for homogeneous data.\n",
        "\n",
        "  Key Features:\n",
        "\n",
        "    Supports element-wise operations.\n",
        "  \n",
        "    Efficient for large datasets.\n",
        "  \n",
        "    Has attributes like shape, size, dtype, and ndim.\n",
        "  \n",
        "  Difference from Python Lists:\n",
        "\n",
        "  Arrays are faster and consume less memory.\n",
        "  \n",
        "  Arrays support broadcasting; lists do not."
      ],
      "metadata": {
        "id": "PDe8VFMMYOAv"
      }
    },
    {
      "cell_type": "markdown",
      "source": [
        "6. Performance Benefits of NumPy Arrays Over Python Lists:\n",
        "  \n",
        "  Speed: NumPy arrays leverage optimized C implementations and vectorized operations.\n",
        "  \n",
        "  Memory Efficiency: Use a single data type for elements, avoiding Python's overhead.\n",
        "  \n",
        "  Batch Operations: Operate on entire datasets without loops."
      ],
      "metadata": {
        "id": "WMIVfKLoY02-"
      }
    },
    {
      "cell_type": "code",
      "source": [
        "import numpy as np\n",
        "arr = np.arange(1000000)\n",
        "list_ = list(range(1000000))\n",
        "%timeit arr * 2   # Faster\n",
        "%timeit [x * 2 for x in list_]  # Slower"
      ],
      "metadata": {
        "colab": {
          "base_uri": "https://localhost:8080/"
        },
        "id": "JadcVjTfX5dd",
        "outputId": "708f72ef-1d9a-4be8-9f26-f133a46d8a30"
      },
      "execution_count": null,
      "outputs": [
        {
          "output_type": "stream",
          "name": "stdout",
          "text": [
            "798 µs ± 18 µs per loop (mean ± std. dev. of 7 runs, 1000 loops each)\n",
            "93 ms ± 24 ms per loop (mean ± std. dev. of 7 runs, 10 loops each)\n"
          ]
        }
      ]
    },
    {
      "cell_type": "markdown",
      "source": [
        "7. vstack() vs hstack()\n",
        "\n",
        "  vstack(): Stacks arrays vertically."
      ],
      "metadata": {
        "id": "1MPcbokoZqRg"
      }
    },
    {
      "cell_type": "code",
      "source": [
        "a = np.array([1, 2])\n",
        "b = np.array([3, 4])\n",
        "print(np.vstack((a, b)))"
      ],
      "metadata": {
        "colab": {
          "base_uri": "https://localhost:8080/"
        },
        "id": "bg-6jsitZdV4",
        "outputId": "4b129012-4970-4497-cc45-12a863cc7c71"
      },
      "execution_count": null,
      "outputs": [
        {
          "output_type": "stream",
          "name": "stdout",
          "text": [
            "[[1 2]\n",
            " [3 4]]\n"
          ]
        }
      ]
    },
    {
      "cell_type": "markdown",
      "source": [
        "hstack(): Stacks arrays horizontally."
      ],
      "metadata": {
        "id": "6a-8yTsjZ0zJ"
      }
    },
    {
      "cell_type": "code",
      "source": [
        "print(np.hstack((a, b)))"
      ],
      "metadata": {
        "colab": {
          "base_uri": "https://localhost:8080/"
        },
        "id": "xHSEodnvZ2T4",
        "outputId": "e609c569-5561-48ba-b378-54f47e49e8ac"
      },
      "execution_count": null,
      "outputs": [
        {
          "output_type": "stream",
          "name": "stdout",
          "text": [
            "[1 2 3 4]\n"
          ]
        }
      ]
    },
    {
      "cell_type": "markdown",
      "source": [
        "8. fliplr() vs flipud()\n",
        "\n",
        "  fliplr(): Flips arrays horizontally."
      ],
      "metadata": {
        "id": "VmiEmYvNZ7wX"
      }
    },
    {
      "cell_type": "code",
      "source": [
        "arr = np.array([[1, 2], [3, 4]])\n",
        "print(np.fliplr(arr))"
      ],
      "metadata": {
        "colab": {
          "base_uri": "https://localhost:8080/"
        },
        "id": "Uo5gWKPPZwVj",
        "outputId": "7f487379-b88a-4620-e585-4ba290a2bb22"
      },
      "execution_count": null,
      "outputs": [
        {
          "output_type": "stream",
          "name": "stdout",
          "text": [
            "[[2 1]\n",
            " [4 3]]\n"
          ]
        }
      ]
    },
    {
      "cell_type": "markdown",
      "source": [
        "  flipud(): Flips arrays vertically."
      ],
      "metadata": {
        "id": "QQub_ubKaGGq"
      }
    },
    {
      "cell_type": "code",
      "source": [
        "print(np.flipud(arr))"
      ],
      "metadata": {
        "colab": {
          "base_uri": "https://localhost:8080/"
        },
        "id": "J0KXcE4WaDjT",
        "outputId": "a275b14d-de4c-4cb4-98fc-5b1c0fbee994"
      },
      "execution_count": null,
      "outputs": [
        {
          "output_type": "stream",
          "name": "stdout",
          "text": [
            "[[3 4]\n",
            " [1 2]]\n"
          ]
        }
      ]
    },
    {
      "cell_type": "markdown",
      "source": [
        "9. Functionality of array_split()\n",
        "  \n",
        "  Allows splitting arrays into sub-arrays. Handles uneven splits by varying sub-array sizes."
      ],
      "metadata": {
        "id": "RWC3iyyZaahh"
      }
    },
    {
      "cell_type": "code",
      "source": [
        "arr = np.array([1, 2, 3, 4, 5])\n",
        "print(np.array_split(arr, 3))"
      ],
      "metadata": {
        "colab": {
          "base_uri": "https://localhost:8080/"
        },
        "id": "62I2CXacaL3f",
        "outputId": "08eb6b45-3cad-4588-c740-3a8d62a1d4c1"
      },
      "execution_count": null,
      "outputs": [
        {
          "output_type": "stream",
          "name": "stdout",
          "text": [
            "[array([1, 2]), array([3, 4]), array([5])]\n"
          ]
        }
      ]
    },
    {
      "cell_type": "markdown",
      "source": [
        "10. Vectorization and Broadcasting in NumPy:\n",
        "  \n",
        "  Vectorization: Applies operations to entire arrays without loops."
      ],
      "metadata": {
        "id": "z7TZ2AmBamXB"
      }
    },
    {
      "cell_type": "code",
      "source": [
        "arr = np.array([1, 2, 3])\n",
        "print(arr * 2)  # Output: [2, 4, 6]"
      ],
      "metadata": {
        "colab": {
          "base_uri": "https://localhost:8080/"
        },
        "id": "h17nbTp7ai3K",
        "outputId": "f47865d2-1842-45c8-ee0a-65cc5b0d02d2"
      },
      "execution_count": null,
      "outputs": [
        {
          "output_type": "stream",
          "name": "stdout",
          "text": [
            "[2 4 6]\n"
          ]
        }
      ]
    },
    {
      "cell_type": "markdown",
      "source": [
        "Broadcasting: Automatically expands shapes for element-wise operations."
      ],
      "metadata": {
        "id": "luitfq7fa9Ap"
      }
    },
    {
      "cell_type": "code",
      "source": [
        "a = np.array([[1, 2], [3, 4]])\n",
        "b = np.array([10, 20])\n",
        "print(a + b)"
      ],
      "metadata": {
        "colab": {
          "base_uri": "https://localhost:8080/"
        },
        "id": "kXaXc-Eda0zm",
        "outputId": "143dfd35-d6d0-458a-8f13-6a59f680cfa8"
      },
      "execution_count": null,
      "outputs": [
        {
          "output_type": "stream",
          "name": "stdout",
          "text": [
            "[[11 22]\n",
            " [13 24]]\n"
          ]
        }
      ]
    },
    {
      "cell_type": "markdown",
      "source": [
        "Advantages: Reduces code complexity and improves computation speed."
      ],
      "metadata": {
        "id": "Gfu_l7q3bGl5"
      }
    },
    {
      "cell_type": "markdown",
      "source": [
        "# **Practical Questions**"
      ],
      "metadata": {
        "id": "RjZuzprkv3nj"
      }
    },
    {
      "cell_type": "markdown",
      "source": [
        "1. Create a 3x3 NumPy array with random integers between 1 and 100. Then, interchange its rows and columns."
      ],
      "metadata": {
        "id": "r0XTKwOFwAcO"
      }
    },
    {
      "cell_type": "code",
      "source": [
        "import numpy as np\n",
        "\n",
        "array1 = np.random.randint(1, 101, (3, 3))\n",
        "transposed_array1 = array1.T\n",
        "print(\"Original 3x3 array:\\n\", array1)\n",
        "print(\"Transposed array:\\n\", transposed_array1)"
      ],
      "metadata": {
        "colab": {
          "base_uri": "https://localhost:8080/"
        },
        "id": "neEuKlwNw_Un",
        "outputId": "98404d0c-278f-4ad4-9d0b-bb8963577678"
      },
      "execution_count": null,
      "outputs": [
        {
          "output_type": "stream",
          "name": "stdout",
          "text": [
            "Original 3x3 array:\n",
            " [[73 17 10]\n",
            " [94 51 62]\n",
            " [97 72 63]]\n",
            "Transposed array:\n",
            " [[73 94 97]\n",
            " [17 51 72]\n",
            " [10 62 63]]\n"
          ]
        }
      ]
    },
    {
      "cell_type": "markdown",
      "source": [
        "2. Generate a 1D NumPy array with 10 elements. Reshape it into a 2x5 array, then into a 5x2 array."
      ],
      "metadata": {
        "id": "z6BdwsgxxNS3"
      }
    },
    {
      "cell_type": "code",
      "source": [
        "import numpy as np\n",
        "\n",
        "array2 = np.arange(10)\n",
        "array2_2x5 = array2.reshape(2, 5)\n",
        "array2_5x2 = array2_2x5.reshape(5, 2)\n",
        "print(\"1D array:\", array2)\n",
        "print(\"2x5 array:\\n\", array2_2x5)\n",
        "print(\"5x2 array:\\n\", array2_5x2)"
      ],
      "metadata": {
        "colab": {
          "base_uri": "https://localhost:8080/"
        },
        "id": "iKkE9W5hxBJ2",
        "outputId": "3bf9c540-f632-49bb-8c75-6d663258f02f"
      },
      "execution_count": null,
      "outputs": [
        {
          "output_type": "stream",
          "name": "stdout",
          "text": [
            "1D array: [0 1 2 3 4 5 6 7 8 9]\n",
            "2x5 array:\n",
            " [[0 1 2 3 4]\n",
            " [5 6 7 8 9]]\n",
            "5x2 array:\n",
            " [[0 1]\n",
            " [2 3]\n",
            " [4 5]\n",
            " [6 7]\n",
            " [8 9]]\n"
          ]
        }
      ]
    },
    {
      "cell_type": "markdown",
      "source": [
        "3. Create a 4x4 NumPy array with random float values. Add a border of zeros around it."
      ],
      "metadata": {
        "id": "gkfBfon4xZG_"
      }
    },
    {
      "cell_type": "code",
      "source": [
        "import numpy as np\n",
        "\n",
        "array3 = np.random.random((4, 4))\n",
        "array3_with_border = np.pad(array3, pad_width=1, mode='constant', constant_values=0)\n",
        "print(\"4x4 array:\\n\", array3)\n",
        "print(\"Array with border:\\n\", array3_with_border)"
      ],
      "metadata": {
        "colab": {
          "base_uri": "https://localhost:8080/"
        },
        "id": "-QqxT5kbxRCC",
        "outputId": "b45e1047-b7f7-4ab6-c0b6-52d19288e3b0"
      },
      "execution_count": null,
      "outputs": [
        {
          "output_type": "stream",
          "name": "stdout",
          "text": [
            "4x4 array:\n",
            " [[0.9233668  0.01430489 0.68066311 0.43351654]\n",
            " [0.85300356 0.24212319 0.82677859 0.05018673]\n",
            " [0.874968   0.1696915  0.06822058 0.11708947]\n",
            " [0.9253063  0.14862794 0.77933228 0.11381926]]\n",
            "Array with border:\n",
            " [[0.         0.         0.         0.         0.         0.        ]\n",
            " [0.         0.9233668  0.01430489 0.68066311 0.43351654 0.        ]\n",
            " [0.         0.85300356 0.24212319 0.82677859 0.05018673 0.        ]\n",
            " [0.         0.874968   0.1696915  0.06822058 0.11708947 0.        ]\n",
            " [0.         0.9253063  0.14862794 0.77933228 0.11381926 0.        ]\n",
            " [0.         0.         0.         0.         0.         0.        ]]\n"
          ]
        }
      ]
    },
    {
      "cell_type": "markdown",
      "source": [
        "4. Using NumPy, create an array of integers from 10 to 60 with a step of 5."
      ],
      "metadata": {
        "id": "ffdUrN8XxmzL"
      }
    },
    {
      "cell_type": "code",
      "source": [
        "import numpy as np\n",
        "\n",
        "array4 = np.arange(10, 61, 5)\n",
        "print(\"Array from 10 to 60 with step 5:\", array4)"
      ],
      "metadata": {
        "colab": {
          "base_uri": "https://localhost:8080/"
        },
        "id": "Kb9GiL5qxatX",
        "outputId": "06377613-93d0-4d5e-fe00-c4fa7096d177"
      },
      "execution_count": null,
      "outputs": [
        {
          "output_type": "stream",
          "name": "stdout",
          "text": [
            "Array from 10 to 60 with step 5: [10 15 20 25 30 35 40 45 50 55 60]\n"
          ]
        }
      ]
    },
    {
      "cell_type": "markdown",
      "source": [
        "5. Create a NumPy array of strings ['python', 'numpy', 'pandas']. Apply different case transformations."
      ],
      "metadata": {
        "id": "ijcN9Yi5x1C_"
      }
    },
    {
      "cell_type": "code",
      "source": [
        "import numpy as np\n",
        "\n",
        "array5 = np.array(['python', 'numpy', 'pandas'])\n",
        "uppercase = np.char.upper(array5)\n",
        "lowercase = np.char.lower(array5)\n",
        "titlecase = np.char.title(array5)\n",
        "print(\"Original array:\", array5)\n",
        "print(\"Uppercase:\", uppercase)\n",
        "print(\"Lowercase:\", lowercase)\n",
        "print(\"Title case:\", titlecase)"
      ],
      "metadata": {
        "colab": {
          "base_uri": "https://localhost:8080/"
        },
        "id": "6yk4JfkFxuwv",
        "outputId": "3ea48669-bef9-45e7-d888-eda5251f7e36"
      },
      "execution_count": null,
      "outputs": [
        {
          "output_type": "stream",
          "name": "stdout",
          "text": [
            "Original array: ['python' 'numpy' 'pandas']\n",
            "Uppercase: ['PYTHON' 'NUMPY' 'PANDAS']\n",
            "Lowercase: ['python' 'numpy' 'pandas']\n",
            "Title case: ['Python' 'Numpy' 'Pandas']\n"
          ]
        }
      ]
    },
    {
      "cell_type": "markdown",
      "source": [
        "6. Generate a NumPy array of words. Insert a space between each character of every word."
      ],
      "metadata": {
        "id": "M9cmB2bix_zN"
      }
    },
    {
      "cell_type": "code",
      "source": [
        "import numpy as np\n",
        "\n",
        "array6 = np.array(['python', 'numpy', 'pandas'])\n",
        "spaced_array = np.char.join(' ', array6)\n",
        "print(\"Original array:\", array6)\n",
        "print(\"Spaced array:\", spaced_array)"
      ],
      "metadata": {
        "colab": {
          "base_uri": "https://localhost:8080/"
        },
        "id": "uKd4MuYpx52n",
        "outputId": "c19d174a-ce1b-406d-c8b7-c57d1a14eef8"
      },
      "execution_count": null,
      "outputs": [
        {
          "output_type": "stream",
          "name": "stdout",
          "text": [
            "Original array: ['python' 'numpy' 'pandas']\n",
            "Spaced array: ['p y t h o n' 'n u m p y' 'p a n d a s']\n"
          ]
        }
      ]
    },
    {
      "cell_type": "markdown",
      "source": [
        "7. Create two 2D NumPy arrays and perform element-wise addition, subtraction, multiplication, and division."
      ],
      "metadata": {
        "id": "_2-ahUKCyMQf"
      }
    },
    {
      "cell_type": "code",
      "source": [
        "import numpy as np\n",
        "\n",
        "array7_a = np.array([[1, 2], [3, 4]])\n",
        "array7_b = np.array([[5, 6], [7, 8]])\n",
        "addition = array7_a + array7_b\n",
        "subtraction = array7_a - array7_b\n",
        "multiplication = array7_a * array7_b\n",
        "division = array7_a / array7_b\n",
        "print(\"Array A:\\n\", array7_a)\n",
        "print(\"Array B:\\n\", array7_b)\n",
        "print(\"Addition:\\n\", addition)\n",
        "print(\"Subtraction:\\n\", subtraction)\n",
        "print(\"Multiplication:\\n\", multiplication)\n",
        "print(\"Division:\\n\", division)"
      ],
      "metadata": {
        "colab": {
          "base_uri": "https://localhost:8080/"
        },
        "id": "sIdmO-h4yCei",
        "outputId": "7594bc4d-4913-41d6-9503-87342473a3b8"
      },
      "execution_count": null,
      "outputs": [
        {
          "output_type": "stream",
          "name": "stdout",
          "text": [
            "Array A:\n",
            " [[1 2]\n",
            " [3 4]]\n",
            "Array B:\n",
            " [[5 6]\n",
            " [7 8]]\n",
            "Addition:\n",
            " [[ 6  8]\n",
            " [10 12]]\n",
            "Subtraction:\n",
            " [[-4 -4]\n",
            " [-4 -4]]\n",
            "Multiplication:\n",
            " [[ 5 12]\n",
            " [21 32]]\n",
            "Division:\n",
            " [[0.2        0.33333333]\n",
            " [0.42857143 0.5       ]]\n"
          ]
        }
      ]
    },
    {
      "cell_type": "markdown",
      "source": [
        "8. Use NumPy to create a 5x5 identity matrix, then extract its diagonal elements."
      ],
      "metadata": {
        "id": "blmqh5njyWVx"
      }
    },
    {
      "cell_type": "code",
      "source": [
        "import numpy as np\n",
        "\n",
        "identity_matrix = np.eye(5)\n",
        "diagonal_elements = np.diag(identity_matrix)\n",
        "print(\"5x5 Identity matrix:\\n\", identity_matrix)\n",
        "print(\"Diagonal elements:\", diagonal_elements)"
      ],
      "metadata": {
        "colab": {
          "base_uri": "https://localhost:8080/"
        },
        "id": "yvbgtXmXyPQk",
        "outputId": "8040f167-c2e8-407e-907e-60a8a0bcbeef"
      },
      "execution_count": null,
      "outputs": [
        {
          "output_type": "stream",
          "name": "stdout",
          "text": [
            "5x5 Identity matrix:\n",
            " [[1. 0. 0. 0. 0.]\n",
            " [0. 1. 0. 0. 0.]\n",
            " [0. 0. 1. 0. 0.]\n",
            " [0. 0. 0. 1. 0.]\n",
            " [0. 0. 0. 0. 1.]]\n",
            "Diagonal elements: [1. 1. 1. 1. 1.]\n"
          ]
        }
      ]
    },
    {
      "cell_type": "markdown",
      "source": [
        "9. Generate a NumPy array of 100 random integers between 0 and 1000. Find and display all prime numbers."
      ],
      "metadata": {
        "id": "fb2-HspiymSn"
      }
    },
    {
      "cell_type": "code",
      "source": [
        "import numpy as np\n",
        "\n",
        "def is_prime(num):\n",
        "    if num < 2:\n",
        "        return False\n",
        "    for i in range(2, int(num**0.5) + 1):\n",
        "        if num % i == 0:\n",
        "            return False\n",
        "    return True\n",
        "\n",
        "array9 = np.random.randint(0, 1001, 100)\n",
        "primes = np.array([num for num in array9 if is_prime(num)])\n",
        "print(\"Original array:\", array9)\n",
        "print(\"Prime numbers:\", primes)"
      ],
      "metadata": {
        "colab": {
          "base_uri": "https://localhost:8080/"
        },
        "id": "FWfNUhTaybmm",
        "outputId": "e057a1a3-a4a7-4b59-a14e-a648edbdf829"
      },
      "execution_count": null,
      "outputs": [
        {
          "output_type": "stream",
          "name": "stdout",
          "text": [
            "Original array: [476 947 283  33 868 249 578 844 701 426  18 485 659 213 171 703 727 744\n",
            " 629 594 857 923 425 592 597 992  77  29 215 358 611 154 549 234 926 918\n",
            " 135 856 947 491 442 306 945 465  66 887 327 481 132  85 234  77 302 285\n",
            " 662 271  95 270 466 680 112 135 223  48 281 189 528 302 338 902 489 613\n",
            " 931  60 643 870 400 724  33 900 129  75 223 965 411 572 226 362 918 637\n",
            " 786 556 810  53 808 932 100 382 197 716]\n",
            "Prime numbers: [947 283 701 659 727 857  29 947 491 887 271 223 281 613 643 223  53 197]\n"
          ]
        }
      ]
    },
    {
      "cell_type": "markdown",
      "source": [
        "10. Create a NumPy array representing daily temperatures for a month. Calculate and display the weekly averages."
      ],
      "metadata": {
        "id": "f2TtmCSizKUa"
      }
    },
    {
      "cell_type": "code",
      "source": [
        "import numpy as np\n",
        "\n",
        "# Generate daily temperatures for a 30-day month\n",
        "temperatures = np.random.randint(20, 40, 30)  # Random temperatures between 20 and 40\n",
        "\n",
        "# Reshape the array into 4 weeks of 7 days\n",
        "temperatures_for_4_weeks = temperatures[:28].reshape(4, 7)  # Use only the first 28 days\n",
        "weekly_averages = temperatures_for_4_weeks.mean(axis=1)\n",
        "\n",
        "# Output results\n",
        "print(\"Daily temperatures for the month (30 days):\\n\", temperatures)\n",
        "print(\"Temperatures for 4 full weeks (28 days):\\n\", temperatures_for_4_weeks)\n",
        "print(\"Weekly averages:\", weekly_averages)\n"
      ],
      "metadata": {
        "colab": {
          "base_uri": "https://localhost:8080/"
        },
        "id": "x_LYhxcayuJ_",
        "outputId": "629972af-4fe8-4f19-dc7d-32c6efa5c9c3"
      },
      "execution_count": null,
      "outputs": [
        {
          "output_type": "stream",
          "name": "stdout",
          "text": [
            "Daily temperatures for the month (30 days):\n",
            " [23 38 34 39 30 21 26 39 22 24 33 34 30 21 27 32 21 39 34 28 23 22 25 28\n",
            " 28 38 38 30 37 35]\n",
            "Temperatures for 4 full weeks (28 days):\n",
            " [[23 38 34 39 30 21 26]\n",
            " [39 22 24 33 34 30 21]\n",
            " [27 32 21 39 34 28 23]\n",
            " [22 25 28 28 38 38 30]]\n",
            "Weekly averages: [30.14285714 29.         29.14285714 29.85714286]\n"
          ]
        }
      ]
    }
  ]
}