{
  "nbformat": 4,
  "nbformat_minor": 0,
  "metadata": {
    "colab": {
      "provenance": []
    },
    "kernelspec": {
      "name": "python3",
      "display_name": "Python 3"
    },
    "language_info": {
      "name": "python"
    }
  },
  "cells": [
    {
      "cell_type": "markdown",
      "source": [
        "# **ASSIGNMENT**"
      ],
      "metadata": {
        "id": "AVIiUUDzn_EI"
      }
    },
    {
      "cell_type": "markdown",
      "source": [
        "1. Five Key Concepts of Object-Oriented Programming (OOP):\n",
        "  \n",
        "  Encapsulation: Restricting access to certain parts of an object and bundling data with methods that operate on that data. This helps to protect the integrity of data by preventing unauthorized access or modification.\n",
        "  \n",
        "  Abstraction: Hiding the complex details of implementation and showing only the essential features of an object. It simplifies the model by providing an abstract view and a clear interface to interact with.\n",
        "  \n",
        "  Inheritance: Enables the creation of new classes based on existing classes. This promotes code reuse, where the new class inherits properties and behaviors from the parent class.\n",
        "  \n",
        "  Polymorphism: The ability of different objects to respond to the same method call in different ways. This allows flexibility and makes code more dynamic and maintainable.\n",
        "  \n",
        "  Classes and Objects: Central to OOP, classes define the blueprint for objects, and objects are instances of classes that have attributes and methods defined by the class."
      ],
      "metadata": {
        "id": "CZJAzzv7oE1j"
      }
    },
    {
      "cell_type": "markdown",
      "source": [
        "2. Python Class for a 'Car' with Attributes and Method:"
      ],
      "metadata": {
        "id": "bC03WTNYqvvU"
      }
    },
    {
      "cell_type": "code",
      "execution_count": null,
      "metadata": {
        "colab": {
          "base_uri": "https://localhost:8080/"
        },
        "id": "JHnXAORnnx6N",
        "outputId": "86b55c66-ba49-4add-ea40-04a6aae2d2db"
      },
      "outputs": [
        {
          "output_type": "stream",
          "name": "stdout",
          "text": [
            "Car Info: 2020 Toyota Camry\n"
          ]
        }
      ],
      "source": [
        "class Car:\n",
        "    def __init__(self, make, model, year):\n",
        "        self.make = make\n",
        "        self.model = model\n",
        "        self.year = year\n",
        "\n",
        "    def display_info(self):\n",
        "        print(f\"Car Info: {self.year} {self.make} {self.model}\")\n",
        "\n",
        "# Example usage\n",
        "car1 = Car('Toyota', 'Camry', 2020)\n",
        "car1.display_info()"
      ]
    },
    {
      "cell_type": "markdown",
      "source": [
        "3. Difference Between Instance Methods and Class Methods:\n",
        "  \n",
        "  Instance Methods: These operate on instance-specific data (i.e., self). They must have a reference to an object (using self).\n",
        "  \n",
        "  Class Methods: These operate on class-level data and do not require an instance to be called. They use the @classmethod decorator and take cls as the first parameter.\n",
        "  \n",
        "  Example:"
      ],
      "metadata": {
        "id": "2a--5XV_q6Pt"
      }
    },
    {
      "cell_type": "code",
      "source": [
        "class MyClass:\n",
        "    class_var = \"Class Variable\"\n",
        "\n",
        "    def __init__(self, value):\n",
        "        self.value = value\n",
        "\n",
        "    def instance_method(self):\n",
        "        print(f\"Instance method called with value: {self.value}\")\n",
        "\n",
        "    @classmethod\n",
        "    def class_method(cls):\n",
        "        print(f\"Class method called, class variable: {cls.class_var}\")\n",
        "\n",
        "obj = MyClass(10)\n",
        "obj.instance_method()    # Instance method\n",
        "obj.class_method()       # Class method"
      ],
      "metadata": {
        "colab": {
          "base_uri": "https://localhost:8080/"
        },
        "id": "gq8WZzlzq2Bu",
        "outputId": "40f8997a-07d3-4541-b910-b0ca55c2a960"
      },
      "execution_count": null,
      "outputs": [
        {
          "output_type": "stream",
          "name": "stdout",
          "text": [
            "Instance method called with value: 10\n",
            "Class method called, class variable: Class Variable\n"
          ]
        }
      ]
    },
    {
      "cell_type": "markdown",
      "source": [
        "4. Method Overloading in Python:\n",
        "  \n",
        "  Python does not support method overloading in the traditional sense like languages such as Java or C++. Instead, you can define multiple methods with default parameters or by using variable-length arguments (*args).\n",
        "\n",
        "  Example:"
      ],
      "metadata": {
        "id": "G4Wnl5SyrQLZ"
      }
    },
    {
      "cell_type": "code",
      "source": [
        "class Calculator:\n",
        "    def add(self, a, b=None):\n",
        "        if b is None:\n",
        "            return a\n",
        "        return a + b\n",
        "\n",
        "calc = Calculator()\n",
        "print(calc.add(5))    # Method with one argument\n",
        "print(calc.add(5, 10))    # Method with two arguments"
      ],
      "metadata": {
        "colab": {
          "base_uri": "https://localhost:8080/"
        },
        "id": "auBDvklHrGb0",
        "outputId": "17892998-7353-4f6f-fe13-059abc11dc96"
      },
      "execution_count": null,
      "outputs": [
        {
          "output_type": "stream",
          "name": "stdout",
          "text": [
            "5\n",
            "15\n"
          ]
        }
      ]
    },
    {
      "cell_type": "markdown",
      "source": [
        "5. Three Types of Access Modifiers in Python:\n",
        "  \n",
        "  Public: No restrictions; accessible from anywhere.\n",
        "  \n",
        "  Protected: Denoted by a single underscore _; accessible within the class and subclasses.\n",
        "  \n",
        "  Private: Denoted by a double underscore __; accessible only within the class.\n",
        "  \n",
        "  Example:"
      ],
      "metadata": {
        "id": "c7uClDwRrftF"
      }
    },
    {
      "cell_type": "code",
      "source": [
        "class Example:\n",
        "    def __init__(self):\n",
        "        self.public_var = \"Public\"\n",
        "        self._protected_var = \"Protected\"\n",
        "        self.__private_var = \"Private\"\n",
        "\n",
        "    def show_vars(self):\n",
        "        print(self.public_var)\n",
        "        print(self._protected_var)\n",
        "        print(self.__private_var)\n",
        "\n",
        "obj = Example()\n",
        "obj.show_vars()"
      ],
      "metadata": {
        "colab": {
          "base_uri": "https://localhost:8080/"
        },
        "id": "lGSkPWC-rcJn",
        "outputId": "9af20f40-6669-4424-9e9e-9637e2bb6fee"
      },
      "execution_count": null,
      "outputs": [
        {
          "output_type": "stream",
          "name": "stdout",
          "text": [
            "Public\n",
            "Protected\n",
            "Private\n"
          ]
        }
      ]
    },
    {
      "cell_type": "markdown",
      "source": [
        "6. Five Types of Inheritance in Python:\n",
        "  \n",
        "  Single Inheritance: One class inherits from a single parent class.\n",
        "  \n",
        "  Multiple Inheritance: A class can inherit from multiple parent classes.\n",
        "  \n",
        "  Multilevel Inheritance: A class inherits from a child class, forming a chain of inheritance.\n",
        "  \n",
        "  Hierarchical Inheritance: Multiple child classes inherit from a single parent class.\n",
        "  \n",
        "  Hybrid Inheritance: A combination of multiple types of inheritance.\n",
        "  \n",
        "  Example of Multiple Inheritance:"
      ],
      "metadata": {
        "id": "5huyl2cwrx4A"
      }
    },
    {
      "cell_type": "code",
      "source": [
        "class Parent1:\n",
        "    def method1(self):\n",
        "        print(\"Method from Parent1\")\n",
        "\n",
        "class Parent2:\n",
        "    def method2(self):\n",
        "        print(\"Method from Parent2\")\n",
        "\n",
        "class Child(Parent1, Parent2):\n",
        "    def method3(self):\n",
        "        print(\"Method from Child\")\n",
        "\n",
        "obj = Child()\n",
        "obj.method1()\n",
        "obj.method2()\n",
        "obj.method3()"
      ],
      "metadata": {
        "colab": {
          "base_uri": "https://localhost:8080/"
        },
        "id": "4R_agHZJrrV1",
        "outputId": "46bfc2bd-d721-4dcc-9960-2d887ae6e274"
      },
      "execution_count": null,
      "outputs": [
        {
          "output_type": "stream",
          "name": "stdout",
          "text": [
            "Method from Parent1\n",
            "Method from Parent2\n",
            "Method from Child\n"
          ]
        }
      ]
    },
    {
      "cell_type": "markdown",
      "source": [
        "7. Method Resolution Order (MRO) in Python:\n",
        "  \n",
        "  MRO defines the order in which base classes are searched when accessing attributes or methods in a class hierarchy. Python uses C3 linearization for method resolution.\n",
        "\n",
        "  Example:"
      ],
      "metadata": {
        "id": "8vrclSAvsBpV"
      }
    },
    {
      "cell_type": "code",
      "source": [
        "class A:\n",
        "    def show(self):\n",
        "        print(\"A\")\n",
        "\n",
        "class B(A):\n",
        "    def show(self):\n",
        "        print(\"B\")\n",
        "\n",
        "class C(A):\n",
        "    def show(self):\n",
        "        print(\"C\")\n",
        "\n",
        "class D(B, C):\n",
        "    pass\n",
        "\n",
        "obj = D()\n",
        "obj.show()  # Prints \"B\" due to MRO\n",
        "print(D.mro())  # Prints the MRO: [D, B, C, A, object]"
      ],
      "metadata": {
        "colab": {
          "base_uri": "https://localhost:8080/"
        },
        "id": "Xn0Csmt6r9xg",
        "outputId": "25643acd-2825-4ae3-d248-a55de832e6a9"
      },
      "execution_count": null,
      "outputs": [
        {
          "output_type": "stream",
          "name": "stdout",
          "text": [
            "B\n",
            "[<class '__main__.D'>, <class '__main__.B'>, <class '__main__.C'>, <class '__main__.A'>, <class 'object'>]\n"
          ]
        }
      ]
    },
    {
      "cell_type": "markdown",
      "source": [
        "8. Abstract Base Class 'Shape' with Abstract Method:"
      ],
      "metadata": {
        "id": "b_GHbYnCsML_"
      }
    },
    {
      "cell_type": "code",
      "source": [
        "from abc import ABC, abstractmethod\n",
        "\n",
        "class Shape(ABC):\n",
        "    @abstractmethod\n",
        "    def area(self):\n",
        "        pass\n",
        "\n",
        "class Circle(Shape):\n",
        "    def __init__(self, radius):\n",
        "        self.radius = radius\n",
        "\n",
        "    def area(self):\n",
        "        return 3.14159 * self.radius ** 2\n",
        "\n",
        "class Rectangle(Shape):\n",
        "    def __init__(self, width, height):\n",
        "        self.width = width\n",
        "        self.height = height\n",
        "\n",
        "    def area(self):\n",
        "        return self.width * self.height\n",
        "\n",
        "# Example usage\n",
        "circle = Circle(5)\n",
        "rectangle = Rectangle(4, 6)\n",
        "\n",
        "print(f\"Circle area: {circle.area()}\")\n",
        "print(f\"Rectangle area: {rectangle.area()}\")"
      ],
      "metadata": {
        "colab": {
          "base_uri": "https://localhost:8080/"
        },
        "id": "a2yErht-sHVN",
        "outputId": "4d51913c-553c-4af7-cec1-ffd183acf3ed"
      },
      "execution_count": null,
      "outputs": [
        {
          "output_type": "stream",
          "name": "stdout",
          "text": [
            "Circle area: 78.53975\n",
            "Rectangle area: 24\n"
          ]
        }
      ]
    },
    {
      "cell_type": "markdown",
      "source": [
        "9. Demonstrating Polymorphism:"
      ],
      "metadata": {
        "id": "fvo8XtgesV09"
      }
    },
    {
      "cell_type": "code",
      "source": [
        "def print_area(shape):\n",
        "    print(f\"Area: {shape.area()}\")\n",
        "\n",
        "class Circle:\n",
        "    def __init__(self, radius):\n",
        "        self.radius = radius\n",
        "\n",
        "    def area(self):\n",
        "        return 3.14159 * self.radius ** 2\n",
        "\n",
        "class Rectangle:\n",
        "    def __init__(self, width, height):\n",
        "        self.width = width\n",
        "        self.height = height\n",
        "\n",
        "    def area(self):\n",
        "        return self.width * self.height\n",
        "\n",
        "circle = Circle(5)\n",
        "rectangle = Rectangle(4, 6)\n",
        "\n",
        "print_area(circle)       # Circle\n",
        "print_area(rectangle)    # Rectangle"
      ],
      "metadata": {
        "colab": {
          "base_uri": "https://localhost:8080/"
        },
        "id": "n6TS1m2QsR-5",
        "outputId": "bb61d128-45dc-4ee3-d170-59b6dcfeee42"
      },
      "execution_count": null,
      "outputs": [
        {
          "output_type": "stream",
          "name": "stdout",
          "text": [
            "Area: 78.53975\n",
            "Area: 24\n"
          ]
        }
      ]
    },
    {
      "cell_type": "markdown",
      "source": [
        "10. Encapsulation in a BankAccount Class:"
      ],
      "metadata": {
        "id": "9YNo6xvpsbbC"
      }
    },
    {
      "cell_type": "code",
      "source": [
        "class BankAccount:\n",
        "    def __init__(self, account_number, balance):\n",
        "        self.__account_number = account_number  # Private attribute\n",
        "        self.__balance = balance  # Private attribute\n",
        "\n",
        "    def deposit(self, amount):\n",
        "        if amount > 0:\n",
        "            self.__balance += amount\n",
        "            print(f\"Deposited {amount}. New balance: {self.__balance}\")\n",
        "        else:\n",
        "            print(\"Invalid deposit amount.\")\n",
        "\n",
        "    def withdraw(self, amount):\n",
        "        if amount > 0 and amount <= self.__balance:\n",
        "            self.__balance -= amount\n",
        "            print(f\"Withdrawn {amount}. New balance: {self.__balance}\")\n",
        "        else:\n",
        "            print(\"Invalid withdrawal amount.\")\n",
        "\n",
        "    def get_balance(self):\n",
        "        return self.__balance\n",
        "\n",
        "# Example usage\n",
        "account = BankAccount('12345', 1000)\n",
        "account.deposit(500)\n",
        "account.withdraw(300)\n",
        "print(f\"Current balance: {account.get_balance()}\")"
      ],
      "metadata": {
        "colab": {
          "base_uri": "https://localhost:8080/"
        },
        "id": "au3irgAusYw1",
        "outputId": "9d511ac9-f1f9-496e-d424-07b456aecbfd"
      },
      "execution_count": null,
      "outputs": [
        {
          "output_type": "stream",
          "name": "stdout",
          "text": [
            "Deposited 500. New balance: 1500\n",
            "Withdrawn 300. New balance: 1200\n",
            "Current balance: 1200\n"
          ]
        }
      ]
    },
    {
      "cell_type": "markdown",
      "source": [
        "11. Overriding __str__ and __add__ Magic Methods:\n",
        "  \n",
        "  __str__: Defines the string representation of the object.\n",
        "  \n",
        "  __add__: Defines how two objects of the class can be added.\n",
        "  \n",
        "  Example:"
      ],
      "metadata": {
        "id": "RdaE56ybsnUG"
      }
    },
    {
      "cell_type": "code",
      "source": [
        "class MyNumber:\n",
        "    def __init__(self, value):\n",
        "        self.value = value\n",
        "\n",
        "    def __str__(self):\n",
        "        return f\"MyNumber({self.value})\"\n",
        "\n",
        "    def __add__(self, other):\n",
        "        return MyNumber(self.value + other.value)\n",
        "\n",
        "num1 = MyNumber(10)\n",
        "num2 = MyNumber(20)\n",
        "sum_num = num1 + num2\n",
        "\n",
        "print(str(num1))   # MyNumber(10)\n",
        "print(str(sum_num))  # MyNumber(30)"
      ],
      "metadata": {
        "colab": {
          "base_uri": "https://localhost:8080/"
        },
        "id": "nM9o9IjhsfwV",
        "outputId": "bf8c23bd-180f-4e32-cc58-2c41c37bc467"
      },
      "execution_count": null,
      "outputs": [
        {
          "output_type": "stream",
          "name": "stdout",
          "text": [
            "MyNumber(10)\n",
            "MyNumber(30)\n"
          ]
        }
      ]
    },
    {
      "cell_type": "markdown",
      "source": [
        "12. Decorator to Measure Execution Time:"
      ],
      "metadata": {
        "id": "qCEP7AEztDSw"
      }
    },
    {
      "cell_type": "code",
      "source": [
        "import time\n",
        "\n",
        "def timer_decorator(func):\n",
        "    def wrapper(*args, **kwargs):\n",
        "        start_time = time.time()\n",
        "        result = func(*args, **kwargs)\n",
        "        end_time = time.time()\n",
        "        print(f\"Execution time: {end_time - start_time:.4f} seconds\")\n",
        "        return result\n",
        "    return wrapper\n",
        "\n",
        "@timer_decorator\n",
        "def sample_function():\n",
        "    total = 0\n",
        "    for i in range(1000000):\n",
        "        total += i\n",
        "    return total\n",
        "\n",
        "sample_function()  # Calls the decorated function"
      ],
      "metadata": {
        "colab": {
          "base_uri": "https://localhost:8080/"
        },
        "id": "sRztC-J6s8Ay",
        "outputId": "8b9fdc41-54c4-4958-815d-ae104c0f4532"
      },
      "execution_count": null,
      "outputs": [
        {
          "output_type": "stream",
          "name": "stdout",
          "text": [
            "Execution time: 0.1183 seconds\n"
          ]
        },
        {
          "output_type": "execute_result",
          "data": {
            "text/plain": [
              "499999500000"
            ]
          },
          "metadata": {},
          "execution_count": 11
        }
      ]
    },
    {
      "cell_type": "markdown",
      "source": [
        "13. Diamond Problem in Multiple Inheritance:\n",
        "  \n",
        "  The diamond problem occurs when a class inherits from two classes that both inherit from a common ancestor. It can lead to ambiguity in method resolution.\n",
        "\n",
        "  Python resolves it using MRO (Method Resolution Order).\n",
        "\n",
        "  Example:"
      ],
      "metadata": {
        "id": "P_zgbSNQtIu3"
      }
    },
    {
      "cell_type": "code",
      "source": [
        "class A:\n",
        "    def method(self):\n",
        "        print(\"Method from A\")\n",
        "\n",
        "class B(A):\n",
        "    pass\n",
        "\n",
        "class C(A):\n",
        "    pass\n",
        "\n",
        "class D(B, C):\n",
        "    pass\n",
        "\n",
        "obj = D()\n",
        "obj.method()  # Resolves to A due to MRO"
      ],
      "metadata": {
        "colab": {
          "base_uri": "https://localhost:8080/"
        },
        "id": "evcij3_ZtFpu",
        "outputId": "9306aed2-a3c4-4dd0-b827-25437788cf6c"
      },
      "execution_count": null,
      "outputs": [
        {
          "output_type": "stream",
          "name": "stdout",
          "text": [
            "Method from A\n"
          ]
        }
      ]
    },
    {
      "cell_type": "markdown",
      "source": [
        "14. Class Method to Track Instances:"
      ],
      "metadata": {
        "id": "PKQMTQ93tXTq"
      }
    },
    {
      "cell_type": "code",
      "source": [
        "class MyClass:\n",
        "    instance_count = 0\n",
        "\n",
        "    def __init__(self):\n",
        "        MyClass.instance_count += 1\n",
        "\n",
        "    @classmethod\n",
        "    def get_instance_count(cls):\n",
        "        return cls.instance_count\n",
        "\n",
        "# Example usage\n",
        "obj1 = MyClass()\n",
        "obj2 = MyClass()\n",
        "print(MyClass.get_instance_count())  # Outputs 2"
      ],
      "metadata": {
        "colab": {
          "base_uri": "https://localhost:8080/"
        },
        "id": "u46Nr2QktP2m",
        "outputId": "36fef4e3-b9bf-4305-bbe7-56c851381f42"
      },
      "execution_count": null,
      "outputs": [
        {
          "output_type": "stream",
          "name": "stdout",
          "text": [
            "2\n"
          ]
        }
      ]
    },
    {
      "cell_type": "markdown",
      "source": [
        "15. Static Method to Check Leap Year:"
      ],
      "metadata": {
        "id": "TxJFWRRite8c"
      }
    },
    {
      "cell_type": "code",
      "source": [
        "class DateUtils:\n",
        "    @staticmethod\n",
        "    def is_leap_year(year):\n",
        "        if year % 4 == 0:\n",
        "            if year % 100 == 0:\n",
        "                if year % 400 == 0:\n",
        "                    return True\n",
        "                else:\n",
        "                    return False\n",
        "            return True\n",
        "        return False\n",
        "\n",
        "# Example usage\n",
        "print(DateUtils.is_leap_year(2020))  # True\n",
        "print(DateUtils.is_leap_year(2021))  # False"
      ],
      "metadata": {
        "colab": {
          "base_uri": "https://localhost:8080/"
        },
        "id": "8NqJHcufta8S",
        "outputId": "20c50641-875e-46c9-fe1f-d8a22f465186"
      },
      "execution_count": null,
      "outputs": [
        {
          "output_type": "stream",
          "name": "stdout",
          "text": [
            "True\n",
            "False\n"
          ]
        }
      ]
    }
  ]
}