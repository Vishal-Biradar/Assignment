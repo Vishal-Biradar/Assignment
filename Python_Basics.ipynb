{
  "nbformat": 4,
  "nbformat_minor": 0,
  "metadata": {
    "colab": {
      "provenance": []
    },
    "kernelspec": {
      "name": "python3",
      "display_name": "Python 3"
    },
    "language_info": {
      "name": "python"
    }
  },
  "cells": [
    {
      "cell_type": "markdown",
      "source": [
        "**ASSIGNMENT**"
      ],
      "metadata": {
        "id": "yu6-2xFtf76w"
      }
    },
    {
      "cell_type": "markdown",
      "source": [
        "1.Explain the key features of Python that make it a popular choice for programming.\n",
        "\n",
        "a. **Easy to Learn and Use**: Simple and readable syntax.\n",
        "\n",
        "b. **Versatile**: Supports various programming model (e.g., procedural, object-oriented, functional,web development,ML algorithms).\n",
        "\n",
        "c. **Vast Libraries**: Offers a wide range of libraries and frameworks for different tasks (e.g., web development, data science).\n",
        "\n",
        "d. **Cross-Platform Compatibility**: Runs on different operating systems like Windows, macOS, and Linux.\n",
        "\n",
        "e. **Interpreted Language**: Runs code line by line, making it easier to debug and test."
      ],
      "metadata": {
        "id": "O6Kb0iovgAIS"
      }
    },
    {
      "cell_type": "markdown",
      "source": [
        "2.Describe the role of predefined keywords in Python and provide examples of how they are used in a program.\n",
        "\n",
        "Predefined keywords in Python are reserved words that have special meanings and functions. They are used to define the syntax and structure of Python programs. You cannot use these keywords as variable names, function names, or identifiers.\n",
        "\n",
        "Some keywods are:\n",
        "\n",
        "if: Used for conditional statements.\n",
        "\n",
        "elif: Short for \"else if,\" used for additional conditions.\n",
        "\n",
        "else: Follows an if statement to define an alternative condition.\n",
        "\n",
        "for: Used to create a loop that iterates over a sequence.\n",
        "\n",
        "while: Used to create a loop that continues as long as a condition is true.\n"
      ],
      "metadata": {
        "id": "Pc6osROMkk_d"
      }
    },
    {
      "cell_type": "code",
      "source": [
        "#Example program for keywords\n",
        "x = 10\n",
        "if x > 5:\n",
        "    print(\"x is greater than 5\")\n",
        "else:\n",
        "    print(\"x is less than or equal to 5\")\n"
      ],
      "metadata": {
        "colab": {
          "base_uri": "https://localhost:8080/"
        },
        "id": "G1I-3ellqgcB",
        "outputId": "847f0ed5-17db-4a47-d1b4-f9d3bb889070"
      },
      "execution_count": null,
      "outputs": [
        {
          "output_type": "stream",
          "name": "stdout",
          "text": [
            "x is greater than 5\n"
          ]
        }
      ]
    },
    {
      "cell_type": "code",
      "source": [
        "# for loop\n",
        "for i in range(1, 6):\n",
        "    print(i)"
      ],
      "metadata": {
        "colab": {
          "base_uri": "https://localhost:8080/"
        },
        "id": "SfUMw89Cqp77",
        "outputId": "9463cee4-2ab7-4573-8076-6e32160dd864"
      },
      "execution_count": null,
      "outputs": [
        {
          "output_type": "stream",
          "name": "stdout",
          "text": [
            "1\n",
            "2\n",
            "3\n",
            "4\n",
            "5\n"
          ]
        }
      ]
    },
    {
      "cell_type": "markdown",
      "source": [
        "3.Compare and contrast mutable and immutable objects in Python with examples.\n",
        "\n",
        "Mutable Objects: Mutable objects can be changed after their creation.\n",
        "\n",
        "Examples: Lists, dictionaries, sets, etc.\n"
      ],
      "metadata": {
        "id": "EZKDU_JUrGo0"
      }
    },
    {
      "cell_type": "code",
      "source": [
        "# So here we are modifying or changing the list\n",
        "my_list = [1, 2, 3]\n",
        "print(\"Original List:\", my_list)\n",
        "\n",
        "my_list[2]=4\n",
        "print(\"Modified List:\", my_list)\n"
      ],
      "metadata": {
        "colab": {
          "base_uri": "https://localhost:8080/"
        },
        "id": "B2wj1NPrsIrM",
        "outputId": "096df928-d29d-400b-832e-d14a534167a3"
      },
      "execution_count": null,
      "outputs": [
        {
          "output_type": "stream",
          "name": "stdout",
          "text": [
            "Original List: [1, 2, 3]\n",
            "Modified List: [1, 2, 4]\n"
          ]
        }
      ]
    },
    {
      "cell_type": "markdown",
      "source": [
        "Immutable Objects:Immutable objects cannot be changed after their creation.\n",
        "\n",
        "Examples: Strings, tuples.\n"
      ],
      "metadata": {
        "id": "CaAljOXVt0_Y"
      }
    },
    {
      "cell_type": "code",
      "source": [
        "# Creating a tuple\n",
        "my_tuple = (1, 2, 3, 4)\n",
        "print(\"Tuple:\", my_tuple)\n",
        "\n",
        "#Raises an error\n",
        "my_tuple[2] = 5\n"
      ],
      "metadata": {
        "colab": {
          "base_uri": "https://localhost:8080/",
          "height": 193
        },
        "id": "BMcPy-_Yu35k",
        "outputId": "2b8a87d4-8a8e-4d87-f5fc-11ce46008b9c"
      },
      "execution_count": null,
      "outputs": [
        {
          "output_type": "stream",
          "name": "stdout",
          "text": [
            "Tuple: (1, 2, 3, 4)\n"
          ]
        },
        {
          "output_type": "error",
          "ename": "TypeError",
          "evalue": "'tuple' object does not support item assignment",
          "traceback": [
            "\u001b[0;31m---------------------------------------------------------------------------\u001b[0m",
            "\u001b[0;31mTypeError\u001b[0m                                 Traceback (most recent call last)",
            "\u001b[0;32m<ipython-input-8-d5de0d7a582d>\u001b[0m in \u001b[0;36m<cell line: 6>\u001b[0;34m()\u001b[0m\n\u001b[1;32m      4\u001b[0m \u001b[0;34m\u001b[0m\u001b[0m\n\u001b[1;32m      5\u001b[0m \u001b[0;31m#Raises an error\u001b[0m\u001b[0;34m\u001b[0m\u001b[0;34m\u001b[0m\u001b[0m\n\u001b[0;32m----> 6\u001b[0;31m \u001b[0mmy_tuple\u001b[0m\u001b[0;34m[\u001b[0m\u001b[0;36m2\u001b[0m\u001b[0;34m]\u001b[0m \u001b[0;34m=\u001b[0m \u001b[0;36m5\u001b[0m\u001b[0;34m\u001b[0m\u001b[0;34m\u001b[0m\u001b[0m\n\u001b[0m",
            "\u001b[0;31mTypeError\u001b[0m: 'tuple' object does not support item assignment"
          ]
        }
      ]
    },
    {
      "cell_type": "markdown",
      "source": [
        "4.Discuss the different types of operators in Python and provide examples of how they are used.\n",
        "\n",
        "1. **Arithmetic Operators**:Used for mathematical calculations.\n",
        "\n",
        "   operators: =,-,/,*,//\n",
        "2. **Comparison Operators**:Used to compare values.\n",
        "\n",
        "   operators: ==,!=,<,>,<=,>=\n",
        "3. **Logical Operators**:Used to combine conditional statements.\n",
        "   \n",
        "   operators: and,or,not\n",
        "4. **Assignment Operators**: Used to assign values to variables.\n",
        "\n",
        "   operators: =,+=,-=,*=,/=,//=,etc.\n",
        "\n",
        "5. **Bitwise Operators**: Used for bitwise operations on integers.\n",
        "\n",
        "   operators: &,|,^,~,etc.\n",
        "6. **Membership Operators**: Used to test for membership in sequences (like lists or strings).\n",
        "\n",
        "  operators: in, not in\n",
        "7. **Identity Operators**: Used to check if two variables refer to the same object.\n",
        "\n",
        "  operators: is, is not\n",
        "  "
      ],
      "metadata": {
        "id": "zMkcu-PVwKj4"
      }
    },
    {
      "cell_type": "code",
      "source": [
        "#Examples of all operators\n",
        "# Arithmetic Operators\n",
        "a = 10\n",
        "b = 5\n",
        "print(\"Addition:\", a + b)       # Output: 15\n",
        "print(\"Subtraction:\", a - b)    # Output: 5\n",
        "print(\"Multiplication:\", a * b) # Output: 50\n",
        "print(\"Division:\", a / b)       # Output: 2.0\n",
        "\n",
        "# Comparison Operators\n",
        "print(\"Equal:\", a == b)         # Output: False\n",
        "print(\"Not Equal:\", a != b)     # Output: True\n",
        "print(\"Greater Than:\", a > b)   # Output: True\n",
        "\n",
        "# Logical Operators\n",
        "print(\"Logical AND:\", (a > 5) and (b < 10)) # Output: True\n",
        "print(\"Logical OR:\", (a > 5) or (b > 10))   # Output: True\n",
        "\n",
        "# Assignment Operators\n",
        "x = 10\n",
        "x += 5  # Increment x by 5\n",
        "print(\"Assignment (+=):\", x)    # Output: 15\n",
        "\n",
        "# Bitwise Operators\n",
        "c = 4  # Binary: 0100\n",
        "d = 5  # Binary: 0101\n",
        "print(\"Bitwise AND:\", c & d)    # Output: 4\n",
        "print(\"Bitwise OR:\", c | d)     # Output: 5\n",
        "\n",
        "# Membership Operators\n",
        "my_list = [1, 2, 3, 4]\n",
        "print(\"Is 2 in the list?\", 2 in my_list)    # Output: True\n",
        "print(\"Is 5 not in the list?\", 5 not in my_list) # Output: True\n",
        "\n",
        "# Identity Operators\n",
        "e = [1, 2, 3]\n",
        "f = [1, 2, 3]\n",
        "g = e\n",
        "print(\"e is g:\", e is g)       # Output: True (same object)\n",
        "print(\"e is f:\", e is f)       # Output: False (different objects)\n",
        "print(\"e == f:\", e == f)       # Output: True (same values)\n"
      ],
      "metadata": {
        "id": "Pg3hblZzu5La",
        "colab": {
          "base_uri": "https://localhost:8080/"
        },
        "outputId": "3401443a-868d-476f-e679-268d73bc9728"
      },
      "execution_count": null,
      "outputs": [
        {
          "output_type": "stream",
          "name": "stdout",
          "text": [
            "Addition: 15\n",
            "Subtraction: 5\n",
            "Multiplication: 50\n",
            "Division: 2.0\n",
            "Equal: False\n",
            "Not Equal: True\n",
            "Greater Than: True\n",
            "Logical AND: True\n",
            "Logical OR: True\n",
            "Assignment (+=): 15\n",
            "Bitwise AND: 4\n",
            "Bitwise OR: 5\n",
            "Is 2 in the list? True\n",
            "Is 5 not in the list? True\n",
            "e is g: True\n",
            "e is f: False\n",
            "e == f: True\n"
          ]
        }
      ]
    },
    {
      "cell_type": "markdown",
      "source": [
        "5.Explain the concept of type casting in Python with examples.\n",
        "\n",
        "Type casting in Python is the process of converting one data type into another. It’s useful when you want to perform operations that require a specific type. Python provides built-in functions for this purpose.\n",
        "\n",
        "There are two types of Type Casting in Python:\n",
        "\n",
        "\n",
        "1.   Implicit Type Conversion\n",
        "2.   Explicit Type Conversion\n",
        "\n",
        "1.**Implicit Type Conversion**:\n",
        "In this method, Python converts the datatype into another datatype automatically. Users don’t have to involve in this process.\n",
        "\n",
        "Examples:"
      ],
      "metadata": {
        "id": "93HMlTXnCS1B"
      }
    },
    {
      "cell_type": "code",
      "source": [
        "# Python program to demonstrate\n",
        "# implicit type Casting\n",
        "\n",
        "# Python automatically converts\n",
        "# a to int\n",
        "a = 7\n",
        "print(type(a))\n",
        "\n",
        "# Python automatically converts\n",
        "# b to float\n",
        "b = 3.0\n",
        "print(type(b))\n",
        "\n",
        "# Python automatically converts\n",
        "# c to float as it is a float addition\n",
        "c = a + b\n",
        "print(c)\n",
        "print(type(c))\n",
        "\n",
        "# Python automatically converts\n",
        "# d to float as it is a float multiplication\n",
        "d = a * b\n",
        "print(d)\n",
        "print(type(d))\n"
      ],
      "metadata": {
        "colab": {
          "base_uri": "https://localhost:8080/"
        },
        "id": "OtGzibYk4OUN",
        "outputId": "8f0d2400-ce1f-4ebc-f861-890885e477c1"
      },
      "execution_count": 1,
      "outputs": [
        {
          "output_type": "stream",
          "name": "stdout",
          "text": [
            "<class 'int'>\n",
            "<class 'float'>\n",
            "10.0\n",
            "<class 'float'>\n",
            "21.0\n",
            "<class 'float'>\n"
          ]
        }
      ]
    },
    {
      "cell_type": "markdown",
      "source": [
        "2.**Explicit Type Conversion**:\n",
        "In this method, Python needs user involvement to convert the variable data type into the required data type.\n",
        "\n",
        "Examples"
      ],
      "metadata": {
        "id": "-RZkFUtW4kbp"
      }
    },
    {
      "cell_type": "code",
      "source": [
        "#Converting an integer to a float:\n",
        "x = 5\n",
        "y = float(x)  # Converts x to a float\n",
        "print(y)\n",
        "print(type(y))"
      ],
      "metadata": {
        "colab": {
          "base_uri": "https://localhost:8080/"
        },
        "id": "V87twv5QBADZ",
        "outputId": "ef3f7f3b-fa96-4146-cdee-e5eaa0460a64"
      },
      "execution_count": null,
      "outputs": [
        {
          "output_type": "stream",
          "name": "stdout",
          "text": [
            "5.0\n",
            "<class 'float'>\n"
          ]
        }
      ]
    },
    {
      "cell_type": "code",
      "source": [
        "#Converting a string to an integer:\n",
        "num_str = \"10\"\n",
        "num_int = int(num_str)  # Converts num_str to an integer\n",
        "print(num_int)\n",
        "print(type(num_int))"
      ],
      "metadata": {
        "colab": {
          "base_uri": "https://localhost:8080/"
        },
        "id": "Y2qE-4MQDrQK",
        "outputId": "1d6bdeae-9c60-4309-8dfd-2914b967338d"
      },
      "execution_count": null,
      "outputs": [
        {
          "output_type": "stream",
          "name": "stdout",
          "text": [
            "10\n",
            "<class 'int'>\n"
          ]
        }
      ]
    },
    {
      "cell_type": "code",
      "source": [
        "#Converting an integer to a string:\n",
        "num = 42\n",
        "num_str = str(num)  # Converts num to a string\n",
        "print(num_str)\n",
        "print(type(num_str))"
      ],
      "metadata": {
        "colab": {
          "base_uri": "https://localhost:8080/"
        },
        "id": "Mso3KHhJD6hi",
        "outputId": "d6869cf0-062d-4bec-847f-4565b318a44a"
      },
      "execution_count": null,
      "outputs": [
        {
          "output_type": "stream",
          "name": "stdout",
          "text": [
            "42\n",
            "<class 'str'>\n"
          ]
        }
      ]
    },
    {
      "cell_type": "code",
      "source": [
        "#Converting a float to an integer:\n",
        "num_float = 3.14\n",
        "num_int = int(num_float)  # Converts num_float to an integer (truncates decimal part)\n",
        "print(num_int)\n",
        "print(type(num_int))"
      ],
      "metadata": {
        "colab": {
          "base_uri": "https://localhost:8080/"
        },
        "id": "anfBuoWqEXci",
        "outputId": "f145bacc-1547-4312-9950-057936f44563"
      },
      "execution_count": null,
      "outputs": [
        {
          "output_type": "stream",
          "name": "stdout",
          "text": [
            "3\n",
            "<class 'int'>\n"
          ]
        }
      ]
    },
    {
      "cell_type": "markdown",
      "source": [
        "6.How do conditional statements work in Python? Illustrate with examples\n",
        "\n",
        "Conditional statements in Python allow you to execute certain parts of code based on whether a condition is true or false. The most common conditional statements are if, elif (else if), and else.\n"
      ],
      "metadata": {
        "id": "aX8MV-BNFGOo"
      }
    },
    {
      "cell_type": "code",
      "source": [
        "#EXAMPLE\n",
        "x = 10\n",
        "\n",
        "if x > 5:\n",
        "    print(\"x is greater than 5\")\n",
        "elif x == 5:\n",
        "    print(\"x is equal to 5\")\n",
        "else:\n",
        "    print(\"x is less than 5\")\n"
      ],
      "metadata": {
        "colab": {
          "base_uri": "https://localhost:8080/"
        },
        "id": "xBWPPgTzEsSJ",
        "outputId": "f44eb629-3acc-4da0-d026-335b957422d6"
      },
      "execution_count": null,
      "outputs": [
        {
          "output_type": "stream",
          "name": "stdout",
          "text": [
            "x is greater than 5\n"
          ]
        }
      ]
    },
    {
      "cell_type": "markdown",
      "source": [
        "Explanation:\n",
        "1. if: Checks if x > 5. If true, it prints \"x is greater than 5\".\n",
        "2. elif: Checks if x is exactly 5 (only runs if the previous if was false).\n",
        "3. else: Runs if none of the above conditions are true."
      ],
      "metadata": {
        "id": "1m33qhXfG5B4"
      }
    },
    {
      "cell_type": "code",
      "source": [
        "#Nested if example\n",
        "number = 15\n",
        "if number > 0:  # First condition\n",
        "    print(\"Positive number\")\n",
        "\n",
        "    # Nested if statement\n",
        "    if number > 10:\n",
        "        print(\"Number is greater than 10\")\n",
        "    else:\n",
        "        print(\"Number is 10 or less\")\n",
        "\n",
        "elif number == 0:  # Second condition\n",
        "    print(\"Zero\")\n",
        "\n",
        "else:  # Final case if all above are false\n",
        "    print(\"Negative number\")\n"
      ],
      "metadata": {
        "colab": {
          "base_uri": "https://localhost:8080/"
        },
        "id": "wA4_FGAGHRJ2",
        "outputId": "3c1a5928-62d3-4978-d62f-a03001f3e505"
      },
      "execution_count": null,
      "outputs": [
        {
          "output_type": "stream",
          "name": "stdout",
          "text": [
            "Positive number\n",
            "Number is greater than 10\n"
          ]
        }
      ]
    },
    {
      "cell_type": "markdown",
      "source": [
        "7.Describe the different types of loops in Python and their use cases with examples.\n",
        "\n",
        "Python has two main types of loops: for loops and while loops. Each type is used for different situations.\n",
        "\n",
        "1. for Loop\n",
        "\n",
        "   Use Case: When you know the number of iterations or need to iterate over a sequence (like a list, tuple, string, or range).\n",
        "Example:"
      ],
      "metadata": {
        "id": "RaMeNT4qJfEt"
      }
    },
    {
      "cell_type": "code",
      "source": [
        "# for loop to print each item in a list\n",
        "numbers = [1, 2, 3, 4, 5]\n",
        "for num in numbers:\n",
        "    print(num)"
      ],
      "metadata": {
        "colab": {
          "base_uri": "https://localhost:8080/"
        },
        "id": "faCh3klVH6Au",
        "outputId": "c1c66fb9-e405-49df-d6cd-23e8a6fd25c4"
      },
      "execution_count": null,
      "outputs": [
        {
          "output_type": "stream",
          "name": "stdout",
          "text": [
            "1\n",
            "2\n",
            "3\n",
            "4\n",
            "5\n"
          ]
        }
      ]
    },
    {
      "cell_type": "markdown",
      "source": [
        "2. while Loop\n",
        "\n",
        "   Use Case: When you want to repeat a block of code as long as a condition is true. Useful when the number of iterations is not known.Example:\n"
      ],
      "metadata": {
        "id": "aVMiYyLsLZ9i"
      }
    },
    {
      "cell_type": "code",
      "source": [
        "# while loop to print numbers until a condition is met\n",
        "count = 1\n",
        "while count <= 5:\n",
        "    print(count)\n",
        "    count += 1\n"
      ],
      "metadata": {
        "colab": {
          "base_uri": "https://localhost:8080/"
        },
        "id": "ozfq5zEKLV7W",
        "outputId": "70caab7c-2225-4d02-b5bc-32cdc4fab10f"
      },
      "execution_count": null,
      "outputs": [
        {
          "output_type": "stream",
          "name": "stdout",
          "text": [
            "1\n",
            "2\n",
            "3\n",
            "4\n",
            "5\n"
          ]
        }
      ]
    },
    {
      "cell_type": "markdown",
      "source": [
        "3. Nested Loops\n",
        "\n",
        "  Loops can also be nested within each other when you want to loop through multiple levels (e.g., rows and columns).\n",
        "Example"
      ],
      "metadata": {
        "id": "7v8X3etjL85L"
      }
    },
    {
      "cell_type": "code",
      "source": [
        "#Nested loops\n",
        "for i in range(3):\n",
        "    for j in range(2):\n",
        "        print(f\"i: {i}, j: {j}\")"
      ],
      "metadata": {
        "colab": {
          "base_uri": "https://localhost:8080/"
        },
        "id": "lTInurtmLvUP",
        "outputId": "9ad8e97f-b5c5-474c-d86d-29b34a07ef6d"
      },
      "execution_count": null,
      "outputs": [
        {
          "output_type": "stream",
          "name": "stdout",
          "text": [
            "i: 0, j: 0\n",
            "i: 0, j: 1\n",
            "i: 1, j: 0\n",
            "i: 1, j: 1\n",
            "i: 2, j: 0\n",
            "i: 2, j: 1\n"
          ]
        }
      ]
    }
  ]
}